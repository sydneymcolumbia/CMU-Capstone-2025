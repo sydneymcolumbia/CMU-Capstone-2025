{
 "cells": [
  {
   "cell_type": "markdown",
   "metadata": {},
   "source": [
    "train tes6 aplut "
   ]
  },
  {
   "cell_type": "code",
   "execution_count": 7,
   "metadata": {},
   "outputs": [
    {
     "name": "stdout",
     "output_type": "stream",
     "text": [
      "Dataset split complete! Train: 4119, Val: 1030\n"
     ]
    }
   ],
   "source": [
    "import os\n",
    "import random\n",
    "import shutil\n",
    "\n",
    "# Path to your dataset\n",
    "base_path = r\"C:\\Users\\taylo\\Documents\\personal\\Masters\\Capstone\\Data\\export-mock-attack-dataset\"\n",
    "image_dir = os.path.join(base_path, \"images\", \"val\")\n",
    "label_dir = os.path.join(base_path, \"labels\", \"val\")\n",
    "\n",
    "# Output directories for the split\n",
    "train_image_dir = os.path.join(base_path, \"images\", \"train\")\n",
    "val_image_dir = os.path.join(base_path, \"images\", \"val\")\n",
    "train_label_dir = os.path.join(base_path, \"labels\", \"train\")\n",
    "val_label_dir = os.path.join(base_path, \"labels\", \"val\")\n",
    "\n",
    "# Create directories if they don't exist\n",
    "os.makedirs(train_image_dir, exist_ok=True)\n",
    "os.makedirs(val_image_dir, exist_ok=True)\n",
    "os.makedirs(train_label_dir, exist_ok=True)\n",
    "os.makedirs(val_label_dir, exist_ok=True)\n",
    "\n",
    "# List all image files\n",
    "image_files = [f for f in os.listdir(image_dir) if f.endswith(('.jpg', '.png', '.jpeg'))]\n",
    "\n",
    "# Shuffle and split (80% train, 20% val)\n",
    "random.shuffle(image_files)\n",
    "split_idx = int(0.8 * len(image_files))\n",
    "train_files = image_files[:split_idx]\n",
    "val_files = image_files[split_idx:]\n",
    "\n",
    "# Move files to the respective directories\n",
    "for file in train_files:\n",
    "    shutil.move(os.path.join(image_dir, file), os.path.join(train_image_dir, file))\n",
    "    label_file = file.replace('.jpg', '.txt').replace('.png', '.txt')  # Adjust for label extensions\n",
    "    if os.path.exists(os.path.join(label_dir, label_file)):\n",
    "        shutil.move(os.path.join(label_dir, label_file), os.path.join(train_label_dir, label_file))\n",
    "\n",
    "for file in val_files:\n",
    "    shutil.move(os.path.join(image_dir, file), os.path.join(val_image_dir, file))\n",
    "    label_file = file.replace('.jpg', '.txt').replace('.png', '.txt')  # Adjust for label extensions\n",
    "    if os.path.exists(os.path.join(label_dir, label_file)):\n",
    "        shutil.move(os.path.join(label_dir, label_file), os.path.join(val_label_dir, label_file))\n",
    "\n",
    "print(f\"Dataset split complete! Train: {len(train_files)}, Val: {len(val_files)}\")\n"
   ]
  },
  {
   "cell_type": "code",
   "execution_count": 8,
   "metadata": {},
   "outputs": [
    {
     "name": "stdout",
     "output_type": "stream",
     "text": [
      "Starting YOLOv8 training...\n",
      "Ultralytics 8.3.67  Python-3.10.14 torch-2.5.1+cpu CPU (Intel Core(TM) i7-8550U 1.80GHz)\n",
      "\u001b[34m\u001b[1mengine\\trainer: \u001b[0mtask=detect, mode=train, model=yolov8n.pt, data=C:\\Users\\taylo\\Documents\\personal\\Masters\\Capstone\\Data\\export-mock-attack-dataset\\dataset.yaml, epochs=50, time=None, patience=100, batch=16, imgsz=640, save=True, save_period=-1, cache=False, device=None, workers=8, project=runs/detect, name=firearm_detection8, exist_ok=False, pretrained=True, optimizer=auto, verbose=True, seed=0, deterministic=True, single_cls=False, rect=False, cos_lr=False, close_mosaic=10, resume=False, amp=True, fraction=1.0, profile=False, freeze=None, multi_scale=False, overlap_mask=True, mask_ratio=4, dropout=0.0, val=True, split=val, save_json=False, save_hybrid=False, conf=None, iou=0.7, max_det=300, half=False, dnn=False, plots=True, source=None, vid_stride=1, stream_buffer=False, visualize=False, augment=False, agnostic_nms=False, classes=None, retina_masks=False, embed=None, show=False, save_frames=False, save_txt=False, save_conf=False, save_crop=False, show_labels=True, show_conf=True, show_boxes=True, line_width=None, format=torchscript, keras=False, optimize=False, int8=False, dynamic=False, simplify=True, opset=None, workspace=None, nms=False, lr0=0.01, lrf=0.01, momentum=0.937, weight_decay=0.0005, warmup_epochs=3.0, warmup_momentum=0.8, warmup_bias_lr=0.1, box=7.5, cls=0.5, dfl=1.5, pose=12.0, kobj=1.0, nbs=64, hsv_h=0.015, hsv_s=0.7, hsv_v=0.4, degrees=0.0, translate=0.1, scale=0.5, shear=0.0, perspective=0.0, flipud=0.0, fliplr=0.5, bgr=0.0, mosaic=1.0, mixup=0.0, copy_paste=0.0, copy_paste_mode=flip, auto_augment=randaugment, erasing=0.4, crop_fraction=1.0, cfg=None, tracker=botsort.yaml, save_dir=runs\\detect\\firearm_detection8\n",
      "Overriding model.yaml nc=80 with nc=1\n",
      "\n",
      "                   from  n    params  module                                       arguments                     \n",
      "  0                  -1  1       464  ultralytics.nn.modules.conv.Conv             [3, 16, 3, 2]                 \n",
      "  1                  -1  1      4672  ultralytics.nn.modules.conv.Conv             [16, 32, 3, 2]                \n",
      "  2                  -1  1      7360  ultralytics.nn.modules.block.C2f             [32, 32, 1, True]             \n",
      "  3                  -1  1     18560  ultralytics.nn.modules.conv.Conv             [32, 64, 3, 2]                \n",
      "  4                  -1  2     49664  ultralytics.nn.modules.block.C2f             [64, 64, 2, True]             \n",
      "  5                  -1  1     73984  ultralytics.nn.modules.conv.Conv             [64, 128, 3, 2]               \n",
      "  6                  -1  2    197632  ultralytics.nn.modules.block.C2f             [128, 128, 2, True]           \n",
      "  7                  -1  1    295424  ultralytics.nn.modules.conv.Conv             [128, 256, 3, 2]              \n",
      "  8                  -1  1    460288  ultralytics.nn.modules.block.C2f             [256, 256, 1, True]           \n",
      "  9                  -1  1    164608  ultralytics.nn.modules.block.SPPF            [256, 256, 5]                 \n",
      " 10                  -1  1         0  torch.nn.modules.upsampling.Upsample         [None, 2, 'nearest']          \n",
      " 11             [-1, 6]  1         0  ultralytics.nn.modules.conv.Concat           [1]                           \n",
      " 12                  -1  1    148224  ultralytics.nn.modules.block.C2f             [384, 128, 1]                 \n",
      " 13                  -1  1         0  torch.nn.modules.upsampling.Upsample         [None, 2, 'nearest']          \n",
      " 14             [-1, 4]  1         0  ultralytics.nn.modules.conv.Concat           [1]                           \n",
      " 15                  -1  1     37248  ultralytics.nn.modules.block.C2f             [192, 64, 1]                  \n",
      " 16                  -1  1     36992  ultralytics.nn.modules.conv.Conv             [64, 64, 3, 2]                \n",
      " 17            [-1, 12]  1         0  ultralytics.nn.modules.conv.Concat           [1]                           \n",
      " 18                  -1  1    123648  ultralytics.nn.modules.block.C2f             [192, 128, 1]                 \n",
      " 19                  -1  1    147712  ultralytics.nn.modules.conv.Conv             [128, 128, 3, 2]              \n",
      " 20             [-1, 9]  1         0  ultralytics.nn.modules.conv.Concat           [1]                           \n",
      " 21                  -1  1    493056  ultralytics.nn.modules.block.C2f             [384, 256, 1]                 \n",
      " 22        [15, 18, 21]  1    751507  ultralytics.nn.modules.head.Detect           [1, [64, 128, 256]]           \n",
      "Model summary: 225 layers, 3,011,043 parameters, 3,011,027 gradients, 8.2 GFLOPs\n",
      "\n",
      "Transferred 319/355 items from pretrained weights\n",
      "Freezing layer 'model.22.dfl.conv.weight'\n"
     ]
    },
    {
     "name": "stderr",
     "output_type": "stream",
     "text": [
      "\u001b[34m\u001b[1mtrain: \u001b[0mScanning C:\\Users\\taylo\\Documents\\personal\\Masters\\Capstone\\Data\\export-mock-attack-dataset\\labels\\train... 4119 images, 2894 backgrounds, 0 corrupt: 100%|██████████| 4119/4119 [00:17<00:00, 236.47it/s]\n"
     ]
    },
    {
     "name": "stdout",
     "output_type": "stream",
     "text": [
      "\u001b[34m\u001b[1mtrain: \u001b[0mNew cache created: C:\\Users\\taylo\\Documents\\personal\\Masters\\Capstone\\Data\\export-mock-attack-dataset\\labels\\train.cache\n"
     ]
    },
    {
     "name": "stderr",
     "output_type": "stream",
     "text": [
      "\u001b[34m\u001b[1mval: \u001b[0mScanning C:\\Users\\taylo\\Documents\\personal\\Masters\\Capstone\\Data\\export-mock-attack-dataset\\labels\\val... 1030 images, 735 backgrounds, 0 corrupt: 100%|██████████| 1030/1030 [00:04<00:00, 242.77it/s]\n"
     ]
    },
    {
     "name": "stdout",
     "output_type": "stream",
     "text": [
      "\u001b[34m\u001b[1mval: \u001b[0mNew cache created: C:\\Users\\taylo\\Documents\\personal\\Masters\\Capstone\\Data\\export-mock-attack-dataset\\labels\\val.cache\n",
      "Plotting labels to runs\\detect\\firearm_detection8\\labels.jpg... \n",
      "\u001b[34m\u001b[1moptimizer:\u001b[0m 'optimizer=auto' found, ignoring 'lr0=0.01' and 'momentum=0.937' and determining best 'optimizer', 'lr0' and 'momentum' automatically... \n",
      "\u001b[34m\u001b[1moptimizer:\u001b[0m AdamW(lr=0.002, momentum=0.9) with parameter groups 57 weight(decay=0.0), 64 weight(decay=0.0005), 63 bias(decay=0.0)\n",
      "Image sizes 640 train, 640 val\n",
      "Using 0 dataloader workers\n",
      "Logging results to \u001b[1mruns\\detect\\firearm_detection8\u001b[0m\n",
      "Starting training for 50 epochs...\n",
      "\n",
      "      Epoch    GPU_mem   box_loss   cls_loss   dfl_loss  Instances       Size\n"
     ]
    },
    {
     "name": "stderr",
     "output_type": "stream",
     "text": [
      "       1/50         0G      2.933      11.95      1.336          5        640: 100%|██████████| 258/258 [41:45<00:00,  9.71s/it]\n",
      "                 Class     Images  Instances      Box(P          R      mAP50  mAP50-95): 100%|██████████| 33/33 [02:10<00:00,  3.95s/it]\n"
     ]
    },
    {
     "name": "stdout",
     "output_type": "stream",
     "text": [
      "                   all       1030        487      0.227      0.251      0.159     0.0485\n",
      "\n",
      "      Epoch    GPU_mem   box_loss   cls_loss   dfl_loss  Instances       Size\n"
     ]
    },
    {
     "name": "stderr",
     "output_type": "stream",
     "text": [
      "       2/50         0G      2.921      4.511      1.328          4        640: 100%|██████████| 258/258 [39:01<00:00,  9.07s/it]\n",
      "                 Class     Images  Instances      Box(P          R      mAP50  mAP50-95): 100%|██████████| 33/33 [02:11<00:00,  4.00s/it]"
     ]
    },
    {
     "name": "stdout",
     "output_type": "stream",
     "text": [
      "                   all       1030        487      0.304     0.0678     0.0952     0.0274\n"
     ]
    },
    {
     "name": "stderr",
     "output_type": "stream",
     "text": [
      "\n"
     ]
    },
    {
     "name": "stdout",
     "output_type": "stream",
     "text": [
      "\n",
      "      Epoch    GPU_mem   box_loss   cls_loss   dfl_loss  Instances       Size\n"
     ]
    },
    {
     "name": "stderr",
     "output_type": "stream",
     "text": [
      "       3/50         0G      2.866      2.829      1.294          0        640: 100%|██████████| 258/258 [38:40<00:00,  8.99s/it]\n",
      "                 Class     Images  Instances      Box(P          R      mAP50  mAP50-95): 100%|██████████| 33/33 [02:01<00:00,  3.68s/it]"
     ]
    },
    {
     "name": "stdout",
     "output_type": "stream",
     "text": [
      "                   all       1030        487      0.248      0.195       0.14     0.0392\n"
     ]
    },
    {
     "name": "stderr",
     "output_type": "stream",
     "text": [
      "\n"
     ]
    },
    {
     "name": "stdout",
     "output_type": "stream",
     "text": [
      "\n",
      "      Epoch    GPU_mem   box_loss   cls_loss   dfl_loss  Instances       Size\n"
     ]
    },
    {
     "name": "stderr",
     "output_type": "stream",
     "text": [
      "       4/50         0G      2.914      2.574      1.308          3        640: 100%|██████████| 258/258 [38:30<00:00,  8.96s/it]\n",
      "                 Class     Images  Instances      Box(P          R      mAP50  mAP50-95): 100%|██████████| 33/33 [02:00<00:00,  3.66s/it]"
     ]
    },
    {
     "name": "stdout",
     "output_type": "stream",
     "text": [
      "                   all       1030        487      0.368      0.211       0.21     0.0617\n"
     ]
    },
    {
     "name": "stderr",
     "output_type": "stream",
     "text": [
      "\n"
     ]
    },
    {
     "name": "stdout",
     "output_type": "stream",
     "text": [
      "\n",
      "      Epoch    GPU_mem   box_loss   cls_loss   dfl_loss  Instances       Size\n"
     ]
    },
    {
     "name": "stderr",
     "output_type": "stream",
     "text": [
      "       5/50         0G      2.829      2.389      1.303          0        640: 100%|██████████| 258/258 [38:22<00:00,  8.92s/it]\n",
      "                 Class     Images  Instances      Box(P          R      mAP50  mAP50-95): 100%|██████████| 33/33 [02:02<00:00,  3.73s/it]"
     ]
    },
    {
     "name": "stdout",
     "output_type": "stream",
     "text": [
      "                   all       1030        487      0.429      0.353      0.322      0.112\n"
     ]
    },
    {
     "name": "stderr",
     "output_type": "stream",
     "text": [
      "\n"
     ]
    },
    {
     "name": "stdout",
     "output_type": "stream",
     "text": [
      "\n",
      "      Epoch    GPU_mem   box_loss   cls_loss   dfl_loss  Instances       Size\n"
     ]
    },
    {
     "name": "stderr",
     "output_type": "stream",
     "text": [
      "       6/50         0G      2.689      2.164      1.244         10        640: 100%|██████████| 258/258 [38:33<00:00,  8.97s/it]\n",
      "                 Class     Images  Instances      Box(P          R      mAP50  mAP50-95): 100%|██████████| 33/33 [02:10<00:00,  3.96s/it]"
     ]
    },
    {
     "name": "stdout",
     "output_type": "stream",
     "text": [
      "                   all       1030        487      0.475      0.302      0.294     0.0787\n"
     ]
    },
    {
     "name": "stderr",
     "output_type": "stream",
     "text": [
      "\n"
     ]
    },
    {
     "name": "stdout",
     "output_type": "stream",
     "text": [
      "\n",
      "      Epoch    GPU_mem   box_loss   cls_loss   dfl_loss  Instances       Size\n"
     ]
    },
    {
     "name": "stderr",
     "output_type": "stream",
     "text": [
      "       7/50         0G       2.67      2.111      1.262          6        640: 100%|██████████| 258/258 [39:39<00:00,  9.22s/it]\n",
      "                 Class     Images  Instances      Box(P          R      mAP50  mAP50-95): 100%|██████████| 33/33 [02:10<00:00,  3.97s/it]"
     ]
    },
    {
     "name": "stdout",
     "output_type": "stream",
     "text": [
      "                   all       1030        487      0.473      0.366      0.379      0.135\n"
     ]
    },
    {
     "name": "stderr",
     "output_type": "stream",
     "text": [
      "\n"
     ]
    },
    {
     "name": "stdout",
     "output_type": "stream",
     "text": [
      "\n",
      "      Epoch    GPU_mem   box_loss   cls_loss   dfl_loss  Instances       Size\n"
     ]
    },
    {
     "name": "stderr",
     "output_type": "stream",
     "text": [
      "       8/50         0G       2.59      2.007      1.221          9        640: 100%|██████████| 258/258 [39:13<00:00,  9.12s/it]\n",
      "                 Class     Images  Instances      Box(P          R      mAP50  mAP50-95): 100%|██████████| 33/33 [02:00<00:00,  3.66s/it]"
     ]
    },
    {
     "name": "stdout",
     "output_type": "stream",
     "text": [
      "                   all       1030        487      0.517      0.349       0.39      0.138\n"
     ]
    },
    {
     "name": "stderr",
     "output_type": "stream",
     "text": [
      "\n"
     ]
    },
    {
     "name": "stdout",
     "output_type": "stream",
     "text": [
      "\n",
      "      Epoch    GPU_mem   box_loss   cls_loss   dfl_loss  Instances       Size\n"
     ]
    },
    {
     "name": "stderr",
     "output_type": "stream",
     "text": [
      "       9/50         0G      2.565      1.938      1.211          3        640: 100%|██████████| 258/258 [37:55<00:00,  8.82s/it]\n",
      "                 Class     Images  Instances      Box(P          R      mAP50  mAP50-95): 100%|██████████| 33/33 [02:10<00:00,  3.96s/it]"
     ]
    },
    {
     "name": "stdout",
     "output_type": "stream",
     "text": [
      "                   all       1030        487      0.484        0.4      0.404      0.144\n"
     ]
    },
    {
     "name": "stderr",
     "output_type": "stream",
     "text": [
      "\n"
     ]
    },
    {
     "name": "stdout",
     "output_type": "stream",
     "text": [
      "\n",
      "      Epoch    GPU_mem   box_loss   cls_loss   dfl_loss  Instances       Size\n"
     ]
    },
    {
     "name": "stderr",
     "output_type": "stream",
     "text": [
      "      10/50         0G      2.528      1.854      1.207          2        640: 100%|██████████| 258/258 [39:30<00:00,  9.19s/it]\n",
      "                 Class     Images  Instances      Box(P          R      mAP50  mAP50-95): 100%|██████████| 33/33 [02:01<00:00,  3.68s/it]"
     ]
    },
    {
     "name": "stdout",
     "output_type": "stream",
     "text": [
      "                   all       1030        487      0.562      0.392      0.424      0.148\n"
     ]
    },
    {
     "name": "stderr",
     "output_type": "stream",
     "text": [
      "\n"
     ]
    },
    {
     "name": "stdout",
     "output_type": "stream",
     "text": [
      "\n",
      "      Epoch    GPU_mem   box_loss   cls_loss   dfl_loss  Instances       Size\n"
     ]
    },
    {
     "name": "stderr",
     "output_type": "stream",
     "text": [
      "      11/50         0G      2.498       1.83      1.187          3        640: 100%|██████████| 258/258 [38:32<00:00,  8.96s/it]\n",
      "                 Class     Images  Instances      Box(P          R      mAP50  mAP50-95): 100%|██████████| 33/33 [02:01<00:00,  3.69s/it]"
     ]
    },
    {
     "name": "stdout",
     "output_type": "stream",
     "text": [
      "                   all       1030        487      0.566      0.435      0.481      0.174\n"
     ]
    },
    {
     "name": "stderr",
     "output_type": "stream",
     "text": [
      "\n"
     ]
    },
    {
     "name": "stdout",
     "output_type": "stream",
     "text": [
      "\n",
      "      Epoch    GPU_mem   box_loss   cls_loss   dfl_loss  Instances       Size\n"
     ]
    },
    {
     "name": "stderr",
     "output_type": "stream",
     "text": [
      "      12/50         0G      2.436      1.783      1.182          8        640: 100%|██████████| 258/258 [38:27<00:00,  8.94s/it]\n",
      "                 Class     Images  Instances      Box(P          R      mAP50  mAP50-95): 100%|██████████| 33/33 [02:01<00:00,  3.68s/it]"
     ]
    },
    {
     "name": "stdout",
     "output_type": "stream",
     "text": [
      "                   all       1030        487      0.542      0.421      0.448      0.166\n"
     ]
    },
    {
     "name": "stderr",
     "output_type": "stream",
     "text": [
      "\n"
     ]
    },
    {
     "name": "stdout",
     "output_type": "stream",
     "text": [
      "\n",
      "      Epoch    GPU_mem   box_loss   cls_loss   dfl_loss  Instances       Size\n"
     ]
    },
    {
     "name": "stderr",
     "output_type": "stream",
     "text": [
      "      13/50         0G      2.424      1.735       1.16          1        640: 100%|██████████| 258/258 [39:06<00:00,  9.10s/it]\n",
      "                 Class     Images  Instances      Box(P          R      mAP50  mAP50-95): 100%|██████████| 33/33 [02:00<00:00,  3.66s/it]"
     ]
    },
    {
     "name": "stdout",
     "output_type": "stream",
     "text": [
      "                   all       1030        487      0.528      0.433      0.445      0.169\n"
     ]
    },
    {
     "name": "stderr",
     "output_type": "stream",
     "text": [
      "\n"
     ]
    },
    {
     "name": "stdout",
     "output_type": "stream",
     "text": [
      "\n",
      "      Epoch    GPU_mem   box_loss   cls_loss   dfl_loss  Instances       Size\n"
     ]
    },
    {
     "name": "stderr",
     "output_type": "stream",
     "text": [
      "      14/50         0G       2.37      1.672      1.138          2        640: 100%|██████████| 258/258 [39:00<00:00,  9.07s/it]\n",
      "                 Class     Images  Instances      Box(P          R      mAP50  mAP50-95): 100%|██████████| 33/33 [02:02<00:00,  3.73s/it]"
     ]
    },
    {
     "name": "stdout",
     "output_type": "stream",
     "text": [
      "                   all       1030        487       0.65       0.39      0.477      0.176\n"
     ]
    },
    {
     "name": "stderr",
     "output_type": "stream",
     "text": [
      "\n"
     ]
    },
    {
     "name": "stdout",
     "output_type": "stream",
     "text": [
      "\n",
      "      Epoch    GPU_mem   box_loss   cls_loss   dfl_loss  Instances       Size\n"
     ]
    },
    {
     "name": "stderr",
     "output_type": "stream",
     "text": [
      "      15/50         0G      2.408      1.723      1.173          3        640: 100%|██████████| 258/258 [39:11<00:00,  9.11s/it]\n",
      "                 Class     Images  Instances      Box(P          R      mAP50  mAP50-95): 100%|██████████| 33/33 [02:02<00:00,  3.70s/it]"
     ]
    },
    {
     "name": "stdout",
     "output_type": "stream",
     "text": [
      "                   all       1030        487      0.693      0.422      0.531      0.209\n"
     ]
    },
    {
     "name": "stderr",
     "output_type": "stream",
     "text": [
      "\n"
     ]
    },
    {
     "name": "stdout",
     "output_type": "stream",
     "text": [
      "\n",
      "      Epoch    GPU_mem   box_loss   cls_loss   dfl_loss  Instances       Size\n"
     ]
    },
    {
     "name": "stderr",
     "output_type": "stream",
     "text": [
      "      16/50         0G      2.333      1.653      1.144          5        640: 100%|██████████| 258/258 [38:58<00:00,  9.06s/it]\n",
      "                 Class     Images  Instances      Box(P          R      mAP50  mAP50-95): 100%|██████████| 33/33 [02:01<00:00,  3.68s/it]"
     ]
    },
    {
     "name": "stdout",
     "output_type": "stream",
     "text": [
      "                   all       1030        487      0.722      0.411       0.51      0.186\n"
     ]
    },
    {
     "name": "stderr",
     "output_type": "stream",
     "text": [
      "\n"
     ]
    },
    {
     "name": "stdout",
     "output_type": "stream",
     "text": [
      "\n",
      "      Epoch    GPU_mem   box_loss   cls_loss   dfl_loss  Instances       Size\n"
     ]
    },
    {
     "name": "stderr",
     "output_type": "stream",
     "text": [
      "      17/50         0G      2.346       1.62      1.121          7        640: 100%|██████████| 258/258 [38:20<00:00,  8.92s/it]\n",
      "                 Class     Images  Instances      Box(P          R      mAP50  mAP50-95): 100%|██████████| 33/33 [02:04<00:00,  3.77s/it]"
     ]
    },
    {
     "name": "stdout",
     "output_type": "stream",
     "text": [
      "                   all       1030        487      0.743      0.403      0.522        0.2\n"
     ]
    },
    {
     "name": "stderr",
     "output_type": "stream",
     "text": [
      "\n"
     ]
    },
    {
     "name": "stdout",
     "output_type": "stream",
     "text": [
      "\n",
      "      Epoch    GPU_mem   box_loss   cls_loss   dfl_loss  Instances       Size\n"
     ]
    },
    {
     "name": "stderr",
     "output_type": "stream",
     "text": [
      "      18/50         0G      2.307      1.573      1.144          6        640: 100%|██████████| 258/258 [38:54<00:00,  9.05s/it]\n",
      "                 Class     Images  Instances      Box(P          R      mAP50  mAP50-95): 100%|██████████| 33/33 [02:01<00:00,  3.69s/it]"
     ]
    },
    {
     "name": "stdout",
     "output_type": "stream",
     "text": [
      "                   all       1030        487      0.692      0.443      0.549      0.214\n"
     ]
    },
    {
     "name": "stderr",
     "output_type": "stream",
     "text": [
      "\n"
     ]
    },
    {
     "name": "stdout",
     "output_type": "stream",
     "text": [
      "\n",
      "      Epoch    GPU_mem   box_loss   cls_loss   dfl_loss  Instances       Size\n"
     ]
    },
    {
     "name": "stderr",
     "output_type": "stream",
     "text": [
      "      19/50         0G      2.229      1.508       1.12         12        640: 100%|██████████| 258/258 [38:36<00:00,  8.98s/it]\n",
      "                 Class     Images  Instances      Box(P          R      mAP50  mAP50-95): 100%|██████████| 33/33 [02:02<00:00,  3.70s/it]"
     ]
    },
    {
     "name": "stdout",
     "output_type": "stream",
     "text": [
      "                   all       1030        487      0.675      0.521      0.583      0.237\n"
     ]
    },
    {
     "name": "stderr",
     "output_type": "stream",
     "text": [
      "\n"
     ]
    },
    {
     "name": "stdout",
     "output_type": "stream",
     "text": [
      "\n",
      "      Epoch    GPU_mem   box_loss   cls_loss   dfl_loss  Instances       Size\n"
     ]
    },
    {
     "name": "stderr",
     "output_type": "stream",
     "text": [
      "      20/50         0G      2.227        1.5      1.127          3        640: 100%|██████████| 258/258 [38:50<00:00,  9.03s/it]\n",
      "                 Class     Images  Instances      Box(P          R      mAP50  mAP50-95): 100%|██████████| 33/33 [02:01<00:00,  3.68s/it]"
     ]
    },
    {
     "name": "stdout",
     "output_type": "stream",
     "text": [
      "                   all       1030        487      0.643      0.497       0.57       0.22\n"
     ]
    },
    {
     "name": "stderr",
     "output_type": "stream",
     "text": [
      "\n"
     ]
    },
    {
     "name": "stdout",
     "output_type": "stream",
     "text": [
      "\n",
      "      Epoch    GPU_mem   box_loss   cls_loss   dfl_loss  Instances       Size\n"
     ]
    },
    {
     "name": "stderr",
     "output_type": "stream",
     "text": [
      "      21/50         0G       2.19      1.467      1.115          2        640: 100%|██████████| 258/258 [38:41<00:00,  9.00s/it]\n",
      "                 Class     Images  Instances      Box(P          R      mAP50  mAP50-95): 100%|██████████| 33/33 [02:02<00:00,  3.71s/it]"
     ]
    },
    {
     "name": "stdout",
     "output_type": "stream",
     "text": [
      "                   all       1030        487      0.673      0.524      0.609      0.234\n"
     ]
    },
    {
     "name": "stderr",
     "output_type": "stream",
     "text": [
      "\n"
     ]
    },
    {
     "name": "stdout",
     "output_type": "stream",
     "text": [
      "\n",
      "      Epoch    GPU_mem   box_loss   cls_loss   dfl_loss  Instances       Size\n"
     ]
    },
    {
     "name": "stderr",
     "output_type": "stream",
     "text": [
      "      22/50         0G      2.189      1.483      1.102          6        640: 100%|██████████| 258/258 [39:13<00:00,  9.12s/it]\n",
      "                 Class     Images  Instances      Box(P          R      mAP50  mAP50-95): 100%|██████████| 33/33 [02:00<00:00,  3.66s/it]"
     ]
    },
    {
     "name": "stdout",
     "output_type": "stream",
     "text": [
      "                   all       1030        487       0.67      0.536      0.586      0.234\n"
     ]
    },
    {
     "name": "stderr",
     "output_type": "stream",
     "text": [
      "\n"
     ]
    },
    {
     "name": "stdout",
     "output_type": "stream",
     "text": [
      "\n",
      "      Epoch    GPU_mem   box_loss   cls_loss   dfl_loss  Instances       Size\n"
     ]
    },
    {
     "name": "stderr",
     "output_type": "stream",
     "text": [
      "      23/50         0G      2.196      1.429        1.1          3        640: 100%|██████████| 258/258 [38:19<00:00,  8.91s/it]\n",
      "                 Class     Images  Instances      Box(P          R      mAP50  mAP50-95): 100%|██████████| 33/33 [02:00<00:00,  3.66s/it]"
     ]
    },
    {
     "name": "stdout",
     "output_type": "stream",
     "text": [
      "                   all       1030        487      0.671       0.52      0.581      0.235\n"
     ]
    },
    {
     "name": "stderr",
     "output_type": "stream",
     "text": [
      "\n"
     ]
    },
    {
     "name": "stdout",
     "output_type": "stream",
     "text": [
      "\n",
      "      Epoch    GPU_mem   box_loss   cls_loss   dfl_loss  Instances       Size\n"
     ]
    },
    {
     "name": "stderr",
     "output_type": "stream",
     "text": [
      "      24/50         0G      2.173      1.426      1.107          5        640: 100%|██████████| 258/258 [39:30<00:00,  9.19s/it]\n",
      "                 Class     Images  Instances      Box(P          R      mAP50  mAP50-95): 100%|██████████| 33/33 [02:01<00:00,  3.68s/it]"
     ]
    },
    {
     "name": "stdout",
     "output_type": "stream",
     "text": [
      "                   all       1030        487      0.657      0.546      0.608       0.25\n"
     ]
    },
    {
     "name": "stderr",
     "output_type": "stream",
     "text": [
      "\n"
     ]
    },
    {
     "name": "stdout",
     "output_type": "stream",
     "text": [
      "\n",
      "      Epoch    GPU_mem   box_loss   cls_loss   dfl_loss  Instances       Size\n"
     ]
    },
    {
     "name": "stderr",
     "output_type": "stream",
     "text": [
      "      25/50         0G       2.16      1.431      1.089          1        640: 100%|██████████| 258/258 [38:33<00:00,  8.97s/it]\n",
      "                 Class     Images  Instances      Box(P          R      mAP50  mAP50-95): 100%|██████████| 33/33 [02:01<00:00,  3.67s/it]"
     ]
    },
    {
     "name": "stdout",
     "output_type": "stream",
     "text": [
      "                   all       1030        487      0.696      0.546       0.63      0.254\n"
     ]
    },
    {
     "name": "stderr",
     "output_type": "stream",
     "text": [
      "\n"
     ]
    },
    {
     "name": "stdout",
     "output_type": "stream",
     "text": [
      "\n",
      "      Epoch    GPU_mem   box_loss   cls_loss   dfl_loss  Instances       Size\n"
     ]
    },
    {
     "name": "stderr",
     "output_type": "stream",
     "text": [
      "      26/50         0G      2.103       1.34       1.08          5        640: 100%|██████████| 258/258 [38:28<00:00,  8.95s/it]\n",
      "                 Class     Images  Instances      Box(P          R      mAP50  mAP50-95): 100%|██████████| 33/33 [02:01<00:00,  3.70s/it]"
     ]
    },
    {
     "name": "stdout",
     "output_type": "stream",
     "text": [
      "                   all       1030        487      0.683      0.584      0.629      0.258\n"
     ]
    },
    {
     "name": "stderr",
     "output_type": "stream",
     "text": [
      "\n"
     ]
    },
    {
     "name": "stdout",
     "output_type": "stream",
     "text": [
      "\n",
      "      Epoch    GPU_mem   box_loss   cls_loss   dfl_loss  Instances       Size\n"
     ]
    },
    {
     "name": "stderr",
     "output_type": "stream",
     "text": [
      "      27/50         0G      2.122       1.37      1.069          2        640: 100%|██████████| 258/258 [38:16<00:00,  8.90s/it]\n",
      "                 Class     Images  Instances      Box(P          R      mAP50  mAP50-95): 100%|██████████| 33/33 [02:02<00:00,  3.71s/it]"
     ]
    },
    {
     "name": "stdout",
     "output_type": "stream",
     "text": [
      "                   all       1030        487      0.677      0.579      0.638      0.258\n"
     ]
    },
    {
     "name": "stderr",
     "output_type": "stream",
     "text": [
      "\n"
     ]
    },
    {
     "name": "stdout",
     "output_type": "stream",
     "text": [
      "\n",
      "      Epoch    GPU_mem   box_loss   cls_loss   dfl_loss  Instances       Size\n"
     ]
    },
    {
     "name": "stderr",
     "output_type": "stream",
     "text": [
      "      28/50         0G      2.086       1.37      1.069          6        640: 100%|██████████| 258/258 [38:50<00:00,  9.03s/it]\n",
      "                 Class     Images  Instances      Box(P          R      mAP50  mAP50-95): 100%|██████████| 33/33 [02:08<00:00,  3.89s/it]"
     ]
    },
    {
     "name": "stdout",
     "output_type": "stream",
     "text": [
      "                   all       1030        487       0.68      0.594      0.649      0.274\n"
     ]
    },
    {
     "name": "stderr",
     "output_type": "stream",
     "text": [
      "\n"
     ]
    },
    {
     "name": "stdout",
     "output_type": "stream",
     "text": [
      "\n",
      "      Epoch    GPU_mem   box_loss   cls_loss   dfl_loss  Instances       Size\n"
     ]
    },
    {
     "name": "stderr",
     "output_type": "stream",
     "text": [
      "      29/50         0G      2.093      1.325      1.065          9        640: 100%|██████████| 258/258 [38:18<00:00,  8.91s/it]\n",
      "                 Class     Images  Instances      Box(P          R      mAP50  mAP50-95): 100%|██████████| 33/33 [02:00<00:00,  3.65s/it]"
     ]
    },
    {
     "name": "stdout",
     "output_type": "stream",
     "text": [
      "                   all       1030        487      0.728        0.6      0.674      0.286\n"
     ]
    },
    {
     "name": "stderr",
     "output_type": "stream",
     "text": [
      "\n"
     ]
    },
    {
     "name": "stdout",
     "output_type": "stream",
     "text": [
      "\n",
      "      Epoch    GPU_mem   box_loss   cls_loss   dfl_loss  Instances       Size\n"
     ]
    },
    {
     "name": "stderr",
     "output_type": "stream",
     "text": [
      "      30/50         0G      2.074      1.313      1.076          7        640: 100%|██████████| 258/258 [38:25<00:00,  8.94s/it]\n",
      "                 Class     Images  Instances      Box(P          R      mAP50  mAP50-95): 100%|██████████| 33/33 [02:00<00:00,  3.67s/it]"
     ]
    },
    {
     "name": "stdout",
     "output_type": "stream",
     "text": [
      "                   all       1030        487      0.671      0.618      0.664      0.276\n"
     ]
    },
    {
     "name": "stderr",
     "output_type": "stream",
     "text": [
      "\n"
     ]
    },
    {
     "name": "stdout",
     "output_type": "stream",
     "text": [
      "\n",
      "      Epoch    GPU_mem   box_loss   cls_loss   dfl_loss  Instances       Size\n"
     ]
    },
    {
     "name": "stderr",
     "output_type": "stream",
     "text": [
      "      31/50         0G      2.022      1.287      1.056          4        640: 100%|██████████| 258/258 [38:05<00:00,  8.86s/it]\n",
      "                 Class     Images  Instances      Box(P          R      mAP50  mAP50-95): 100%|██████████| 33/33 [02:02<00:00,  3.71s/it]"
     ]
    },
    {
     "name": "stdout",
     "output_type": "stream",
     "text": [
      "                   all       1030        487      0.691      0.587      0.651      0.282\n"
     ]
    },
    {
     "name": "stderr",
     "output_type": "stream",
     "text": [
      "\n"
     ]
    },
    {
     "name": "stdout",
     "output_type": "stream",
     "text": [
      "\n",
      "      Epoch    GPU_mem   box_loss   cls_loss   dfl_loss  Instances       Size\n"
     ]
    },
    {
     "name": "stderr",
     "output_type": "stream",
     "text": [
      "      32/50         0G      2.065      1.324      1.067          4        640: 100%|██████████| 258/258 [39:13<00:00,  9.12s/it]\n",
      "                 Class     Images  Instances      Box(P          R      mAP50  mAP50-95): 100%|██████████| 33/33 [02:01<00:00,  3.67s/it]"
     ]
    },
    {
     "name": "stdout",
     "output_type": "stream",
     "text": [
      "                   all       1030        487        0.7      0.609      0.681      0.285\n"
     ]
    },
    {
     "name": "stderr",
     "output_type": "stream",
     "text": [
      "\n"
     ]
    },
    {
     "name": "stdout",
     "output_type": "stream",
     "text": [
      "\n",
      "      Epoch    GPU_mem   box_loss   cls_loss   dfl_loss  Instances       Size\n"
     ]
    },
    {
     "name": "stderr",
     "output_type": "stream",
     "text": [
      "      33/50         0G      2.003      1.263      1.049          7        640: 100%|██████████| 258/258 [38:31<00:00,  8.96s/it]\n",
      "                 Class     Images  Instances      Box(P          R      mAP50  mAP50-95): 100%|██████████| 33/33 [02:01<00:00,  3.68s/it]"
     ]
    },
    {
     "name": "stdout",
     "output_type": "stream",
     "text": [
      "                   all       1030        487      0.722      0.577      0.664      0.288\n"
     ]
    },
    {
     "name": "stderr",
     "output_type": "stream",
     "text": [
      "\n"
     ]
    },
    {
     "name": "stdout",
     "output_type": "stream",
     "text": [
      "\n",
      "      Epoch    GPU_mem   box_loss   cls_loss   dfl_loss  Instances       Size\n"
     ]
    },
    {
     "name": "stderr",
     "output_type": "stream",
     "text": [
      "      34/50         0G       2.02       1.26      1.056         13        640: 100%|██████████| 258/258 [38:41<00:00,  9.00s/it]\n",
      "                 Class     Images  Instances      Box(P          R      mAP50  mAP50-95): 100%|██████████| 33/33 [02:00<00:00,  3.65s/it]"
     ]
    },
    {
     "name": "stdout",
     "output_type": "stream",
     "text": [
      "                   all       1030        487      0.753      0.583      0.667      0.293\n"
     ]
    },
    {
     "name": "stderr",
     "output_type": "stream",
     "text": [
      "\n"
     ]
    },
    {
     "name": "stdout",
     "output_type": "stream",
     "text": [
      "\n",
      "      Epoch    GPU_mem   box_loss   cls_loss   dfl_loss  Instances       Size\n"
     ]
    },
    {
     "name": "stderr",
     "output_type": "stream",
     "text": [
      "      35/50         0G      1.999      1.236      1.059          3        640: 100%|██████████| 258/258 [40:01<00:00,  9.31s/it]\n",
      "                 Class     Images  Instances      Box(P          R      mAP50  mAP50-95): 100%|██████████| 33/33 [02:06<00:00,  3.84s/it]"
     ]
    },
    {
     "name": "stdout",
     "output_type": "stream",
     "text": [
      "                   all       1030        487      0.777      0.566      0.679      0.299\n"
     ]
    },
    {
     "name": "stderr",
     "output_type": "stream",
     "text": [
      "\n"
     ]
    },
    {
     "name": "stdout",
     "output_type": "stream",
     "text": [
      "\n",
      "      Epoch    GPU_mem   box_loss   cls_loss   dfl_loss  Instances       Size\n"
     ]
    },
    {
     "name": "stderr",
     "output_type": "stream",
     "text": [
      "      36/50         0G      1.998      1.233      1.054         11        640: 100%|██████████| 258/258 [40:11<00:00,  9.35s/it]\n",
      "                 Class     Images  Instances      Box(P          R      mAP50  mAP50-95): 100%|██████████| 33/33 [02:12<00:00,  4.00s/it]"
     ]
    },
    {
     "name": "stdout",
     "output_type": "stream",
     "text": [
      "                   all       1030        487      0.752      0.622      0.706       0.31\n"
     ]
    },
    {
     "name": "stderr",
     "output_type": "stream",
     "text": [
      "\n"
     ]
    },
    {
     "name": "stdout",
     "output_type": "stream",
     "text": [
      "\n",
      "      Epoch    GPU_mem   box_loss   cls_loss   dfl_loss  Instances       Size\n"
     ]
    },
    {
     "name": "stderr",
     "output_type": "stream",
     "text": [
      "      37/50         0G      1.972       1.21      1.043          2        640: 100%|██████████| 258/258 [38:02<00:00,  8.85s/it]\n",
      "                 Class     Images  Instances      Box(P          R      mAP50  mAP50-95): 100%|██████████| 33/33 [01:59<00:00,  3.62s/it]"
     ]
    },
    {
     "name": "stdout",
     "output_type": "stream",
     "text": [
      "                   all       1030        487      0.775      0.602      0.695      0.301\n"
     ]
    },
    {
     "name": "stderr",
     "output_type": "stream",
     "text": [
      "\n"
     ]
    },
    {
     "name": "stdout",
     "output_type": "stream",
     "text": [
      "\n",
      "      Epoch    GPU_mem   box_loss   cls_loss   dfl_loss  Instances       Size\n"
     ]
    },
    {
     "name": "stderr",
     "output_type": "stream",
     "text": [
      "      38/50         0G      1.997      1.216      1.034         10        640: 100%|██████████| 258/258 [38:33<00:00,  8.97s/it]\n",
      "                 Class     Images  Instances      Box(P          R      mAP50  mAP50-95): 100%|██████████| 33/33 [02:00<00:00,  3.67s/it]"
     ]
    },
    {
     "name": "stdout",
     "output_type": "stream",
     "text": [
      "                   all       1030        487      0.736      0.641      0.709       0.31\n"
     ]
    },
    {
     "name": "stderr",
     "output_type": "stream",
     "text": [
      "\n"
     ]
    },
    {
     "name": "stdout",
     "output_type": "stream",
     "text": [
      "\n",
      "      Epoch    GPU_mem   box_loss   cls_loss   dfl_loss  Instances       Size\n"
     ]
    },
    {
     "name": "stderr",
     "output_type": "stream",
     "text": [
      "      39/50         0G      1.905      1.151      1.013          3        640: 100%|██████████| 258/258 [38:32<00:00,  8.96s/it]\n",
      "                 Class     Images  Instances      Box(P          R      mAP50  mAP50-95): 100%|██████████| 33/33 [02:11<00:00,  4.00s/it]"
     ]
    },
    {
     "name": "stdout",
     "output_type": "stream",
     "text": [
      "                   all       1030        487      0.792      0.622      0.709       0.31\n"
     ]
    },
    {
     "name": "stderr",
     "output_type": "stream",
     "text": [
      "\n"
     ]
    },
    {
     "name": "stdout",
     "output_type": "stream",
     "text": [
      "\n",
      "      Epoch    GPU_mem   box_loss   cls_loss   dfl_loss  Instances       Size\n"
     ]
    },
    {
     "name": "stderr",
     "output_type": "stream",
     "text": [
      "      40/50         0G      1.871      1.154      1.043          3        640: 100%|██████████| 258/258 [38:44<00:00,  9.01s/it]\n",
      "                 Class     Images  Instances      Box(P          R      mAP50  mAP50-95): 100%|██████████| 33/33 [02:03<00:00,  3.73s/it]"
     ]
    },
    {
     "name": "stdout",
     "output_type": "stream",
     "text": [
      "                   all       1030        487      0.756      0.657      0.714      0.307\n"
     ]
    },
    {
     "name": "stderr",
     "output_type": "stream",
     "text": [
      "\n"
     ]
    },
    {
     "name": "stdout",
     "output_type": "stream",
     "text": [
      "Closing dataloader mosaic\n",
      "\n",
      "      Epoch    GPU_mem   box_loss   cls_loss   dfl_loss  Instances       Size\n"
     ]
    },
    {
     "name": "stderr",
     "output_type": "stream",
     "text": [
      "      41/50         0G      1.855      1.139      1.035          1        640: 100%|██████████| 258/258 [38:52<00:00,  9.04s/it]\n",
      "                 Class     Images  Instances      Box(P          R      mAP50  mAP50-95): 100%|██████████| 33/33 [02:03<00:00,  3.73s/it]"
     ]
    },
    {
     "name": "stdout",
     "output_type": "stream",
     "text": [
      "                   all       1030        487      0.765      0.628      0.702      0.306\n"
     ]
    },
    {
     "name": "stderr",
     "output_type": "stream",
     "text": [
      "\n"
     ]
    },
    {
     "name": "stdout",
     "output_type": "stream",
     "text": [
      "\n",
      "      Epoch    GPU_mem   box_loss   cls_loss   dfl_loss  Instances       Size\n"
     ]
    },
    {
     "name": "stderr",
     "output_type": "stream",
     "text": [
      "      42/50         0G      1.868      1.114      1.051          9        640: 100%|██████████| 258/258 [39:40<00:00,  9.23s/it]\n",
      "                 Class     Images  Instances      Box(P          R      mAP50  mAP50-95): 100%|██████████| 33/33 [02:13<00:00,  4.05s/it]"
     ]
    },
    {
     "name": "stdout",
     "output_type": "stream",
     "text": [
      "                   all       1030        487      0.787      0.645      0.718       0.31\n"
     ]
    },
    {
     "name": "stderr",
     "output_type": "stream",
     "text": [
      "\n"
     ]
    },
    {
     "name": "stdout",
     "output_type": "stream",
     "text": [
      "\n",
      "      Epoch    GPU_mem   box_loss   cls_loss   dfl_loss  Instances       Size\n"
     ]
    },
    {
     "name": "stderr",
     "output_type": "stream",
     "text": [
      "      43/50         0G      1.821      1.123      1.015          3        640: 100%|██████████| 258/258 [39:15<00:00,  9.13s/it]\n",
      "                 Class     Images  Instances      Box(P          R      mAP50  mAP50-95): 100%|██████████| 33/33 [02:06<00:00,  3.83s/it]"
     ]
    },
    {
     "name": "stdout",
     "output_type": "stream",
     "text": [
      "                   all       1030        487      0.751      0.657      0.709      0.316\n"
     ]
    },
    {
     "name": "stderr",
     "output_type": "stream",
     "text": [
      "\n"
     ]
    },
    {
     "name": "stdout",
     "output_type": "stream",
     "text": [
      "\n",
      "      Epoch    GPU_mem   box_loss   cls_loss   dfl_loss  Instances       Size\n"
     ]
    },
    {
     "name": "stderr",
     "output_type": "stream",
     "text": [
      "      44/50         0G      1.856       1.08      1.033          4        640: 100%|██████████| 258/258 [39:07<00:00,  9.10s/it]\n",
      "                 Class     Images  Instances      Box(P          R      mAP50  mAP50-95): 100%|██████████| 33/33 [02:06<00:00,  3.82s/it]"
     ]
    },
    {
     "name": "stdout",
     "output_type": "stream",
     "text": [
      "                   all       1030        487      0.759      0.667      0.728      0.315\n"
     ]
    },
    {
     "name": "stderr",
     "output_type": "stream",
     "text": [
      "\n"
     ]
    },
    {
     "name": "stdout",
     "output_type": "stream",
     "text": [
      "\n",
      "      Epoch    GPU_mem   box_loss   cls_loss   dfl_loss  Instances       Size\n"
     ]
    },
    {
     "name": "stderr",
     "output_type": "stream",
     "text": [
      "      45/50         0G      1.795      1.077      1.015          4        640: 100%|██████████| 258/258 [39:05<00:00,  9.09s/it]\n",
      "                 Class     Images  Instances      Box(P          R      mAP50  mAP50-95): 100%|██████████| 33/33 [02:07<00:00,  3.87s/it]"
     ]
    },
    {
     "name": "stdout",
     "output_type": "stream",
     "text": [
      "                   all       1030        487      0.785      0.649      0.724      0.311\n"
     ]
    },
    {
     "name": "stderr",
     "output_type": "stream",
     "text": [
      "\n"
     ]
    },
    {
     "name": "stdout",
     "output_type": "stream",
     "text": [
      "\n",
      "      Epoch    GPU_mem   box_loss   cls_loss   dfl_loss  Instances       Size\n"
     ]
    },
    {
     "name": "stderr",
     "output_type": "stream",
     "text": [
      "      46/50         0G      1.746      1.038     0.9925          0        640: 100%|██████████| 258/258 [38:38<00:00,  8.99s/it]\n",
      "                 Class     Images  Instances      Box(P          R      mAP50  mAP50-95): 100%|██████████| 33/33 [02:04<00:00,  3.78s/it]"
     ]
    },
    {
     "name": "stdout",
     "output_type": "stream",
     "text": [
      "                   all       1030        487       0.78      0.647      0.725      0.317\n"
     ]
    },
    {
     "name": "stderr",
     "output_type": "stream",
     "text": [
      "\n"
     ]
    },
    {
     "name": "stdout",
     "output_type": "stream",
     "text": [
      "\n",
      "      Epoch    GPU_mem   box_loss   cls_loss   dfl_loss  Instances       Size\n"
     ]
    },
    {
     "name": "stderr",
     "output_type": "stream",
     "text": [
      "      47/50         0G      1.749      1.052     0.9947          1        640: 100%|██████████| 258/258 [39:28<00:00,  9.18s/it]\n",
      "                 Class     Images  Instances      Box(P          R      mAP50  mAP50-95): 100%|██████████| 33/33 [02:07<00:00,  3.86s/it]"
     ]
    },
    {
     "name": "stdout",
     "output_type": "stream",
     "text": [
      "                   all       1030        487       0.76      0.678       0.73      0.321\n"
     ]
    },
    {
     "name": "stderr",
     "output_type": "stream",
     "text": [
      "\n"
     ]
    },
    {
     "name": "stdout",
     "output_type": "stream",
     "text": [
      "\n",
      "      Epoch    GPU_mem   box_loss   cls_loss   dfl_loss  Instances       Size\n"
     ]
    },
    {
     "name": "stderr",
     "output_type": "stream",
     "text": [
      "      48/50         0G      1.738      0.995      1.022          5        640: 100%|██████████| 258/258 [39:30<00:00,  9.19s/it]\n",
      "                 Class     Images  Instances      Box(P          R      mAP50  mAP50-95): 100%|██████████| 33/33 [02:05<00:00,  3.80s/it]"
     ]
    },
    {
     "name": "stdout",
     "output_type": "stream",
     "text": [
      "                   all       1030        487      0.781      0.637      0.722      0.315\n"
     ]
    },
    {
     "name": "stderr",
     "output_type": "stream",
     "text": [
      "\n"
     ]
    },
    {
     "name": "stdout",
     "output_type": "stream",
     "text": [
      "\n",
      "      Epoch    GPU_mem   box_loss   cls_loss   dfl_loss  Instances       Size\n"
     ]
    },
    {
     "name": "stderr",
     "output_type": "stream",
     "text": [
      "      49/50         0G      1.722          1     0.9919          3        640: 100%|██████████| 258/258 [38:56<00:00,  9.06s/it]\n",
      "                 Class     Images  Instances      Box(P          R      mAP50  mAP50-95): 100%|██████████| 33/33 [02:01<00:00,  3.67s/it]"
     ]
    },
    {
     "name": "stdout",
     "output_type": "stream",
     "text": [
      "                   all       1030        487      0.822      0.645      0.728      0.321\n"
     ]
    },
    {
     "name": "stderr",
     "output_type": "stream",
     "text": [
      "\n"
     ]
    },
    {
     "name": "stdout",
     "output_type": "stream",
     "text": [
      "\n",
      "      Epoch    GPU_mem   box_loss   cls_loss   dfl_loss  Instances       Size\n"
     ]
    },
    {
     "name": "stderr",
     "output_type": "stream",
     "text": [
      "      50/50         0G       1.71     0.9829     0.9906          1        640: 100%|██████████| 258/258 [38:18<00:00,  8.91s/it]\n",
      "                 Class     Images  Instances      Box(P          R      mAP50  mAP50-95): 100%|██████████| 33/33 [01:58<00:00,  3.61s/it]"
     ]
    },
    {
     "name": "stdout",
     "output_type": "stream",
     "text": [
      "                   all       1030        487      0.826      0.632      0.729      0.321\n"
     ]
    },
    {
     "name": "stderr",
     "output_type": "stream",
     "text": [
      "\n"
     ]
    },
    {
     "name": "stdout",
     "output_type": "stream",
     "text": [
      "\n",
      "50 epochs completed in 34.171 hours.\n",
      "Optimizer stripped from runs\\detect\\firearm_detection8\\weights\\last.pt, 6.2MB\n",
      "Optimizer stripped from runs\\detect\\firearm_detection8\\weights\\best.pt, 6.2MB\n",
      "\n",
      "Validating runs\\detect\\firearm_detection8\\weights\\best.pt...\n",
      "Ultralytics 8.3.67  Python-3.10.14 torch-2.5.1+cpu CPU (Intel Core(TM) i7-8550U 1.80GHz)\n",
      "Model summary (fused): 168 layers, 3,005,843 parameters, 0 gradients, 8.1 GFLOPs\n"
     ]
    },
    {
     "name": "stderr",
     "output_type": "stream",
     "text": [
      "                 Class     Images  Instances      Box(P          R      mAP50  mAP50-95): 100%|██████████| 33/33 [01:45<00:00,  3.19s/it]\n"
     ]
    },
    {
     "name": "stdout",
     "output_type": "stream",
     "text": [
      "                   all       1030        487       0.76      0.682      0.732      0.321\n",
      "Speed: 1.9ms preprocess, 79.3ms inference, 0.0ms loss, 0.5ms postprocess per image\n",
      "Results saved to \u001b[1mruns\\detect\\firearm_detection8\u001b[0m\n",
      "Training complete!\n"
     ]
    }
   ],
   "source": [
    "from ultralytics import YOLO\n",
    "\n",
    "# Path to dataset.yaml\n",
    "dataset_yaml = r\"C:\\Users\\taylo\\Documents\\personal\\Masters\\Capstone\\Data\\export-mock-attack-dataset\\dataset.yaml\"\n",
    "\n",
    "# Load YOLOv8 model\n",
    "model = YOLO(\"yolov8n.pt\")  # Replace \"yolov8n.pt\" with any YOLO model \n",
    "\n",
    "# Train the model\n",
    "print(\"Starting YOLOv8 training...\")\n",
    "model.train(\n",
    "    data=dataset_yaml,   # Path to dataset.yaml\n",
    "    epochs=50,           \n",
    "    imgsz=640,           \n",
    "    batch=16,            \n",
    "    name=\"firearm_detection\",  \n",
    "    project=\"runs/detect\"      \n",
    ")\n",
    "print(\"Training complete!\")\n"
   ]
  },
  {
   "cell_type": "code",
   "execution_count": 9,
   "metadata": {},
   "outputs": [
    {
     "name": "stdout",
     "output_type": "stream",
     "text": [
      "Validating the model...\n",
      "Ultralytics 8.3.67  Python-3.10.14 torch-2.5.1+cpu CPU (Intel Core(TM) i7-8550U 1.80GHz)\n",
      "Model summary (fused): 168 layers, 3,005,843 parameters, 0 gradients, 8.1 GFLOPs\n"
     ]
    },
    {
     "name": "stderr",
     "output_type": "stream",
     "text": [
      "\u001b[34m\u001b[1mval: \u001b[0mScanning C:\\Users\\taylo\\Documents\\personal\\Masters\\Capstone\\Data\\export-mock-attack-dataset\\labels\\val.cache... 1030 images, 735 backgrounds, 0 corrupt: 100%|██████████| 1030/1030 [00:00<?, ?it/s]\n",
      "                 Class     Images  Instances      Box(P          R      mAP50  mAP50-95): 100%|██████████| 65/65 [01:42<00:00,  1.57s/it]\n"
     ]
    },
    {
     "name": "stdout",
     "output_type": "stream",
     "text": [
      "                   all       1030        487       0.76      0.682      0.732      0.321\n",
      "Speed: 2.0ms preprocess, 74.3ms inference, 0.0ms loss, 0.4ms postprocess per image\n",
      "Results saved to \u001b[1mruns\\detect\\firearm_detection82\u001b[0m\n",
      "ultralytics.utils.metrics.DetMetrics object with attributes:\n",
      "\n",
      "ap_class_index: array([0])\n",
      "box: ultralytics.utils.metrics.Metric object\n",
      "confusion_matrix: <ultralytics.utils.metrics.ConfusionMatrix object at 0x000002D74A7A34C0>\n",
      "curves: ['Precision-Recall(B)', 'F1-Confidence(B)', 'Precision-Confidence(B)', 'Recall-Confidence(B)']\n",
      "curves_results: [[array([          0,    0.001001,    0.002002,    0.003003,    0.004004,    0.005005,    0.006006,    0.007007,    0.008008,    0.009009,     0.01001,    0.011011,    0.012012,    0.013013,    0.014014,    0.015015,    0.016016,    0.017017,    0.018018,    0.019019,     0.02002,    0.021021,    0.022022,    0.023023,\n",
      "          0.024024,    0.025025,    0.026026,    0.027027,    0.028028,    0.029029,     0.03003,    0.031031,    0.032032,    0.033033,    0.034034,    0.035035,    0.036036,    0.037037,    0.038038,    0.039039,     0.04004,    0.041041,    0.042042,    0.043043,    0.044044,    0.045045,    0.046046,    0.047047,\n",
      "          0.048048,    0.049049,     0.05005,    0.051051,    0.052052,    0.053053,    0.054054,    0.055055,    0.056056,    0.057057,    0.058058,    0.059059,     0.06006,    0.061061,    0.062062,    0.063063,    0.064064,    0.065065,    0.066066,    0.067067,    0.068068,    0.069069,     0.07007,    0.071071,\n",
      "          0.072072,    0.073073,    0.074074,    0.075075,    0.076076,    0.077077,    0.078078,    0.079079,     0.08008,    0.081081,    0.082082,    0.083083,    0.084084,    0.085085,    0.086086,    0.087087,    0.088088,    0.089089,     0.09009,    0.091091,    0.092092,    0.093093,    0.094094,    0.095095,\n",
      "          0.096096,    0.097097,    0.098098,    0.099099,      0.1001,      0.1011,      0.1021,      0.1031,      0.1041,     0.10511,     0.10611,     0.10711,     0.10811,     0.10911,     0.11011,     0.11111,     0.11211,     0.11311,     0.11411,     0.11512,     0.11612,     0.11712,     0.11812,     0.11912,\n",
      "           0.12012,     0.12112,     0.12212,     0.12312,     0.12412,     0.12513,     0.12613,     0.12713,     0.12813,     0.12913,     0.13013,     0.13113,     0.13213,     0.13313,     0.13413,     0.13514,     0.13614,     0.13714,     0.13814,     0.13914,     0.14014,     0.14114,     0.14214,     0.14314,\n",
      "           0.14414,     0.14515,     0.14615,     0.14715,     0.14815,     0.14915,     0.15015,     0.15115,     0.15215,     0.15315,     0.15415,     0.15516,     0.15616,     0.15716,     0.15816,     0.15916,     0.16016,     0.16116,     0.16216,     0.16316,     0.16416,     0.16517,     0.16617,     0.16717,\n",
      "           0.16817,     0.16917,     0.17017,     0.17117,     0.17217,     0.17317,     0.17417,     0.17518,     0.17618,     0.17718,     0.17818,     0.17918,     0.18018,     0.18118,     0.18218,     0.18318,     0.18418,     0.18519,     0.18619,     0.18719,     0.18819,     0.18919,     0.19019,     0.19119,\n",
      "           0.19219,     0.19319,     0.19419,      0.1952,      0.1962,      0.1972,      0.1982,      0.1992,      0.2002,      0.2012,      0.2022,      0.2032,      0.2042,     0.20521,     0.20621,     0.20721,     0.20821,     0.20921,     0.21021,     0.21121,     0.21221,     0.21321,     0.21421,     0.21522,\n",
      "           0.21622,     0.21722,     0.21822,     0.21922,     0.22022,     0.22122,     0.22222,     0.22322,     0.22422,     0.22523,     0.22623,     0.22723,     0.22823,     0.22923,     0.23023,     0.23123,     0.23223,     0.23323,     0.23423,     0.23524,     0.23624,     0.23724,     0.23824,     0.23924,\n",
      "           0.24024,     0.24124,     0.24224,     0.24324,     0.24424,     0.24525,     0.24625,     0.24725,     0.24825,     0.24925,     0.25025,     0.25125,     0.25225,     0.25325,     0.25425,     0.25526,     0.25626,     0.25726,     0.25826,     0.25926,     0.26026,     0.26126,     0.26226,     0.26326,\n",
      "           0.26426,     0.26527,     0.26627,     0.26727,     0.26827,     0.26927,     0.27027,     0.27127,     0.27227,     0.27327,     0.27427,     0.27528,     0.27628,     0.27728,     0.27828,     0.27928,     0.28028,     0.28128,     0.28228,     0.28328,     0.28428,     0.28529,     0.28629,     0.28729,\n",
      "           0.28829,     0.28929,     0.29029,     0.29129,     0.29229,     0.29329,     0.29429,      0.2953,      0.2963,      0.2973,      0.2983,      0.2993,      0.3003,      0.3013,      0.3023,      0.3033,      0.3043,     0.30531,     0.30631,     0.30731,     0.30831,     0.30931,     0.31031,     0.31131,\n",
      "           0.31231,     0.31331,     0.31431,     0.31532,     0.31632,     0.31732,     0.31832,     0.31932,     0.32032,     0.32132,     0.32232,     0.32332,     0.32432,     0.32533,     0.32633,     0.32733,     0.32833,     0.32933,     0.33033,     0.33133,     0.33233,     0.33333,     0.33433,     0.33534,\n",
      "           0.33634,     0.33734,     0.33834,     0.33934,     0.34034,     0.34134,     0.34234,     0.34334,     0.34434,     0.34535,     0.34635,     0.34735,     0.34835,     0.34935,     0.35035,     0.35135,     0.35235,     0.35335,     0.35435,     0.35536,     0.35636,     0.35736,     0.35836,     0.35936,\n",
      "           0.36036,     0.36136,     0.36236,     0.36336,     0.36436,     0.36537,     0.36637,     0.36737,     0.36837,     0.36937,     0.37037,     0.37137,     0.37237,     0.37337,     0.37437,     0.37538,     0.37638,     0.37738,     0.37838,     0.37938,     0.38038,     0.38138,     0.38238,     0.38338,\n",
      "           0.38438,     0.38539,     0.38639,     0.38739,     0.38839,     0.38939,     0.39039,     0.39139,     0.39239,     0.39339,     0.39439,      0.3954,      0.3964,      0.3974,      0.3984,      0.3994,      0.4004,      0.4014,      0.4024,      0.4034,      0.4044,     0.40541,     0.40641,     0.40741,\n",
      "           0.40841,     0.40941,     0.41041,     0.41141,     0.41241,     0.41341,     0.41441,     0.41542,     0.41642,     0.41742,     0.41842,     0.41942,     0.42042,     0.42142,     0.42242,     0.42342,     0.42442,     0.42543,     0.42643,     0.42743,     0.42843,     0.42943,     0.43043,     0.43143,\n",
      "           0.43243,     0.43343,     0.43443,     0.43544,     0.43644,     0.43744,     0.43844,     0.43944,     0.44044,     0.44144,     0.44244,     0.44344,     0.44444,     0.44545,     0.44645,     0.44745,     0.44845,     0.44945,     0.45045,     0.45145,     0.45245,     0.45345,     0.45445,     0.45546,\n",
      "           0.45646,     0.45746,     0.45846,     0.45946,     0.46046,     0.46146,     0.46246,     0.46346,     0.46446,     0.46547,     0.46647,     0.46747,     0.46847,     0.46947,     0.47047,     0.47147,     0.47247,     0.47347,     0.47447,     0.47548,     0.47648,     0.47748,     0.47848,     0.47948,\n",
      "           0.48048,     0.48148,     0.48248,     0.48348,     0.48448,     0.48549,     0.48649,     0.48749,     0.48849,     0.48949,     0.49049,     0.49149,     0.49249,     0.49349,     0.49449,      0.4955,      0.4965,      0.4975,      0.4985,      0.4995,      0.5005,      0.5015,      0.5025,      0.5035,\n",
      "            0.5045,     0.50551,     0.50651,     0.50751,     0.50851,     0.50951,     0.51051,     0.51151,     0.51251,     0.51351,     0.51451,     0.51552,     0.51652,     0.51752,     0.51852,     0.51952,     0.52052,     0.52152,     0.52252,     0.52352,     0.52452,     0.52553,     0.52653,     0.52753,\n",
      "           0.52853,     0.52953,     0.53053,     0.53153,     0.53253,     0.53353,     0.53453,     0.53554,     0.53654,     0.53754,     0.53854,     0.53954,     0.54054,     0.54154,     0.54254,     0.54354,     0.54454,     0.54555,     0.54655,     0.54755,     0.54855,     0.54955,     0.55055,     0.55155,\n",
      "           0.55255,     0.55355,     0.55455,     0.55556,     0.55656,     0.55756,     0.55856,     0.55956,     0.56056,     0.56156,     0.56256,     0.56356,     0.56456,     0.56557,     0.56657,     0.56757,     0.56857,     0.56957,     0.57057,     0.57157,     0.57257,     0.57357,     0.57457,     0.57558,\n",
      "           0.57658,     0.57758,     0.57858,     0.57958,     0.58058,     0.58158,     0.58258,     0.58358,     0.58458,     0.58559,     0.58659,     0.58759,     0.58859,     0.58959,     0.59059,     0.59159,     0.59259,     0.59359,     0.59459,      0.5956,      0.5966,      0.5976,      0.5986,      0.5996,\n",
      "            0.6006,      0.6016,      0.6026,      0.6036,      0.6046,     0.60561,     0.60661,     0.60761,     0.60861,     0.60961,     0.61061,     0.61161,     0.61261,     0.61361,     0.61461,     0.61562,     0.61662,     0.61762,     0.61862,     0.61962,     0.62062,     0.62162,     0.62262,     0.62362,\n",
      "           0.62462,     0.62563,     0.62663,     0.62763,     0.62863,     0.62963,     0.63063,     0.63163,     0.63263,     0.63363,     0.63463,     0.63564,     0.63664,     0.63764,     0.63864,     0.63964,     0.64064,     0.64164,     0.64264,     0.64364,     0.64464,     0.64565,     0.64665,     0.64765,\n",
      "           0.64865,     0.64965,     0.65065,     0.65165,     0.65265,     0.65365,     0.65465,     0.65566,     0.65666,     0.65766,     0.65866,     0.65966,     0.66066,     0.66166,     0.66266,     0.66366,     0.66466,     0.66567,     0.66667,     0.66767,     0.66867,     0.66967,     0.67067,     0.67167,\n",
      "           0.67267,     0.67367,     0.67467,     0.67568,     0.67668,     0.67768,     0.67868,     0.67968,     0.68068,     0.68168,     0.68268,     0.68368,     0.68468,     0.68569,     0.68669,     0.68769,     0.68869,     0.68969,     0.69069,     0.69169,     0.69269,     0.69369,     0.69469,      0.6957,\n",
      "            0.6967,      0.6977,      0.6987,      0.6997,      0.7007,      0.7017,      0.7027,      0.7037,      0.7047,     0.70571,     0.70671,     0.70771,     0.70871,     0.70971,     0.71071,     0.71171,     0.71271,     0.71371,     0.71471,     0.71572,     0.71672,     0.71772,     0.71872,     0.71972,\n",
      "           0.72072,     0.72172,     0.72272,     0.72372,     0.72472,     0.72573,     0.72673,     0.72773,     0.72873,     0.72973,     0.73073,     0.73173,     0.73273,     0.73373,     0.73473,     0.73574,     0.73674,     0.73774,     0.73874,     0.73974,     0.74074,     0.74174,     0.74274,     0.74374,\n",
      "           0.74474,     0.74575,     0.74675,     0.74775,     0.74875,     0.74975,     0.75075,     0.75175,     0.75275,     0.75375,     0.75475,     0.75576,     0.75676,     0.75776,     0.75876,     0.75976,     0.76076,     0.76176,     0.76276,     0.76376,     0.76476,     0.76577,     0.76677,     0.76777,\n",
      "           0.76877,     0.76977,     0.77077,     0.77177,     0.77277,     0.77377,     0.77477,     0.77578,     0.77678,     0.77778,     0.77878,     0.77978,     0.78078,     0.78178,     0.78278,     0.78378,     0.78478,     0.78579,     0.78679,     0.78779,     0.78879,     0.78979,     0.79079,     0.79179,\n",
      "           0.79279,     0.79379,     0.79479,      0.7958,      0.7968,      0.7978,      0.7988,      0.7998,      0.8008,      0.8018,      0.8028,      0.8038,      0.8048,     0.80581,     0.80681,     0.80781,     0.80881,     0.80981,     0.81081,     0.81181,     0.81281,     0.81381,     0.81481,     0.81582,\n",
      "           0.81682,     0.81782,     0.81882,     0.81982,     0.82082,     0.82182,     0.82282,     0.82382,     0.82482,     0.82583,     0.82683,     0.82783,     0.82883,     0.82983,     0.83083,     0.83183,     0.83283,     0.83383,     0.83483,     0.83584,     0.83684,     0.83784,     0.83884,     0.83984,\n",
      "           0.84084,     0.84184,     0.84284,     0.84384,     0.84484,     0.84585,     0.84685,     0.84785,     0.84885,     0.84985,     0.85085,     0.85185,     0.85285,     0.85385,     0.85485,     0.85586,     0.85686,     0.85786,     0.85886,     0.85986,     0.86086,     0.86186,     0.86286,     0.86386,\n",
      "           0.86486,     0.86587,     0.86687,     0.86787,     0.86887,     0.86987,     0.87087,     0.87187,     0.87287,     0.87387,     0.87487,     0.87588,     0.87688,     0.87788,     0.87888,     0.87988,     0.88088,     0.88188,     0.88288,     0.88388,     0.88488,     0.88589,     0.88689,     0.88789,\n",
      "           0.88889,     0.88989,     0.89089,     0.89189,     0.89289,     0.89389,     0.89489,      0.8959,      0.8969,      0.8979,      0.8989,      0.8999,      0.9009,      0.9019,      0.9029,      0.9039,      0.9049,     0.90591,     0.90691,     0.90791,     0.90891,     0.90991,     0.91091,     0.91191,\n",
      "           0.91291,     0.91391,     0.91491,     0.91592,     0.91692,     0.91792,     0.91892,     0.91992,     0.92092,     0.92192,     0.92292,     0.92392,     0.92492,     0.92593,     0.92693,     0.92793,     0.92893,     0.92993,     0.93093,     0.93193,     0.93293,     0.93393,     0.93493,     0.93594,\n",
      "           0.93694,     0.93794,     0.93894,     0.93994,     0.94094,     0.94194,     0.94294,     0.94394,     0.94494,     0.94595,     0.94695,     0.94795,     0.94895,     0.94995,     0.95095,     0.95195,     0.95295,     0.95395,     0.95495,     0.95596,     0.95696,     0.95796,     0.95896,     0.95996,\n",
      "           0.96096,     0.96196,     0.96296,     0.96396,     0.96496,     0.96597,     0.96697,     0.96797,     0.96897,     0.96997,     0.97097,     0.97197,     0.97297,     0.97397,     0.97497,     0.97598,     0.97698,     0.97798,     0.97898,     0.97998,     0.98098,     0.98198,     0.98298,     0.98398,\n",
      "           0.98498,     0.98599,     0.98699,     0.98799,     0.98899,     0.98999,     0.99099,     0.99199,     0.99299,     0.99399,     0.99499,       0.996,       0.997,       0.998,       0.999,           1]), array([[          1,           1,           1,           1,           1,           1,           1,           1,           1,           1,           1,           1,           1,           1,           1,           1,           1,           1,           1,           1,           1,           1,           1,\n",
      "                  1,           1,           1,           1,           1,           1,           1,           1,           1,           1,           1,           1,           1,           1,           1,           1,           1,           1,           1,           1,           1,           1,           1,\n",
      "                  1,           1,           1,           1,           1,           1,           1,           1,           1,           1,           1,           1,           1,           1,           1,           1,           1,           1,           1,           1,           1,           1,           1,\n",
      "                  1,           1,           1,           1,           1,           1,           1,           1,           1,           1,           1,           1,           1,           1,           1,           1,           1,           1,           1,           1,     0.98901,     0.98901,     0.98901,\n",
      "            0.98901,     0.98901,     0.98901,     0.98901,     0.98901,     0.98901,     0.98901,     0.98901,     0.98901,     0.98901,     0.98901,     0.98901,     0.98901,     0.98901,     0.98901,     0.98901,     0.98901,     0.98901,     0.98901,     0.98901,     0.98901,     0.98901,     0.98901,\n",
      "            0.98901,     0.98901,     0.98901,     0.98901,     0.98901,     0.98901,     0.98901,     0.98901,     0.98901,     0.98901,     0.98901,     0.98901,     0.98901,     0.98901,     0.98901,     0.98901,     0.98901,     0.98901,     0.98901,     0.98901,     0.98901,     0.98901,     0.98901,\n",
      "            0.98901,     0.98901,     0.98901,     0.98901,     0.98901,     0.98901,     0.98901,     0.98901,     0.98901,     0.98901,     0.98901,     0.98901,     0.98901,     0.98901,     0.98901,     0.98901,     0.98901,     0.98901,     0.98901,     0.98901,     0.98901,     0.98901,     0.98901,\n",
      "            0.98901,     0.98901,     0.98901,     0.98901,     0.98901,     0.98901,     0.98901,     0.98901,     0.98901,     0.98901,     0.98901,     0.98901,     0.98901,     0.98901,     0.98901,     0.98901,     0.98901,     0.98901,     0.98901,     0.98901,     0.98901,     0.98901,     0.98901,\n",
      "            0.98901,      0.9697,      0.9697,      0.9697,      0.9697,      0.9697,      0.9697,      0.9697,      0.9697,      0.9697,      0.9697,      0.9697,      0.9697,     0.96396,     0.96396,     0.96396,     0.96396,     0.96396,     0.96396,     0.96396,     0.96396,     0.96396,     0.96396,\n",
      "            0.96396,     0.96396,     0.96396,     0.96396,     0.96396,     0.96396,     0.96396,     0.96396,     0.96396,     0.96396,     0.96396,     0.96396,     0.96396,     0.96183,     0.96183,     0.96183,     0.96183,     0.96183,     0.96183,     0.96183,     0.96183,     0.96183,     0.96183,\n",
      "            0.96183,     0.96183,     0.96183,     0.96183,     0.96183,     0.96183,     0.96183,     0.96183,     0.96183,     0.96183,     0.96183,     0.96183,     0.96183,     0.96183,     0.96183,     0.96183,     0.96183,     0.96183,     0.96183,     0.96183,     0.96183,     0.96183,     0.96183,\n",
      "            0.96183,     0.96183,     0.96183,     0.96183,     0.96183,     0.96183,     0.95775,     0.95775,     0.95775,     0.95775,     0.95775,     0.95775,     0.95775,     0.95775,     0.95775,     0.95775,     0.95775,     0.95775,     0.95775,     0.95775,     0.95775,     0.95775,     0.95775,\n",
      "            0.95775,     0.95775,     0.95775,     0.95679,     0.95679,     0.95679,     0.95679,     0.95679,     0.95679,     0.95679,     0.95679,     0.95679,     0.95679,     0.95679,     0.95679,     0.95679,     0.95679,     0.95679,     0.95679,     0.95679,     0.95679,     0.95679,     0.95679,\n",
      "            0.95679,     0.95679,     0.95679,     0.95679,     0.95679,     0.95679,     0.95679,     0.95679,     0.95679,     0.95679,     0.95679,     0.95679,     0.95679,     0.95679,     0.95679,     0.95679,     0.95679,     0.95679,     0.95679,     0.95266,     0.95266,     0.95266,     0.95266,\n",
      "            0.95266,     0.95266,     0.95266,     0.95266,     0.95266,     0.95266,     0.95266,     0.95266,     0.95266,     0.94798,     0.94798,     0.94798,     0.94798,     0.94798,     0.94798,     0.94475,     0.94475,     0.94475,     0.94475,     0.94475,     0.94475,     0.94475,     0.94475,\n",
      "            0.94475,     0.94475,     0.94475,     0.94475,     0.94475,     0.94475,     0.94054,     0.94054,     0.94054,     0.94054,     0.94054,     0.94054,     0.93137,     0.93137,     0.93137,     0.93137,     0.93137,     0.93137,     0.93137,     0.93137,     0.93137,     0.93137,     0.93137,\n",
      "            0.93137,     0.93137,     0.93137,     0.93137,     0.93137,     0.93137,     0.93137,     0.93137,     0.93137,     0.93137,     0.93137,     0.93137,     0.93137,     0.93137,     0.93137,     0.93137,     0.93137,     0.93137,     0.93137,     0.93137,     0.93137,     0.93137,     0.92857,\n",
      "            0.92857,     0.92857,     0.92857,     0.92857,     0.92857,     0.92857,     0.92857,     0.92857,     0.92857,     0.92857,     0.92627,     0.92627,     0.92627,     0.92627,     0.92627,     0.92627,     0.92627,     0.92627,     0.92627,     0.92627,     0.92627,     0.92627,     0.92576,\n",
      "            0.92576,     0.92576,     0.92576,     0.92576,     0.92576,     0.92576,     0.92576,     0.92576,     0.92576,     0.92576,     0.92576,     0.92576,     0.92576,     0.92576,     0.92576,     0.92576,     0.92576,     0.92576,     0.92576,     0.92576,     0.92576,      0.9234,      0.9234,\n",
      "             0.9234,      0.9234,      0.9234,      0.9234,      0.9234,      0.9234,      0.9234,      0.9234,      0.9234,     0.92276,     0.92276,     0.92276,     0.92276,     0.92276,     0.92276,     0.92276,     0.92276,     0.92276,     0.92276,     0.92276,     0.92276,     0.92276,     0.92276,\n",
      "            0.92276,     0.92276,     0.92276,     0.92276,     0.92276,     0.92276,     0.91935,     0.91935,       0.916,       0.916,     0.90945,     0.90945,     0.90945,     0.90945,     0.90625,     0.90625,     0.90347,     0.90347,     0.90347,     0.90347,     0.90347,     0.90076,     0.90076,\n",
      "            0.90076,     0.90076,     0.89811,     0.89811,     0.89811,     0.89811,     0.89744,     0.89744,     0.89744,     0.89744,     0.89744,     0.89744,     0.89744,     0.89744,     0.89744,     0.89744,     0.89744,     0.89744,     0.89744,     0.89744,     0.89493,     0.89493,     0.89493,\n",
      "            0.89493,     0.88889,     0.88889,     0.88462,     0.88462,     0.88462,     0.88462,     0.88462,     0.88462,     0.88462,     0.88462,     0.88462,     0.88462,     0.88356,     0.88356,     0.88356,     0.88356,     0.88356,     0.88356,     0.88356,     0.88356,     0.88356,     0.88356,\n",
      "            0.88356,     0.87205,     0.87205,     0.86928,     0.86928,     0.86928,     0.86928,     0.86928,     0.86928,     0.86928,     0.86928,     0.86928,     0.86928,     0.86928,     0.86928,     0.86928,     0.86928,     0.86408,     0.86408,     0.86262,     0.86262,     0.86262,     0.86262,\n",
      "            0.86262,     0.86262,     0.85625,     0.85625,     0.85625,     0.85625,     0.85625,     0.85625,     0.85625,     0.85625,     0.85625,     0.85404,     0.85404,     0.85276,     0.85276,     0.85276,     0.85276,     0.85276,     0.85276,     0.85061,     0.85061,     0.84776,     0.84776,\n",
      "            0.84776,     0.84776,     0.84776,     0.84776,     0.84776,     0.84776,     0.84776,     0.84776,     0.84503,     0.84503,     0.84503,     0.84503,     0.84503,     0.84503,     0.84503,     0.84503,     0.84503,     0.84503,     0.84302,     0.84302,     0.83621,     0.83621,     0.83429,\n",
      "            0.83429,     0.83333,     0.83333,     0.83333,     0.83333,     0.83333,     0.83333,     0.83333,     0.83193,     0.83193,     0.83193,     0.83193,      0.8232,      0.8232,     0.82143,     0.82143,     0.81501,     0.81501,     0.81501,     0.81501,     0.81501,     0.81501,     0.81501,\n",
      "            0.81501,     0.81501,     0.81501,     0.81333,     0.81333,     0.79896,     0.79896,     0.79124,     0.79124,     0.78974,     0.78974,     0.78934,     0.78934,     0.78934,     0.78934,     0.78934,     0.78934,     0.78894,     0.78894,     0.78894,     0.78894,     0.78894,     0.78894,\n",
      "            0.78894,     0.78803,     0.78803,     0.78803,     0.78803,     0.78465,     0.78465,     0.78133,     0.78133,     0.77859,     0.77859,     0.77859,     0.77859,     0.77724,     0.77724,     0.77698,     0.77698,     0.77698,     0.77698,     0.77698,     0.77698,     0.77305,     0.77305,\n",
      "            0.77305,     0.77305,     0.77305,     0.77305,     0.76815,     0.76815,     0.76512,     0.76512,     0.76389,     0.76389,     0.75973,     0.75973,     0.75973,     0.75973,     0.75973,     0.75682,     0.75682,     0.75566,     0.75566,     0.74777,     0.74777,     0.74667,     0.74667,\n",
      "            0.74449,     0.74449,     0.74449,     0.74449,     0.74017,     0.74017,     0.73434,     0.73434,     0.73333,     0.73333,     0.72727,     0.72727,     0.72727,     0.72727,     0.72727,     0.72727,     0.72176,     0.72176,     0.72083,     0.72083,     0.70161,     0.70161,     0.70161,\n",
      "            0.70161,       0.698,       0.698,     0.68762,     0.68762,     0.68288,     0.68288,     0.68288,     0.67176,     0.67176,     0.66856,     0.66856,     0.66045,     0.66045,     0.65985,     0.65985,     0.65441,     0.65441,     0.65146,     0.65146,     0.64738,     0.64738,     0.64685,\n",
      "            0.64685,     0.63492,     0.63492,     0.63445,     0.63445,     0.61565,     0.61565,     0.60906,     0.60906,     0.60833,     0.60833,     0.60833,     0.60833,     0.59804,     0.59804,     0.59772,     0.59772,     0.59547,     0.59547,     0.58946,     0.58946,      0.5873,      0.5873,\n",
      "            0.57519,     0.57519,     0.57519,     0.57143,     0.57143,     0.56947,     0.56947,     0.56581,     0.56581,     0.56561,     0.56561,     0.56119,     0.56119,     0.54797,     0.54797,     0.53541,     0.53541,     0.53007,     0.53007,     0.52999,     0.52999,     0.52917,     0.52917,\n",
      "            0.51482,     0.51482,     0.50394,     0.50394,     0.50394,     0.50394,     0.48489,     0.48489,     0.48371,     0.48371,     0.47896,     0.47896,     0.47847,     0.47847,     0.47847,     0.47847,     0.47561,     0.47561,     0.47561,     0.45892,     0.45892,       0.448,       0.448,\n",
      "            0.44108,     0.44108,     0.42503,     0.42503,     0.41103,     0.41103,     0.40867,     0.40867,     0.39502,     0.39502,     0.39445,     0.39445,     0.39272,     0.39272,     0.34874,     0.34874,     0.34099,     0.34099,     0.34039,     0.34039,     0.34037,     0.34037,     0.32819,\n",
      "            0.32819,     0.32245,     0.32245,     0.31918,     0.31918,     0.30787,     0.30787,       0.302,       0.302,     0.29235,     0.29235,     0.27591,     0.27591,     0.27591,     0.25592,     0.25592,     0.25558,     0.25558,     0.24701,     0.24701,     0.23206,     0.23206,     0.22903,\n",
      "            0.22903,     0.22584,     0.22584,      0.2224,      0.2224,     0.17568,     0.17568,     0.17568,     0.17568,     0.16471,     0.16471,     0.16026,     0.16026,     0.15452,     0.15452,      0.1514,      0.1514,     0.15137,     0.15137,      0.1207,      0.1207,     0.11424,     0.11424,\n",
      "            0.11246,     0.11246,     0.10716,     0.10716,     0.10002,     0.10002,     0.10002,     0.09026,     0.09026,    0.076405,    0.076405,      0.0689,      0.0689,    0.067456,    0.067456,    0.067318,    0.067318,    0.061554,    0.061554,    0.055288,    0.055288,    0.050386,    0.049902,\n",
      "           0.049417,    0.048933,    0.048449,    0.047964,     0.04748,    0.046995,    0.046511,    0.046026,    0.045542,    0.045057,    0.044573,    0.044088,    0.043604,    0.043119,    0.042635,     0.04215,    0.041666,    0.041181,    0.040697,    0.040212,    0.039728,    0.039243,    0.038759,\n",
      "           0.038274,     0.03779,    0.037305,    0.036821,    0.036336,    0.035852,    0.035367,    0.034883,    0.034398,    0.033914,    0.033429,    0.032945,     0.03246,    0.031976,    0.031492,    0.031007,    0.030523,    0.030038,    0.029554,    0.029069,    0.028585,      0.0281,    0.027616,\n",
      "           0.027131,    0.026647,    0.026162,    0.025678,    0.025193,    0.024709,    0.024224,     0.02374,    0.023255,    0.022771,    0.022286,    0.021802,    0.021317,    0.020833,    0.020348,    0.019864,    0.019379,    0.018895,     0.01841,    0.017926,    0.017441,    0.016957,    0.016472,\n",
      "           0.015988,    0.015504,    0.015019,    0.014535,     0.01405,    0.013566,    0.013081,    0.012597,    0.012112,    0.011628,    0.011143,    0.010659,    0.010174,   0.0096897,   0.0092052,   0.0087207,   0.0082362,   0.0077518,   0.0072673,   0.0067828,   0.0062983,   0.0058138,   0.0053293,\n",
      "          0.0048449,   0.0043604,   0.0038759,   0.0033914,   0.0029069,   0.0024224,   0.0019379,   0.0014535,  0.00096897,  0.00048449,           0]]), 'Recall', 'Precision'], [array([          0,    0.001001,    0.002002,    0.003003,    0.004004,    0.005005,    0.006006,    0.007007,    0.008008,    0.009009,     0.01001,    0.011011,    0.012012,    0.013013,    0.014014,    0.015015,    0.016016,    0.017017,    0.018018,    0.019019,     0.02002,    0.021021,    0.022022,    0.023023,\n",
      "          0.024024,    0.025025,    0.026026,    0.027027,    0.028028,    0.029029,     0.03003,    0.031031,    0.032032,    0.033033,    0.034034,    0.035035,    0.036036,    0.037037,    0.038038,    0.039039,     0.04004,    0.041041,    0.042042,    0.043043,    0.044044,    0.045045,    0.046046,    0.047047,\n",
      "          0.048048,    0.049049,     0.05005,    0.051051,    0.052052,    0.053053,    0.054054,    0.055055,    0.056056,    0.057057,    0.058058,    0.059059,     0.06006,    0.061061,    0.062062,    0.063063,    0.064064,    0.065065,    0.066066,    0.067067,    0.068068,    0.069069,     0.07007,    0.071071,\n",
      "          0.072072,    0.073073,    0.074074,    0.075075,    0.076076,    0.077077,    0.078078,    0.079079,     0.08008,    0.081081,    0.082082,    0.083083,    0.084084,    0.085085,    0.086086,    0.087087,    0.088088,    0.089089,     0.09009,    0.091091,    0.092092,    0.093093,    0.094094,    0.095095,\n",
      "          0.096096,    0.097097,    0.098098,    0.099099,      0.1001,      0.1011,      0.1021,      0.1031,      0.1041,     0.10511,     0.10611,     0.10711,     0.10811,     0.10911,     0.11011,     0.11111,     0.11211,     0.11311,     0.11411,     0.11512,     0.11612,     0.11712,     0.11812,     0.11912,\n",
      "           0.12012,     0.12112,     0.12212,     0.12312,     0.12412,     0.12513,     0.12613,     0.12713,     0.12813,     0.12913,     0.13013,     0.13113,     0.13213,     0.13313,     0.13413,     0.13514,     0.13614,     0.13714,     0.13814,     0.13914,     0.14014,     0.14114,     0.14214,     0.14314,\n",
      "           0.14414,     0.14515,     0.14615,     0.14715,     0.14815,     0.14915,     0.15015,     0.15115,     0.15215,     0.15315,     0.15415,     0.15516,     0.15616,     0.15716,     0.15816,     0.15916,     0.16016,     0.16116,     0.16216,     0.16316,     0.16416,     0.16517,     0.16617,     0.16717,\n",
      "           0.16817,     0.16917,     0.17017,     0.17117,     0.17217,     0.17317,     0.17417,     0.17518,     0.17618,     0.17718,     0.17818,     0.17918,     0.18018,     0.18118,     0.18218,     0.18318,     0.18418,     0.18519,     0.18619,     0.18719,     0.18819,     0.18919,     0.19019,     0.19119,\n",
      "           0.19219,     0.19319,     0.19419,      0.1952,      0.1962,      0.1972,      0.1982,      0.1992,      0.2002,      0.2012,      0.2022,      0.2032,      0.2042,     0.20521,     0.20621,     0.20721,     0.20821,     0.20921,     0.21021,     0.21121,     0.21221,     0.21321,     0.21421,     0.21522,\n",
      "           0.21622,     0.21722,     0.21822,     0.21922,     0.22022,     0.22122,     0.22222,     0.22322,     0.22422,     0.22523,     0.22623,     0.22723,     0.22823,     0.22923,     0.23023,     0.23123,     0.23223,     0.23323,     0.23423,     0.23524,     0.23624,     0.23724,     0.23824,     0.23924,\n",
      "           0.24024,     0.24124,     0.24224,     0.24324,     0.24424,     0.24525,     0.24625,     0.24725,     0.24825,     0.24925,     0.25025,     0.25125,     0.25225,     0.25325,     0.25425,     0.25526,     0.25626,     0.25726,     0.25826,     0.25926,     0.26026,     0.26126,     0.26226,     0.26326,\n",
      "           0.26426,     0.26527,     0.26627,     0.26727,     0.26827,     0.26927,     0.27027,     0.27127,     0.27227,     0.27327,     0.27427,     0.27528,     0.27628,     0.27728,     0.27828,     0.27928,     0.28028,     0.28128,     0.28228,     0.28328,     0.28428,     0.28529,     0.28629,     0.28729,\n",
      "           0.28829,     0.28929,     0.29029,     0.29129,     0.29229,     0.29329,     0.29429,      0.2953,      0.2963,      0.2973,      0.2983,      0.2993,      0.3003,      0.3013,      0.3023,      0.3033,      0.3043,     0.30531,     0.30631,     0.30731,     0.30831,     0.30931,     0.31031,     0.31131,\n",
      "           0.31231,     0.31331,     0.31431,     0.31532,     0.31632,     0.31732,     0.31832,     0.31932,     0.32032,     0.32132,     0.32232,     0.32332,     0.32432,     0.32533,     0.32633,     0.32733,     0.32833,     0.32933,     0.33033,     0.33133,     0.33233,     0.33333,     0.33433,     0.33534,\n",
      "           0.33634,     0.33734,     0.33834,     0.33934,     0.34034,     0.34134,     0.34234,     0.34334,     0.34434,     0.34535,     0.34635,     0.34735,     0.34835,     0.34935,     0.35035,     0.35135,     0.35235,     0.35335,     0.35435,     0.35536,     0.35636,     0.35736,     0.35836,     0.35936,\n",
      "           0.36036,     0.36136,     0.36236,     0.36336,     0.36436,     0.36537,     0.36637,     0.36737,     0.36837,     0.36937,     0.37037,     0.37137,     0.37237,     0.37337,     0.37437,     0.37538,     0.37638,     0.37738,     0.37838,     0.37938,     0.38038,     0.38138,     0.38238,     0.38338,\n",
      "           0.38438,     0.38539,     0.38639,     0.38739,     0.38839,     0.38939,     0.39039,     0.39139,     0.39239,     0.39339,     0.39439,      0.3954,      0.3964,      0.3974,      0.3984,      0.3994,      0.4004,      0.4014,      0.4024,      0.4034,      0.4044,     0.40541,     0.40641,     0.40741,\n",
      "           0.40841,     0.40941,     0.41041,     0.41141,     0.41241,     0.41341,     0.41441,     0.41542,     0.41642,     0.41742,     0.41842,     0.41942,     0.42042,     0.42142,     0.42242,     0.42342,     0.42442,     0.42543,     0.42643,     0.42743,     0.42843,     0.42943,     0.43043,     0.43143,\n",
      "           0.43243,     0.43343,     0.43443,     0.43544,     0.43644,     0.43744,     0.43844,     0.43944,     0.44044,     0.44144,     0.44244,     0.44344,     0.44444,     0.44545,     0.44645,     0.44745,     0.44845,     0.44945,     0.45045,     0.45145,     0.45245,     0.45345,     0.45445,     0.45546,\n",
      "           0.45646,     0.45746,     0.45846,     0.45946,     0.46046,     0.46146,     0.46246,     0.46346,     0.46446,     0.46547,     0.46647,     0.46747,     0.46847,     0.46947,     0.47047,     0.47147,     0.47247,     0.47347,     0.47447,     0.47548,     0.47648,     0.47748,     0.47848,     0.47948,\n",
      "           0.48048,     0.48148,     0.48248,     0.48348,     0.48448,     0.48549,     0.48649,     0.48749,     0.48849,     0.48949,     0.49049,     0.49149,     0.49249,     0.49349,     0.49449,      0.4955,      0.4965,      0.4975,      0.4985,      0.4995,      0.5005,      0.5015,      0.5025,      0.5035,\n",
      "            0.5045,     0.50551,     0.50651,     0.50751,     0.50851,     0.50951,     0.51051,     0.51151,     0.51251,     0.51351,     0.51451,     0.51552,     0.51652,     0.51752,     0.51852,     0.51952,     0.52052,     0.52152,     0.52252,     0.52352,     0.52452,     0.52553,     0.52653,     0.52753,\n",
      "           0.52853,     0.52953,     0.53053,     0.53153,     0.53253,     0.53353,     0.53453,     0.53554,     0.53654,     0.53754,     0.53854,     0.53954,     0.54054,     0.54154,     0.54254,     0.54354,     0.54454,     0.54555,     0.54655,     0.54755,     0.54855,     0.54955,     0.55055,     0.55155,\n",
      "           0.55255,     0.55355,     0.55455,     0.55556,     0.55656,     0.55756,     0.55856,     0.55956,     0.56056,     0.56156,     0.56256,     0.56356,     0.56456,     0.56557,     0.56657,     0.56757,     0.56857,     0.56957,     0.57057,     0.57157,     0.57257,     0.57357,     0.57457,     0.57558,\n",
      "           0.57658,     0.57758,     0.57858,     0.57958,     0.58058,     0.58158,     0.58258,     0.58358,     0.58458,     0.58559,     0.58659,     0.58759,     0.58859,     0.58959,     0.59059,     0.59159,     0.59259,     0.59359,     0.59459,      0.5956,      0.5966,      0.5976,      0.5986,      0.5996,\n",
      "            0.6006,      0.6016,      0.6026,      0.6036,      0.6046,     0.60561,     0.60661,     0.60761,     0.60861,     0.60961,     0.61061,     0.61161,     0.61261,     0.61361,     0.61461,     0.61562,     0.61662,     0.61762,     0.61862,     0.61962,     0.62062,     0.62162,     0.62262,     0.62362,\n",
      "           0.62462,     0.62563,     0.62663,     0.62763,     0.62863,     0.62963,     0.63063,     0.63163,     0.63263,     0.63363,     0.63463,     0.63564,     0.63664,     0.63764,     0.63864,     0.63964,     0.64064,     0.64164,     0.64264,     0.64364,     0.64464,     0.64565,     0.64665,     0.64765,\n",
      "           0.64865,     0.64965,     0.65065,     0.65165,     0.65265,     0.65365,     0.65465,     0.65566,     0.65666,     0.65766,     0.65866,     0.65966,     0.66066,     0.66166,     0.66266,     0.66366,     0.66466,     0.66567,     0.66667,     0.66767,     0.66867,     0.66967,     0.67067,     0.67167,\n",
      "           0.67267,     0.67367,     0.67467,     0.67568,     0.67668,     0.67768,     0.67868,     0.67968,     0.68068,     0.68168,     0.68268,     0.68368,     0.68468,     0.68569,     0.68669,     0.68769,     0.68869,     0.68969,     0.69069,     0.69169,     0.69269,     0.69369,     0.69469,      0.6957,\n",
      "            0.6967,      0.6977,      0.6987,      0.6997,      0.7007,      0.7017,      0.7027,      0.7037,      0.7047,     0.70571,     0.70671,     0.70771,     0.70871,     0.70971,     0.71071,     0.71171,     0.71271,     0.71371,     0.71471,     0.71572,     0.71672,     0.71772,     0.71872,     0.71972,\n",
      "           0.72072,     0.72172,     0.72272,     0.72372,     0.72472,     0.72573,     0.72673,     0.72773,     0.72873,     0.72973,     0.73073,     0.73173,     0.73273,     0.73373,     0.73473,     0.73574,     0.73674,     0.73774,     0.73874,     0.73974,     0.74074,     0.74174,     0.74274,     0.74374,\n",
      "           0.74474,     0.74575,     0.74675,     0.74775,     0.74875,     0.74975,     0.75075,     0.75175,     0.75275,     0.75375,     0.75475,     0.75576,     0.75676,     0.75776,     0.75876,     0.75976,     0.76076,     0.76176,     0.76276,     0.76376,     0.76476,     0.76577,     0.76677,     0.76777,\n",
      "           0.76877,     0.76977,     0.77077,     0.77177,     0.77277,     0.77377,     0.77477,     0.77578,     0.77678,     0.77778,     0.77878,     0.77978,     0.78078,     0.78178,     0.78278,     0.78378,     0.78478,     0.78579,     0.78679,     0.78779,     0.78879,     0.78979,     0.79079,     0.79179,\n",
      "           0.79279,     0.79379,     0.79479,      0.7958,      0.7968,      0.7978,      0.7988,      0.7998,      0.8008,      0.8018,      0.8028,      0.8038,      0.8048,     0.80581,     0.80681,     0.80781,     0.80881,     0.80981,     0.81081,     0.81181,     0.81281,     0.81381,     0.81481,     0.81582,\n",
      "           0.81682,     0.81782,     0.81882,     0.81982,     0.82082,     0.82182,     0.82282,     0.82382,     0.82482,     0.82583,     0.82683,     0.82783,     0.82883,     0.82983,     0.83083,     0.83183,     0.83283,     0.83383,     0.83483,     0.83584,     0.83684,     0.83784,     0.83884,     0.83984,\n",
      "           0.84084,     0.84184,     0.84284,     0.84384,     0.84484,     0.84585,     0.84685,     0.84785,     0.84885,     0.84985,     0.85085,     0.85185,     0.85285,     0.85385,     0.85485,     0.85586,     0.85686,     0.85786,     0.85886,     0.85986,     0.86086,     0.86186,     0.86286,     0.86386,\n",
      "           0.86486,     0.86587,     0.86687,     0.86787,     0.86887,     0.86987,     0.87087,     0.87187,     0.87287,     0.87387,     0.87487,     0.87588,     0.87688,     0.87788,     0.87888,     0.87988,     0.88088,     0.88188,     0.88288,     0.88388,     0.88488,     0.88589,     0.88689,     0.88789,\n",
      "           0.88889,     0.88989,     0.89089,     0.89189,     0.89289,     0.89389,     0.89489,      0.8959,      0.8969,      0.8979,      0.8989,      0.8999,      0.9009,      0.9019,      0.9029,      0.9039,      0.9049,     0.90591,     0.90691,     0.90791,     0.90891,     0.90991,     0.91091,     0.91191,\n",
      "           0.91291,     0.91391,     0.91491,     0.91592,     0.91692,     0.91792,     0.91892,     0.91992,     0.92092,     0.92192,     0.92292,     0.92392,     0.92492,     0.92593,     0.92693,     0.92793,     0.92893,     0.92993,     0.93093,     0.93193,     0.93293,     0.93393,     0.93493,     0.93594,\n",
      "           0.93694,     0.93794,     0.93894,     0.93994,     0.94094,     0.94194,     0.94294,     0.94394,     0.94494,     0.94595,     0.94695,     0.94795,     0.94895,     0.94995,     0.95095,     0.95195,     0.95295,     0.95395,     0.95495,     0.95596,     0.95696,     0.95796,     0.95896,     0.95996,\n",
      "           0.96096,     0.96196,     0.96296,     0.96396,     0.96496,     0.96597,     0.96697,     0.96797,     0.96897,     0.96997,     0.97097,     0.97197,     0.97297,     0.97397,     0.97497,     0.97598,     0.97698,     0.97798,     0.97898,     0.97998,     0.98098,     0.98198,     0.98298,     0.98398,\n",
      "           0.98498,     0.98599,     0.98699,     0.98799,     0.98899,     0.98999,     0.99099,     0.99199,     0.99299,     0.99399,     0.99499,       0.996,       0.997,       0.998,       0.999,           1]), array([[    0.09594,    0.095986,     0.13333,     0.16253,     0.18546,     0.20546,     0.22415,     0.23814,     0.25532,     0.26801,     0.28164,     0.29259,     0.30286,     0.31406,     0.32467,     0.33606,     0.34375,     0.35019,     0.35725,     0.36665,     0.37393,     0.38241,     0.38841,\n",
      "            0.39408,      0.4031,     0.40903,     0.41505,     0.42145,     0.42792,      0.4333,     0.43931,      0.4444,     0.44949,     0.45636,     0.46126,     0.46523,      0.4685,     0.47246,     0.47727,     0.48017,      0.4814,     0.48463,     0.48892,     0.49462,     0.49867,      0.5056,\n",
      "            0.51071,     0.51426,      0.5168,     0.52036,     0.52416,     0.52656,     0.52826,     0.53009,      0.5319,     0.53317,     0.53617,     0.54151,     0.54341,     0.54445,     0.54981,     0.55262,     0.55673,     0.56066,     0.56297,     0.56636,     0.56816,     0.56945,      0.5717,\n",
      "            0.57369,     0.57581,     0.57841,     0.58146,     0.58268,     0.58403,     0.58659,     0.58956,     0.59256,     0.59558,     0.59657,     0.59715,     0.59879,     0.59991,     0.60176,     0.60444,     0.60618,     0.60925,     0.60996,     0.61184,     0.61379,     0.61392,      0.6148,\n",
      "            0.61727,     0.62019,     0.62154,     0.62384,     0.62545,     0.62805,     0.62902,     0.63109,     0.63073,     0.62951,     0.63101,     0.63697,     0.63871,     0.63958,     0.64014,     0.64152,     0.64096,     0.64201,     0.64263,     0.64518,     0.64674,     0.64949,     0.64974,\n",
      "            0.64939,     0.65137,     0.65135,     0.65093,     0.65308,     0.65217,     0.65288,     0.65463,     0.65434,     0.65618,     0.65719,     0.65816,      0.6593,     0.66011,     0.66225,     0.66138,     0.66182,     0.66188,     0.66462,     0.66573,     0.66545,      0.6658,     0.66747,\n",
      "            0.66886,     0.67063,     0.67126,     0.66999,     0.67006,     0.67052,     0.67177,     0.67203,     0.67305,     0.67294,     0.67337,     0.67496,     0.67642,     0.67743,     0.67802,     0.67836,     0.67934,     0.67987,      0.6803,     0.68093,      0.6834,     0.68329,     0.68274,\n",
      "            0.68205,      0.6838,     0.68673,     0.68854,     0.68794,     0.68784,     0.68792,     0.68944,        0.69,      0.6901,     0.68939,     0.68956,     0.68973,     0.68991,      0.6911,     0.69168,      0.6914,     0.69109,     0.69185,     0.69317,     0.69404,     0.69555,      0.6944,\n",
      "            0.69606,     0.69641,     0.69858,     0.70066,     0.70112,     0.70028,      0.7016,     0.70261,     0.70195,     0.70173,     0.70212,     0.70307,     0.70336,     0.70366,     0.70471,     0.70543,     0.70596,     0.70694,     0.70613,     0.70714,     0.70751,     0.70776,       0.708,\n",
      "            0.70683,     0.70557,     0.70626,     0.70734,     0.70848,     0.71033,     0.71248,     0.71439,     0.71529,      0.7151,     0.71434,     0.71445,     0.71375,     0.71414,     0.71496,     0.71624,     0.71516,     0.71407,     0.71314,     0.71356,     0.71378,       0.714,     0.71474,\n",
      "            0.71517,     0.71548,      0.7158,     0.71615,     0.71612,     0.71521,     0.71526,     0.71553,     0.71571,     0.71509,      0.7172,     0.71762,     0.71823,     0.71758,     0.71648,     0.71679,     0.71702,     0.71669,     0.71636,     0.71603,     0.71631,     0.71539,     0.71654,\n",
      "            0.71768,     0.71798,     0.71828,     0.71874,     0.71796,     0.71812,     0.71793,     0.71854,     0.71669,     0.71685,       0.717,     0.71716,     0.71732,     0.71756,      0.7179,     0.71803,      0.7172,     0.71703,     0.71642,      0.7171,     0.71733,     0.71661,     0.71737,\n",
      "            0.71816,     0.71839,     0.71802,     0.71764,     0.71726,     0.71678,      0.7163,     0.71579,     0.71494,     0.71525,     0.71574,     0.71625,     0.71679,       0.714,     0.71215,     0.71205,      0.7122,     0.71236,     0.71252,     0.71267,     0.71152,     0.71081,     0.71026,\n",
      "            0.71065,     0.71125,     0.71021,     0.71115,     0.71098,     0.71128,     0.71157,        0.71,     0.70938,     0.70885,     0.70955,     0.70862,     0.70662,     0.70641,      0.7062,     0.70599,     0.70578,     0.70557,     0.70536,     0.70597,     0.70554,     0.70512,     0.70469,\n",
      "            0.70354,     0.70186,     0.70228,     0.70179,     0.70094,     0.70073,      0.7007,     0.70141,     0.70236,     0.70329,     0.70393,     0.70448,     0.70477,     0.70507,     0.70619,     0.70719,     0.70618,     0.70643,     0.70668,     0.70693,     0.70638,     0.70566,     0.70528,\n",
      "            0.70502,     0.70476,     0.70451,     0.70425,     0.70399,     0.70326,     0.70248,      0.7002,     0.70069,      0.7011,      0.7013,      0.7015,      0.7017,     0.70195,     0.70253,     0.70056,     0.70112,     0.70145,     0.70166,     0.70188,      0.7021,     0.70366,     0.70201,\n",
      "            0.70168,     0.70134,     0.70101,     0.70103,     0.70118,     0.70074,      0.7003,      0.6998,     0.69916,     0.69852,     0.69784,     0.69714,       0.697,     0.69715,     0.69731,     0.69746,     0.69762,     0.69758,     0.69703,     0.69648,      0.6968,     0.69575,     0.69644,\n",
      "            0.69685,     0.69788,     0.69687,     0.69717,     0.69676,     0.69634,     0.69593,     0.69509,     0.69394,     0.69359,     0.69323,     0.69287,     0.69251,     0.69188,     0.69122,     0.69071,     0.69032,     0.68994,     0.68956,     0.68965,     0.69049,     0.69078,     0.69019,\n",
      "             0.6896,     0.68824,      0.6866,      0.6855,     0.68459,     0.68432,     0.68404,     0.68377,      0.6835,     0.68323,     0.68306,     0.68376,     0.68431,     0.68356,     0.68314,     0.68344,     0.68374,     0.68355,     0.68289,       0.682,     0.67992,     0.67972,     0.67845,\n",
      "            0.67835,      0.6785,     0.67866,     0.67881,     0.67897,     0.67873,     0.67796,     0.67729,     0.67687,     0.67645,     0.67603,     0.67527,     0.67405,     0.67316,     0.67267,     0.67342,     0.67383,     0.67479,     0.67254,     0.67132,      0.6707,     0.67007,     0.67065,\n",
      "            0.66991,      0.6692,     0.67001,     0.67052,     0.67066,     0.66992,      0.6691,     0.66684,     0.66583,     0.66439,     0.66256,     0.66127,     0.65904,     0.65963,     0.66023,     0.66035,     0.65906,     0.65932,     0.65958,     0.65983,     0.66041,     0.66102,     0.66201,\n",
      "            0.66166,     0.66081,     0.65885,       0.658,     0.65717,     0.65655,     0.65592,     0.65511,     0.65384,     0.65288,     0.64931,     0.64888,     0.64845,     0.64802,     0.64758,      0.6472,     0.64681,     0.64643,     0.64604,     0.64668,     0.64703,     0.64738,     0.64707,\n",
      "            0.64633,     0.64663,      0.6468,     0.64698,     0.64715,     0.64733,     0.64604,      0.6445,     0.64194,     0.64047,     0.63954,     0.63876,     0.63802,     0.63575,     0.63499,     0.63422,     0.63268,     0.63189,     0.63104,      0.6294,     0.62987,     0.62992,     0.62917,\n",
      "            0.62841,     0.62707,     0.62696,     0.62595,      0.6238,     0.62405,     0.62431,     0.62364,      0.6232,     0.62258,     0.62196,     0.61981,     0.62068,     0.62087,     0.62004,      0.6193,     0.61891,     0.61843,     0.61795,     0.61748,     0.61706,     0.61664,     0.61623,\n",
      "            0.61581,     0.61463,      0.6133,     0.61254,     0.61174,     0.60974,     0.60863,     0.60698,     0.60408,     0.60366,     0.60324,     0.60282,      0.6024,      0.6005,     0.60104,     0.60068,     0.60032,     0.59995,     0.59959,     0.59922,     0.59796,     0.59674,     0.59575,\n",
      "             0.5942,     0.59206,     0.59107,     0.58959,      0.5887,     0.58687,     0.58387,       0.581,     0.57926,     0.57618,     0.57361,     0.57067,     0.56874,     0.56704,     0.56644,      0.5659,     0.56536,     0.56403,     0.56012,     0.55916,     0.55843,      0.5564,     0.55387,\n",
      "             0.5493,     0.54765,     0.54623,     0.54354,     0.54312,     0.54269,     0.54227,     0.54184,     0.54125,     0.53979,     0.53607,     0.53454,     0.53353,      0.5326,     0.53179,     0.53097,     0.52788,     0.52357,     0.52001,     0.52026,     0.52051,      0.5206,     0.52003,\n",
      "            0.51946,     0.51889,     0.51772,     0.51697,     0.51742,     0.51777,     0.51718,     0.51628,     0.51515,     0.51349,     0.51047,     0.50727,     0.50504,     0.50385,     0.50242,     0.49916,     0.49709,     0.49638,     0.49676,     0.49617,     0.49229,     0.49051,      0.4903,\n",
      "            0.49055,      0.4908,     0.48932,     0.48564,     0.48326,     0.48181,     0.47891,     0.47801,      0.4771,     0.47516,     0.47281,     0.47187,     0.47093,     0.46789,     0.46505,     0.46336,     0.46081,     0.45959,     0.45804,     0.45334,     0.45171,     0.44796,     0.44333,\n",
      "            0.44178,     0.43846,     0.43653,     0.43203,     0.43229,     0.42349,     0.42091,     0.41895,     0.41537,     0.41159,     0.40936,     0.40809,     0.40714,      0.4073,     0.40746,     0.40761,     0.40777,     0.40575,     0.39712,     0.39345,     0.38785,     0.37753,     0.37452,\n",
      "            0.36797,     0.36592,     0.36274,     0.36203,     0.36132,     0.36061,     0.35985,     0.35871,     0.35758,      0.3563,     0.35308,     0.35028,      0.3475,     0.34389,     0.34161,     0.33814,     0.33752,      0.3369,     0.33627,     0.33565,     0.32733,     0.32557,     0.31596,\n",
      "            0.31482,     0.31369,     0.31084,     0.31009,     0.30665,     0.29919,     0.29718,     0.28689,     0.28319,     0.28007,      0.2766,     0.27486,     0.27359,     0.27231,     0.27092,     0.26954,     0.25774,     0.25264,     0.24647,     0.24367,     0.23721,     0.23218,     0.22452,\n",
      "            0.22214,     0.22072,     0.21928,     0.21828,     0.21738,     0.21649,     0.21465,     0.20519,     0.20174,     0.20016,     0.19846,     0.19659,     0.19198,     0.18984,     0.18567,     0.18166,     0.18023,     0.17849,     0.17564,     0.17332,     0.17151,     0.17013,     0.16856,\n",
      "            0.16357,     0.15821,     0.15495,     0.15389,     0.15283,     0.15171,     0.14862,     0.14378,     0.14194,     0.13691,     0.13562,     0.13432,     0.11968,     0.11731,     0.11464,     0.10851,     0.10653,    0.095553,    0.091565,    0.088655,    0.086243,    0.085623,    0.085002,\n",
      "           0.084381,    0.083759,    0.083137,    0.082106,    0.079923,     0.07722,    0.071099,    0.069219,     0.06742,    0.066815,    0.066209,    0.065603,    0.064997,     0.06439,    0.063783,    0.063237,    0.062714,    0.062191,    0.061667,    0.061143,    0.060619,    0.060094,     0.05852,\n",
      "           0.055824,    0.055542,    0.055259,    0.054976,    0.054694,    0.054411,    0.054128,    0.053845,    0.053562,    0.053279,    0.052996,    0.052713,    0.052429,    0.052146,    0.051629,    0.050864,    0.050099,    0.049332,    0.048566,     0.04778,    0.046964,    0.046147,     0.04533,\n",
      "           0.044511,    0.041443,     0.03571,    0.032577,    0.030606,    0.028734,     0.02792,    0.027387,    0.026854,    0.026321,    0.025788,    0.025254,     0.02472,     0.02412,    0.023359,    0.022597,    0.021835,    0.021072,    0.020302,    0.019205,    0.018108,     0.01701,    0.016227,\n",
      "           0.016036,    0.015845,    0.015654,    0.015463,    0.015272,    0.015081,     0.01489,    0.014699,    0.014508,    0.014317,    0.014125,    0.013934,    0.013743,    0.013551,     0.01336,    0.013169,    0.012977,    0.012786,    0.012594,    0.012403,     0.01218,    0.011813,    0.011446,\n",
      "           0.011079,    0.010712,    0.010345,   0.0099773,   0.0096097,    0.009242,   0.0088741,   0.0085061,   0.0081659,   0.0080429,   0.0079199,   0.0077969,   0.0076738,   0.0075508,   0.0074277,   0.0073046,   0.0071815,   0.0070584,   0.0069353,   0.0068121,   0.0066889,   0.0065658,   0.0064426,\n",
      "          0.0063194,   0.0061961,   0.0060729,   0.0059496,   0.0058264,   0.0057031,   0.0055798,   0.0054564,   0.0053331,   0.0052098,   0.0050864,    0.004963,   0.0048396,   0.0047162,   0.0045928,   0.0044694,   0.0043459,   0.0042224,   0.0040989,           0,           0,           0,           0,\n",
      "                  0,           0,           0,           0,           0,           0,           0,           0,           0,           0,           0,           0,           0,           0,           0,           0,           0,           0,           0,           0,           0,           0,           0,\n",
      "                  0,           0,           0,           0,           0,           0,           0,           0,           0,           0,           0,           0,           0,           0,           0,           0,           0,           0,           0,           0,           0,           0,           0,\n",
      "                  0,           0,           0,           0,           0,           0,           0,           0,           0,           0,           0,           0,           0,           0,           0,           0,           0,           0,           0,           0,           0,           0,           0,\n",
      "                  0,           0,           0,           0,           0,           0,           0,           0,           0,           0,           0]]), 'Confidence', 'F1'], [array([          0,    0.001001,    0.002002,    0.003003,    0.004004,    0.005005,    0.006006,    0.007007,    0.008008,    0.009009,     0.01001,    0.011011,    0.012012,    0.013013,    0.014014,    0.015015,    0.016016,    0.017017,    0.018018,    0.019019,     0.02002,    0.021021,    0.022022,    0.023023,\n",
      "          0.024024,    0.025025,    0.026026,    0.027027,    0.028028,    0.029029,     0.03003,    0.031031,    0.032032,    0.033033,    0.034034,    0.035035,    0.036036,    0.037037,    0.038038,    0.039039,     0.04004,    0.041041,    0.042042,    0.043043,    0.044044,    0.045045,    0.046046,    0.047047,\n",
      "          0.048048,    0.049049,     0.05005,    0.051051,    0.052052,    0.053053,    0.054054,    0.055055,    0.056056,    0.057057,    0.058058,    0.059059,     0.06006,    0.061061,    0.062062,    0.063063,    0.064064,    0.065065,    0.066066,    0.067067,    0.068068,    0.069069,     0.07007,    0.071071,\n",
      "          0.072072,    0.073073,    0.074074,    0.075075,    0.076076,    0.077077,    0.078078,    0.079079,     0.08008,    0.081081,    0.082082,    0.083083,    0.084084,    0.085085,    0.086086,    0.087087,    0.088088,    0.089089,     0.09009,    0.091091,    0.092092,    0.093093,    0.094094,    0.095095,\n",
      "          0.096096,    0.097097,    0.098098,    0.099099,      0.1001,      0.1011,      0.1021,      0.1031,      0.1041,     0.10511,     0.10611,     0.10711,     0.10811,     0.10911,     0.11011,     0.11111,     0.11211,     0.11311,     0.11411,     0.11512,     0.11612,     0.11712,     0.11812,     0.11912,\n",
      "           0.12012,     0.12112,     0.12212,     0.12312,     0.12412,     0.12513,     0.12613,     0.12713,     0.12813,     0.12913,     0.13013,     0.13113,     0.13213,     0.13313,     0.13413,     0.13514,     0.13614,     0.13714,     0.13814,     0.13914,     0.14014,     0.14114,     0.14214,     0.14314,\n",
      "           0.14414,     0.14515,     0.14615,     0.14715,     0.14815,     0.14915,     0.15015,     0.15115,     0.15215,     0.15315,     0.15415,     0.15516,     0.15616,     0.15716,     0.15816,     0.15916,     0.16016,     0.16116,     0.16216,     0.16316,     0.16416,     0.16517,     0.16617,     0.16717,\n",
      "           0.16817,     0.16917,     0.17017,     0.17117,     0.17217,     0.17317,     0.17417,     0.17518,     0.17618,     0.17718,     0.17818,     0.17918,     0.18018,     0.18118,     0.18218,     0.18318,     0.18418,     0.18519,     0.18619,     0.18719,     0.18819,     0.18919,     0.19019,     0.19119,\n",
      "           0.19219,     0.19319,     0.19419,      0.1952,      0.1962,      0.1972,      0.1982,      0.1992,      0.2002,      0.2012,      0.2022,      0.2032,      0.2042,     0.20521,     0.20621,     0.20721,     0.20821,     0.20921,     0.21021,     0.21121,     0.21221,     0.21321,     0.21421,     0.21522,\n",
      "           0.21622,     0.21722,     0.21822,     0.21922,     0.22022,     0.22122,     0.22222,     0.22322,     0.22422,     0.22523,     0.22623,     0.22723,     0.22823,     0.22923,     0.23023,     0.23123,     0.23223,     0.23323,     0.23423,     0.23524,     0.23624,     0.23724,     0.23824,     0.23924,\n",
      "           0.24024,     0.24124,     0.24224,     0.24324,     0.24424,     0.24525,     0.24625,     0.24725,     0.24825,     0.24925,     0.25025,     0.25125,     0.25225,     0.25325,     0.25425,     0.25526,     0.25626,     0.25726,     0.25826,     0.25926,     0.26026,     0.26126,     0.26226,     0.26326,\n",
      "           0.26426,     0.26527,     0.26627,     0.26727,     0.26827,     0.26927,     0.27027,     0.27127,     0.27227,     0.27327,     0.27427,     0.27528,     0.27628,     0.27728,     0.27828,     0.27928,     0.28028,     0.28128,     0.28228,     0.28328,     0.28428,     0.28529,     0.28629,     0.28729,\n",
      "           0.28829,     0.28929,     0.29029,     0.29129,     0.29229,     0.29329,     0.29429,      0.2953,      0.2963,      0.2973,      0.2983,      0.2993,      0.3003,      0.3013,      0.3023,      0.3033,      0.3043,     0.30531,     0.30631,     0.30731,     0.30831,     0.30931,     0.31031,     0.31131,\n",
      "           0.31231,     0.31331,     0.31431,     0.31532,     0.31632,     0.31732,     0.31832,     0.31932,     0.32032,     0.32132,     0.32232,     0.32332,     0.32432,     0.32533,     0.32633,     0.32733,     0.32833,     0.32933,     0.33033,     0.33133,     0.33233,     0.33333,     0.33433,     0.33534,\n",
      "           0.33634,     0.33734,     0.33834,     0.33934,     0.34034,     0.34134,     0.34234,     0.34334,     0.34434,     0.34535,     0.34635,     0.34735,     0.34835,     0.34935,     0.35035,     0.35135,     0.35235,     0.35335,     0.35435,     0.35536,     0.35636,     0.35736,     0.35836,     0.35936,\n",
      "           0.36036,     0.36136,     0.36236,     0.36336,     0.36436,     0.36537,     0.36637,     0.36737,     0.36837,     0.36937,     0.37037,     0.37137,     0.37237,     0.37337,     0.37437,     0.37538,     0.37638,     0.37738,     0.37838,     0.37938,     0.38038,     0.38138,     0.38238,     0.38338,\n",
      "           0.38438,     0.38539,     0.38639,     0.38739,     0.38839,     0.38939,     0.39039,     0.39139,     0.39239,     0.39339,     0.39439,      0.3954,      0.3964,      0.3974,      0.3984,      0.3994,      0.4004,      0.4014,      0.4024,      0.4034,      0.4044,     0.40541,     0.40641,     0.40741,\n",
      "           0.40841,     0.40941,     0.41041,     0.41141,     0.41241,     0.41341,     0.41441,     0.41542,     0.41642,     0.41742,     0.41842,     0.41942,     0.42042,     0.42142,     0.42242,     0.42342,     0.42442,     0.42543,     0.42643,     0.42743,     0.42843,     0.42943,     0.43043,     0.43143,\n",
      "           0.43243,     0.43343,     0.43443,     0.43544,     0.43644,     0.43744,     0.43844,     0.43944,     0.44044,     0.44144,     0.44244,     0.44344,     0.44444,     0.44545,     0.44645,     0.44745,     0.44845,     0.44945,     0.45045,     0.45145,     0.45245,     0.45345,     0.45445,     0.45546,\n",
      "           0.45646,     0.45746,     0.45846,     0.45946,     0.46046,     0.46146,     0.46246,     0.46346,     0.46446,     0.46547,     0.46647,     0.46747,     0.46847,     0.46947,     0.47047,     0.47147,     0.47247,     0.47347,     0.47447,     0.47548,     0.47648,     0.47748,     0.47848,     0.47948,\n",
      "           0.48048,     0.48148,     0.48248,     0.48348,     0.48448,     0.48549,     0.48649,     0.48749,     0.48849,     0.48949,     0.49049,     0.49149,     0.49249,     0.49349,     0.49449,      0.4955,      0.4965,      0.4975,      0.4985,      0.4995,      0.5005,      0.5015,      0.5025,      0.5035,\n",
      "            0.5045,     0.50551,     0.50651,     0.50751,     0.50851,     0.50951,     0.51051,     0.51151,     0.51251,     0.51351,     0.51451,     0.51552,     0.51652,     0.51752,     0.51852,     0.51952,     0.52052,     0.52152,     0.52252,     0.52352,     0.52452,     0.52553,     0.52653,     0.52753,\n",
      "           0.52853,     0.52953,     0.53053,     0.53153,     0.53253,     0.53353,     0.53453,     0.53554,     0.53654,     0.53754,     0.53854,     0.53954,     0.54054,     0.54154,     0.54254,     0.54354,     0.54454,     0.54555,     0.54655,     0.54755,     0.54855,     0.54955,     0.55055,     0.55155,\n",
      "           0.55255,     0.55355,     0.55455,     0.55556,     0.55656,     0.55756,     0.55856,     0.55956,     0.56056,     0.56156,     0.56256,     0.56356,     0.56456,     0.56557,     0.56657,     0.56757,     0.56857,     0.56957,     0.57057,     0.57157,     0.57257,     0.57357,     0.57457,     0.57558,\n",
      "           0.57658,     0.57758,     0.57858,     0.57958,     0.58058,     0.58158,     0.58258,     0.58358,     0.58458,     0.58559,     0.58659,     0.58759,     0.58859,     0.58959,     0.59059,     0.59159,     0.59259,     0.59359,     0.59459,      0.5956,      0.5966,      0.5976,      0.5986,      0.5996,\n",
      "            0.6006,      0.6016,      0.6026,      0.6036,      0.6046,     0.60561,     0.60661,     0.60761,     0.60861,     0.60961,     0.61061,     0.61161,     0.61261,     0.61361,     0.61461,     0.61562,     0.61662,     0.61762,     0.61862,     0.61962,     0.62062,     0.62162,     0.62262,     0.62362,\n",
      "           0.62462,     0.62563,     0.62663,     0.62763,     0.62863,     0.62963,     0.63063,     0.63163,     0.63263,     0.63363,     0.63463,     0.63564,     0.63664,     0.63764,     0.63864,     0.63964,     0.64064,     0.64164,     0.64264,     0.64364,     0.64464,     0.64565,     0.64665,     0.64765,\n",
      "           0.64865,     0.64965,     0.65065,     0.65165,     0.65265,     0.65365,     0.65465,     0.65566,     0.65666,     0.65766,     0.65866,     0.65966,     0.66066,     0.66166,     0.66266,     0.66366,     0.66466,     0.66567,     0.66667,     0.66767,     0.66867,     0.66967,     0.67067,     0.67167,\n",
      "           0.67267,     0.67367,     0.67467,     0.67568,     0.67668,     0.67768,     0.67868,     0.67968,     0.68068,     0.68168,     0.68268,     0.68368,     0.68468,     0.68569,     0.68669,     0.68769,     0.68869,     0.68969,     0.69069,     0.69169,     0.69269,     0.69369,     0.69469,      0.6957,\n",
      "            0.6967,      0.6977,      0.6987,      0.6997,      0.7007,      0.7017,      0.7027,      0.7037,      0.7047,     0.70571,     0.70671,     0.70771,     0.70871,     0.70971,     0.71071,     0.71171,     0.71271,     0.71371,     0.71471,     0.71572,     0.71672,     0.71772,     0.71872,     0.71972,\n",
      "           0.72072,     0.72172,     0.72272,     0.72372,     0.72472,     0.72573,     0.72673,     0.72773,     0.72873,     0.72973,     0.73073,     0.73173,     0.73273,     0.73373,     0.73473,     0.73574,     0.73674,     0.73774,     0.73874,     0.73974,     0.74074,     0.74174,     0.74274,     0.74374,\n",
      "           0.74474,     0.74575,     0.74675,     0.74775,     0.74875,     0.74975,     0.75075,     0.75175,     0.75275,     0.75375,     0.75475,     0.75576,     0.75676,     0.75776,     0.75876,     0.75976,     0.76076,     0.76176,     0.76276,     0.76376,     0.76476,     0.76577,     0.76677,     0.76777,\n",
      "           0.76877,     0.76977,     0.77077,     0.77177,     0.77277,     0.77377,     0.77477,     0.77578,     0.77678,     0.77778,     0.77878,     0.77978,     0.78078,     0.78178,     0.78278,     0.78378,     0.78478,     0.78579,     0.78679,     0.78779,     0.78879,     0.78979,     0.79079,     0.79179,\n",
      "           0.79279,     0.79379,     0.79479,      0.7958,      0.7968,      0.7978,      0.7988,      0.7998,      0.8008,      0.8018,      0.8028,      0.8038,      0.8048,     0.80581,     0.80681,     0.80781,     0.80881,     0.80981,     0.81081,     0.81181,     0.81281,     0.81381,     0.81481,     0.81582,\n",
      "           0.81682,     0.81782,     0.81882,     0.81982,     0.82082,     0.82182,     0.82282,     0.82382,     0.82482,     0.82583,     0.82683,     0.82783,     0.82883,     0.82983,     0.83083,     0.83183,     0.83283,     0.83383,     0.83483,     0.83584,     0.83684,     0.83784,     0.83884,     0.83984,\n",
      "           0.84084,     0.84184,     0.84284,     0.84384,     0.84484,     0.84585,     0.84685,     0.84785,     0.84885,     0.84985,     0.85085,     0.85185,     0.85285,     0.85385,     0.85485,     0.85586,     0.85686,     0.85786,     0.85886,     0.85986,     0.86086,     0.86186,     0.86286,     0.86386,\n",
      "           0.86486,     0.86587,     0.86687,     0.86787,     0.86887,     0.86987,     0.87087,     0.87187,     0.87287,     0.87387,     0.87487,     0.87588,     0.87688,     0.87788,     0.87888,     0.87988,     0.88088,     0.88188,     0.88288,     0.88388,     0.88488,     0.88589,     0.88689,     0.88789,\n",
      "           0.88889,     0.88989,     0.89089,     0.89189,     0.89289,     0.89389,     0.89489,      0.8959,      0.8969,      0.8979,      0.8989,      0.8999,      0.9009,      0.9019,      0.9029,      0.9039,      0.9049,     0.90591,     0.90691,     0.90791,     0.90891,     0.90991,     0.91091,     0.91191,\n",
      "           0.91291,     0.91391,     0.91491,     0.91592,     0.91692,     0.91792,     0.91892,     0.91992,     0.92092,     0.92192,     0.92292,     0.92392,     0.92492,     0.92593,     0.92693,     0.92793,     0.92893,     0.92993,     0.93093,     0.93193,     0.93293,     0.93393,     0.93493,     0.93594,\n",
      "           0.93694,     0.93794,     0.93894,     0.93994,     0.94094,     0.94194,     0.94294,     0.94394,     0.94494,     0.94595,     0.94695,     0.94795,     0.94895,     0.94995,     0.95095,     0.95195,     0.95295,     0.95395,     0.95495,     0.95596,     0.95696,     0.95796,     0.95896,     0.95996,\n",
      "           0.96096,     0.96196,     0.96296,     0.96396,     0.96496,     0.96597,     0.96697,     0.96797,     0.96897,     0.96997,     0.97097,     0.97197,     0.97297,     0.97397,     0.97497,     0.97598,     0.97698,     0.97798,     0.97898,     0.97998,     0.98098,     0.98198,     0.98298,     0.98398,\n",
      "           0.98498,     0.98599,     0.98699,     0.98799,     0.98899,     0.98999,     0.99099,     0.99199,     0.99299,     0.99399,     0.99499,       0.996,       0.997,       0.998,       0.999,           1]), array([[   0.050686,    0.050711,    0.072098,    0.089503,     0.10367,     0.11644,     0.12864,     0.13794,     0.14959,     0.15859,     0.16838,     0.17644,     0.18397,     0.19229,     0.20031,     0.20905,     0.21504,     0.22011,     0.22599,     0.23389,     0.23984,     0.24687,     0.25207,\n",
      "            0.25725,     0.26499,     0.27014,     0.27542,     0.28131,      0.2871,     0.29222,     0.29771,     0.30267,     0.30757,     0.31417,     0.31883,     0.32326,     0.32643,     0.33061,     0.33533,     0.33821,     0.34001,     0.34371,     0.34842,     0.35424,     0.35841,     0.36561,\n",
      "            0.37098,     0.37474,     0.37744,     0.38125,     0.38534,     0.38794,      0.3898,     0.39178,     0.39424,     0.39661,     0.39994,     0.40591,     0.40834,     0.40974,     0.41639,     0.41962,     0.42439,     0.42954,     0.43226,     0.43628,     0.43842,     0.44051,     0.44326,\n",
      "            0.44566,     0.44886,     0.45204,     0.45577,     0.45727,      0.4596,     0.46278,      0.4665,     0.47027,     0.47408,     0.47548,     0.47827,     0.48114,     0.48334,     0.48653,     0.49005,     0.49233,      0.4964,     0.49735,     0.49985,     0.50246,     0.50337,      0.5055,\n",
      "            0.50885,     0.51283,     0.51557,     0.51874,     0.52097,     0.52459,     0.52594,     0.52904,     0.52928,     0.52946,     0.53159,      0.5411,     0.54361,     0.54488,     0.54568,     0.54786,     0.54791,     0.54945,     0.55035,     0.55411,     0.55641,     0.56049,     0.56086,\n",
      "            0.56144,     0.56441,     0.56549,     0.56596,     0.56938,     0.56887,      0.5712,     0.57389,     0.57456,     0.57746,     0.57902,     0.58053,     0.58231,     0.58358,     0.58717,     0.58669,     0.58748,      0.5888,     0.59317,     0.59494,     0.59576,     0.59725,     0.60164,\n",
      "            0.60389,     0.60679,     0.60782,     0.60749,     0.60857,      0.6107,     0.61278,     0.61322,     0.61492,     0.61614,     0.61686,     0.61954,       0.622,     0.62372,     0.62471,     0.62528,     0.62695,     0.62787,     0.62859,     0.62967,     0.63391,     0.63423,     0.63395,\n",
      "            0.63437,     0.63764,     0.64275,     0.64593,     0.64646,     0.64706,     0.64801,     0.65073,     0.65335,     0.65417,      0.6539,     0.65421,     0.65452,     0.65483,     0.65698,     0.65971,     0.66011,     0.66034,     0.66173,     0.66414,     0.66574,     0.66853,     0.66815,\n",
      "            0.67162,     0.67367,     0.67773,     0.68166,     0.68253,     0.68279,     0.68531,     0.68725,     0.68722,     0.68743,     0.68818,     0.69001,     0.69056,     0.69116,     0.69318,     0.69457,      0.6956,     0.69751,     0.69788,     0.69985,     0.70059,     0.70106,     0.70154,\n",
      "            0.70106,     0.70073,      0.7021,     0.70424,      0.7065,     0.71019,     0.71451,     0.71835,     0.72018,     0.72061,     0.72028,      0.7215,      0.7212,     0.72208,     0.72376,     0.72709,     0.72662,     0.72615,     0.72655,     0.72744,      0.7279,     0.72836,     0.72988,\n",
      "            0.73078,     0.73143,     0.73211,     0.73283,     0.73322,     0.73283,     0.73322,     0.73379,     0.73431,     0.73516,     0.73963,     0.74285,     0.74443,     0.74416,     0.74371,     0.74583,      0.7466,     0.74646,     0.74633,     0.74619,     0.74719,     0.74761,     0.75014,\n",
      "            0.75264,     0.75329,     0.75395,     0.75553,     0.75522,      0.7561,      0.7582,     0.75956,     0.76055,      0.7609,     0.76125,      0.7616,     0.76195,     0.76251,     0.76326,     0.76383,     0.76351,     0.76491,     0.76518,     0.76671,       0.768,     0.76828,     0.77003,\n",
      "            0.77185,     0.77294,      0.7728,     0.77265,     0.77251,     0.77232,     0.77214,     0.77195,     0.77162,     0.77332,     0.77446,     0.77565,     0.77692,     0.77591,     0.77679,     0.77704,     0.77741,     0.77779,     0.77816,     0.77854,     0.77815,     0.77788,     0.77767,\n",
      "             0.7795,     0.78093,     0.78088,     0.78365,     0.78625,     0.78696,     0.78768,     0.78741,     0.78718,     0.78707,     0.78882,     0.78858,     0.78786,     0.78778,      0.7877,     0.78763,     0.78755,     0.78747,     0.78739,     0.78932,     0.78917,     0.78901,     0.78886,\n",
      "            0.78844,     0.78839,     0.78945,     0.78952,     0.78921,     0.79088,     0.79191,      0.7937,     0.79857,      0.8019,     0.80356,       0.805,     0.80576,     0.80652,     0.80946,     0.81209,     0.81289,     0.81356,     0.81422,     0.81489,     0.81482,     0.81458,     0.81445,\n",
      "            0.81437,     0.81428,      0.8142,     0.81411,     0.81403,     0.81378,     0.81352,     0.81461,     0.81595,     0.81706,     0.81761,     0.81815,      0.8187,     0.81938,     0.82096,     0.82296,      0.8245,     0.82541,     0.82601,     0.82661,     0.82722,     0.83156,     0.83139,\n",
      "            0.83128,     0.83118,     0.83108,     0.83189,     0.83322,     0.83309,     0.83295,      0.8328,      0.8326,     0.83241,      0.8322,     0.83198,     0.83219,     0.83264,     0.83308,     0.83352,     0.83397,     0.83424,     0.83407,     0.83391,     0.83615,     0.83662,     0.83862,\n",
      "             0.8398,       0.843,     0.84271,     0.84501,     0.84489,     0.84477,     0.84465,     0.84441,     0.84408,     0.84398,     0.84387,     0.84377,     0.84366,     0.84348,     0.84329,     0.84314,     0.84302,     0.84291,      0.8428,     0.84371,     0.84624,      0.8477,     0.84753,\n",
      "            0.84736,     0.84697,      0.8465,     0.84618,     0.84592,     0.84584,     0.84576,     0.84568,      0.8456,     0.84552,     0.84569,     0.84784,     0.85051,      0.8503,     0.85044,     0.85137,     0.85231,     0.85267,     0.85248,     0.85223,     0.85165,     0.85363,     0.85365,\n",
      "              0.854,     0.85449,     0.85498,     0.85547,     0.85596,     0.85616,     0.85595,     0.85576,     0.85565,     0.85553,     0.85542,     0.85521,     0.85487,     0.85462,     0.85506,     0.85749,     0.85882,     0.86256,     0.86197,     0.86164,     0.86147,     0.86131,     0.86402,\n",
      "            0.86383,     0.86371,      0.8664,     0.86809,     0.86923,     0.86904,     0.86883,     0.86825,     0.86799,     0.86762,     0.86714,      0.8668,     0.86625,     0.86827,     0.87037,     0.87196,     0.87182,     0.87272,     0.87362,     0.87453,     0.87655,     0.87871,     0.88222,\n",
      "            0.88339,     0.88319,     0.88274,     0.88254,     0.88234,      0.8822,     0.88205,     0.88185,     0.88155,     0.88422,     0.88338,     0.88328,     0.88318,     0.88308,     0.88298,     0.88289,     0.88279,      0.8827,     0.88261,     0.88574,     0.88705,     0.88836,     0.88879,\n",
      "            0.88862,     0.89182,     0.89248,     0.89315,     0.89381,     0.89447,     0.89463,     0.89653,     0.89684,     0.89653,     0.89633,     0.89617,     0.89601,     0.89552,     0.89535,     0.89519,     0.89805,     0.89788,      0.8977,     0.89762,     0.89951,     0.90071,     0.90055,\n",
      "             0.9004,     0.90012,     0.90189,     0.90319,     0.90331,     0.90438,     0.90546,     0.90608,     0.90939,     0.90928,     0.90916,     0.90895,     0.91272,      0.9159,     0.91929,     0.92243,     0.92269,     0.92261,     0.92253,     0.92245,     0.92238,     0.92231,     0.92224,\n",
      "            0.92217,     0.92197,     0.92174,     0.92161,     0.92148,     0.92114,     0.92094,     0.92066,     0.92016,     0.92008,     0.92001,     0.91994,     0.91986,     0.92055,     0.92339,     0.92333,     0.92327,     0.92321,     0.92315,     0.92309,     0.92287,     0.92267,      0.9225,\n",
      "            0.92223,     0.92186,     0.92558,     0.92534,     0.92519,     0.92488,     0.92438,     0.92389,     0.92359,     0.92306,     0.92261,      0.9221,     0.92588,      0.9256,     0.92549,      0.9254,     0.92531,     0.92508,     0.92441,     0.92424,     0.92839,     0.92805,     0.92763,\n",
      "            0.92778,     0.93101,     0.93078,     0.93034,     0.93027,      0.9302,     0.93013,     0.93006,     0.92996,     0.92972,      0.9291,     0.92884,     0.92867,     0.92851,     0.92837,     0.92824,      0.9277,     0.92695,     0.92678,     0.92836,     0.92994,      0.9312,      0.9311,\n",
      "            0.93101,     0.93091,     0.93072,     0.93471,     0.93764,     0.93996,     0.94044,     0.94031,     0.94014,      0.9399,     0.94454,      0.9441,     0.94379,     0.94362,     0.94342,     0.94295,     0.94266,     0.94368,     0.94645,     0.94787,     0.94735,     0.94711,      0.9485,\n",
      "            0.95037,     0.95223,     0.95247,     0.95202,     0.95172,     0.95154,     0.95117,     0.95106,     0.95094,      0.9565,     0.95623,     0.95612,     0.95601,     0.95566,     0.95532,     0.95512,     0.95481,     0.95466,     0.95447,     0.95389,     0.95368,      0.9532,      0.9526,\n",
      "             0.9524,     0.95196,      0.9517,     0.95109,     0.95773,     0.95666,     0.95633,     0.95609,     0.95563,     0.95514,     0.95484,     0.95468,     0.95493,     0.95665,     0.95838,      0.9601,     0.96182,      0.9616,      0.9606,     0.96016,     0.95947,     0.95815,     0.95776,\n",
      "            0.95687,     0.95659,     0.95614,     0.95604,     0.95594,     0.95584,     0.95573,     0.95557,      0.9554,     0.96378,     0.96339,     0.96305,      0.9627,     0.96225,     0.96196,      0.9615,     0.96142,     0.96134,     0.96126,     0.96117,     0.96422,     0.96947,      0.9684,\n",
      "            0.96827,     0.96814,     0.97741,     0.98896,     0.98881,     0.98848,     0.98839,     0.98791,     0.98773,     0.98757,     0.98739,      0.9873,     0.98723,     0.98717,     0.98709,     0.98701,     0.98634,     0.98602,     0.98563,     0.98544,       0.985,     0.98464,     0.98405,\n",
      "            0.98386,     0.98375,     0.98363,     0.98355,     0.98347,      0.9834,     0.98324,     0.98239,     0.98206,     0.98191,     0.98174,     0.98155,     0.98107,     0.98083,     0.98037,      0.9799,     0.97973,     0.97952,     0.97916,     0.97886,     0.97862,     0.97843,     0.97822,\n",
      "            0.97751,           1,           1,           1,           1,           1,           1,           1,           1,           1,           1,           1,           1,           1,           1,           1,           1,           1,           1,           1,           1,           1,           1,\n",
      "                  1,           1,           1,           1,           1,           1,           1,           1,           1,           1,           1,           1,           1,           1,           1,           1,           1,           1,           1,           1,           1,           1,           1,\n",
      "                  1,           1,           1,           1,           1,           1,           1,           1,           1,           1,           1,           1,           1,           1,           1,           1,           1,           1,           1,           1,           1,           1,           1,\n",
      "                  1,           1,           1,           1,           1,           1,           1,           1,           1,           1,           1,           1,           1,           1,           1,           1,           1,           1,           1,           1,           1,           1,           1,\n",
      "                  1,           1,           1,           1,           1,           1,           1,           1,           1,           1,           1,           1,           1,           1,           1,           1,           1,           1,           1,           1,           1,           1,           1,\n",
      "                  1,           1,           1,           1,           1,           1,           1,           1,           1,           1,           1,           1,           1,           1,           1,           1,           1,           1,           1,           1,           1,           1,           1,\n",
      "                  1,           1,           1,           1,           1,           1,           1,           1,           1,           1,           1,           1,           1,           1,           1,           1,           1,           1,           1,           1,           1,           1,           1,\n",
      "                  1,           1,           1,           1,           1,           1,           1,           1,           1,           1,           1,           1,           1,           1,           1,           1,           1,           1,           1,           1,           1,           1,           1,\n",
      "                  1,           1,           1,           1,           1,           1,           1,           1,           1,           1,           1,           1,           1,           1,           1,           1,           1,           1,           1,           1,           1,           1,           1,\n",
      "                  1,           1,           1,           1,           1,           1,           1,           1,           1,           1,           1,           1,           1,           1,           1,           1,           1,           1,           1,           1,           1,           1,           1,\n",
      "                  1,           1,           1,           1,           1,           1,           1,           1,           1,           1,           1]]), 'Confidence', 'Precision'], [array([          0,    0.001001,    0.002002,    0.003003,    0.004004,    0.005005,    0.006006,    0.007007,    0.008008,    0.009009,     0.01001,    0.011011,    0.012012,    0.013013,    0.014014,    0.015015,    0.016016,    0.017017,    0.018018,    0.019019,     0.02002,    0.021021,    0.022022,    0.023023,\n",
      "          0.024024,    0.025025,    0.026026,    0.027027,    0.028028,    0.029029,     0.03003,    0.031031,    0.032032,    0.033033,    0.034034,    0.035035,    0.036036,    0.037037,    0.038038,    0.039039,     0.04004,    0.041041,    0.042042,    0.043043,    0.044044,    0.045045,    0.046046,    0.047047,\n",
      "          0.048048,    0.049049,     0.05005,    0.051051,    0.052052,    0.053053,    0.054054,    0.055055,    0.056056,    0.057057,    0.058058,    0.059059,     0.06006,    0.061061,    0.062062,    0.063063,    0.064064,    0.065065,    0.066066,    0.067067,    0.068068,    0.069069,     0.07007,    0.071071,\n",
      "          0.072072,    0.073073,    0.074074,    0.075075,    0.076076,    0.077077,    0.078078,    0.079079,     0.08008,    0.081081,    0.082082,    0.083083,    0.084084,    0.085085,    0.086086,    0.087087,    0.088088,    0.089089,     0.09009,    0.091091,    0.092092,    0.093093,    0.094094,    0.095095,\n",
      "          0.096096,    0.097097,    0.098098,    0.099099,      0.1001,      0.1011,      0.1021,      0.1031,      0.1041,     0.10511,     0.10611,     0.10711,     0.10811,     0.10911,     0.11011,     0.11111,     0.11211,     0.11311,     0.11411,     0.11512,     0.11612,     0.11712,     0.11812,     0.11912,\n",
      "           0.12012,     0.12112,     0.12212,     0.12312,     0.12412,     0.12513,     0.12613,     0.12713,     0.12813,     0.12913,     0.13013,     0.13113,     0.13213,     0.13313,     0.13413,     0.13514,     0.13614,     0.13714,     0.13814,     0.13914,     0.14014,     0.14114,     0.14214,     0.14314,\n",
      "           0.14414,     0.14515,     0.14615,     0.14715,     0.14815,     0.14915,     0.15015,     0.15115,     0.15215,     0.15315,     0.15415,     0.15516,     0.15616,     0.15716,     0.15816,     0.15916,     0.16016,     0.16116,     0.16216,     0.16316,     0.16416,     0.16517,     0.16617,     0.16717,\n",
      "           0.16817,     0.16917,     0.17017,     0.17117,     0.17217,     0.17317,     0.17417,     0.17518,     0.17618,     0.17718,     0.17818,     0.17918,     0.18018,     0.18118,     0.18218,     0.18318,     0.18418,     0.18519,     0.18619,     0.18719,     0.18819,     0.18919,     0.19019,     0.19119,\n",
      "           0.19219,     0.19319,     0.19419,      0.1952,      0.1962,      0.1972,      0.1982,      0.1992,      0.2002,      0.2012,      0.2022,      0.2032,      0.2042,     0.20521,     0.20621,     0.20721,     0.20821,     0.20921,     0.21021,     0.21121,     0.21221,     0.21321,     0.21421,     0.21522,\n",
      "           0.21622,     0.21722,     0.21822,     0.21922,     0.22022,     0.22122,     0.22222,     0.22322,     0.22422,     0.22523,     0.22623,     0.22723,     0.22823,     0.22923,     0.23023,     0.23123,     0.23223,     0.23323,     0.23423,     0.23524,     0.23624,     0.23724,     0.23824,     0.23924,\n",
      "           0.24024,     0.24124,     0.24224,     0.24324,     0.24424,     0.24525,     0.24625,     0.24725,     0.24825,     0.24925,     0.25025,     0.25125,     0.25225,     0.25325,     0.25425,     0.25526,     0.25626,     0.25726,     0.25826,     0.25926,     0.26026,     0.26126,     0.26226,     0.26326,\n",
      "           0.26426,     0.26527,     0.26627,     0.26727,     0.26827,     0.26927,     0.27027,     0.27127,     0.27227,     0.27327,     0.27427,     0.27528,     0.27628,     0.27728,     0.27828,     0.27928,     0.28028,     0.28128,     0.28228,     0.28328,     0.28428,     0.28529,     0.28629,     0.28729,\n",
      "           0.28829,     0.28929,     0.29029,     0.29129,     0.29229,     0.29329,     0.29429,      0.2953,      0.2963,      0.2973,      0.2983,      0.2993,      0.3003,      0.3013,      0.3023,      0.3033,      0.3043,     0.30531,     0.30631,     0.30731,     0.30831,     0.30931,     0.31031,     0.31131,\n",
      "           0.31231,     0.31331,     0.31431,     0.31532,     0.31632,     0.31732,     0.31832,     0.31932,     0.32032,     0.32132,     0.32232,     0.32332,     0.32432,     0.32533,     0.32633,     0.32733,     0.32833,     0.32933,     0.33033,     0.33133,     0.33233,     0.33333,     0.33433,     0.33534,\n",
      "           0.33634,     0.33734,     0.33834,     0.33934,     0.34034,     0.34134,     0.34234,     0.34334,     0.34434,     0.34535,     0.34635,     0.34735,     0.34835,     0.34935,     0.35035,     0.35135,     0.35235,     0.35335,     0.35435,     0.35536,     0.35636,     0.35736,     0.35836,     0.35936,\n",
      "           0.36036,     0.36136,     0.36236,     0.36336,     0.36436,     0.36537,     0.36637,     0.36737,     0.36837,     0.36937,     0.37037,     0.37137,     0.37237,     0.37337,     0.37437,     0.37538,     0.37638,     0.37738,     0.37838,     0.37938,     0.38038,     0.38138,     0.38238,     0.38338,\n",
      "           0.38438,     0.38539,     0.38639,     0.38739,     0.38839,     0.38939,     0.39039,     0.39139,     0.39239,     0.39339,     0.39439,      0.3954,      0.3964,      0.3974,      0.3984,      0.3994,      0.4004,      0.4014,      0.4024,      0.4034,      0.4044,     0.40541,     0.40641,     0.40741,\n",
      "           0.40841,     0.40941,     0.41041,     0.41141,     0.41241,     0.41341,     0.41441,     0.41542,     0.41642,     0.41742,     0.41842,     0.41942,     0.42042,     0.42142,     0.42242,     0.42342,     0.42442,     0.42543,     0.42643,     0.42743,     0.42843,     0.42943,     0.43043,     0.43143,\n",
      "           0.43243,     0.43343,     0.43443,     0.43544,     0.43644,     0.43744,     0.43844,     0.43944,     0.44044,     0.44144,     0.44244,     0.44344,     0.44444,     0.44545,     0.44645,     0.44745,     0.44845,     0.44945,     0.45045,     0.45145,     0.45245,     0.45345,     0.45445,     0.45546,\n",
      "           0.45646,     0.45746,     0.45846,     0.45946,     0.46046,     0.46146,     0.46246,     0.46346,     0.46446,     0.46547,     0.46647,     0.46747,     0.46847,     0.46947,     0.47047,     0.47147,     0.47247,     0.47347,     0.47447,     0.47548,     0.47648,     0.47748,     0.47848,     0.47948,\n",
      "           0.48048,     0.48148,     0.48248,     0.48348,     0.48448,     0.48549,     0.48649,     0.48749,     0.48849,     0.48949,     0.49049,     0.49149,     0.49249,     0.49349,     0.49449,      0.4955,      0.4965,      0.4975,      0.4985,      0.4995,      0.5005,      0.5015,      0.5025,      0.5035,\n",
      "            0.5045,     0.50551,     0.50651,     0.50751,     0.50851,     0.50951,     0.51051,     0.51151,     0.51251,     0.51351,     0.51451,     0.51552,     0.51652,     0.51752,     0.51852,     0.51952,     0.52052,     0.52152,     0.52252,     0.52352,     0.52452,     0.52553,     0.52653,     0.52753,\n",
      "           0.52853,     0.52953,     0.53053,     0.53153,     0.53253,     0.53353,     0.53453,     0.53554,     0.53654,     0.53754,     0.53854,     0.53954,     0.54054,     0.54154,     0.54254,     0.54354,     0.54454,     0.54555,     0.54655,     0.54755,     0.54855,     0.54955,     0.55055,     0.55155,\n",
      "           0.55255,     0.55355,     0.55455,     0.55556,     0.55656,     0.55756,     0.55856,     0.55956,     0.56056,     0.56156,     0.56256,     0.56356,     0.56456,     0.56557,     0.56657,     0.56757,     0.56857,     0.56957,     0.57057,     0.57157,     0.57257,     0.57357,     0.57457,     0.57558,\n",
      "           0.57658,     0.57758,     0.57858,     0.57958,     0.58058,     0.58158,     0.58258,     0.58358,     0.58458,     0.58559,     0.58659,     0.58759,     0.58859,     0.58959,     0.59059,     0.59159,     0.59259,     0.59359,     0.59459,      0.5956,      0.5966,      0.5976,      0.5986,      0.5996,\n",
      "            0.6006,      0.6016,      0.6026,      0.6036,      0.6046,     0.60561,     0.60661,     0.60761,     0.60861,     0.60961,     0.61061,     0.61161,     0.61261,     0.61361,     0.61461,     0.61562,     0.61662,     0.61762,     0.61862,     0.61962,     0.62062,     0.62162,     0.62262,     0.62362,\n",
      "           0.62462,     0.62563,     0.62663,     0.62763,     0.62863,     0.62963,     0.63063,     0.63163,     0.63263,     0.63363,     0.63463,     0.63564,     0.63664,     0.63764,     0.63864,     0.63964,     0.64064,     0.64164,     0.64264,     0.64364,     0.64464,     0.64565,     0.64665,     0.64765,\n",
      "           0.64865,     0.64965,     0.65065,     0.65165,     0.65265,     0.65365,     0.65465,     0.65566,     0.65666,     0.65766,     0.65866,     0.65966,     0.66066,     0.66166,     0.66266,     0.66366,     0.66466,     0.66567,     0.66667,     0.66767,     0.66867,     0.66967,     0.67067,     0.67167,\n",
      "           0.67267,     0.67367,     0.67467,     0.67568,     0.67668,     0.67768,     0.67868,     0.67968,     0.68068,     0.68168,     0.68268,     0.68368,     0.68468,     0.68569,     0.68669,     0.68769,     0.68869,     0.68969,     0.69069,     0.69169,     0.69269,     0.69369,     0.69469,      0.6957,\n",
      "            0.6967,      0.6977,      0.6987,      0.6997,      0.7007,      0.7017,      0.7027,      0.7037,      0.7047,     0.70571,     0.70671,     0.70771,     0.70871,     0.70971,     0.71071,     0.71171,     0.71271,     0.71371,     0.71471,     0.71572,     0.71672,     0.71772,     0.71872,     0.71972,\n",
      "           0.72072,     0.72172,     0.72272,     0.72372,     0.72472,     0.72573,     0.72673,     0.72773,     0.72873,     0.72973,     0.73073,     0.73173,     0.73273,     0.73373,     0.73473,     0.73574,     0.73674,     0.73774,     0.73874,     0.73974,     0.74074,     0.74174,     0.74274,     0.74374,\n",
      "           0.74474,     0.74575,     0.74675,     0.74775,     0.74875,     0.74975,     0.75075,     0.75175,     0.75275,     0.75375,     0.75475,     0.75576,     0.75676,     0.75776,     0.75876,     0.75976,     0.76076,     0.76176,     0.76276,     0.76376,     0.76476,     0.76577,     0.76677,     0.76777,\n",
      "           0.76877,     0.76977,     0.77077,     0.77177,     0.77277,     0.77377,     0.77477,     0.77578,     0.77678,     0.77778,     0.77878,     0.77978,     0.78078,     0.78178,     0.78278,     0.78378,     0.78478,     0.78579,     0.78679,     0.78779,     0.78879,     0.78979,     0.79079,     0.79179,\n",
      "           0.79279,     0.79379,     0.79479,      0.7958,      0.7968,      0.7978,      0.7988,      0.7998,      0.8008,      0.8018,      0.8028,      0.8038,      0.8048,     0.80581,     0.80681,     0.80781,     0.80881,     0.80981,     0.81081,     0.81181,     0.81281,     0.81381,     0.81481,     0.81582,\n",
      "           0.81682,     0.81782,     0.81882,     0.81982,     0.82082,     0.82182,     0.82282,     0.82382,     0.82482,     0.82583,     0.82683,     0.82783,     0.82883,     0.82983,     0.83083,     0.83183,     0.83283,     0.83383,     0.83483,     0.83584,     0.83684,     0.83784,     0.83884,     0.83984,\n",
      "           0.84084,     0.84184,     0.84284,     0.84384,     0.84484,     0.84585,     0.84685,     0.84785,     0.84885,     0.84985,     0.85085,     0.85185,     0.85285,     0.85385,     0.85485,     0.85586,     0.85686,     0.85786,     0.85886,     0.85986,     0.86086,     0.86186,     0.86286,     0.86386,\n",
      "           0.86486,     0.86587,     0.86687,     0.86787,     0.86887,     0.86987,     0.87087,     0.87187,     0.87287,     0.87387,     0.87487,     0.87588,     0.87688,     0.87788,     0.87888,     0.87988,     0.88088,     0.88188,     0.88288,     0.88388,     0.88488,     0.88589,     0.88689,     0.88789,\n",
      "           0.88889,     0.88989,     0.89089,     0.89189,     0.89289,     0.89389,     0.89489,      0.8959,      0.8969,      0.8979,      0.8989,      0.8999,      0.9009,      0.9019,      0.9029,      0.9039,      0.9049,     0.90591,     0.90691,     0.90791,     0.90891,     0.90991,     0.91091,     0.91191,\n",
      "           0.91291,     0.91391,     0.91491,     0.91592,     0.91692,     0.91792,     0.91892,     0.91992,     0.92092,     0.92192,     0.92292,     0.92392,     0.92492,     0.92593,     0.92693,     0.92793,     0.92893,     0.92993,     0.93093,     0.93193,     0.93293,     0.93393,     0.93493,     0.93594,\n",
      "           0.93694,     0.93794,     0.93894,     0.93994,     0.94094,     0.94194,     0.94294,     0.94394,     0.94494,     0.94595,     0.94695,     0.94795,     0.94895,     0.94995,     0.95095,     0.95195,     0.95295,     0.95395,     0.95495,     0.95596,     0.95696,     0.95796,     0.95896,     0.95996,\n",
      "           0.96096,     0.96196,     0.96296,     0.96396,     0.96496,     0.96597,     0.96697,     0.96797,     0.96897,     0.96997,     0.97097,     0.97197,     0.97297,     0.97397,     0.97497,     0.97598,     0.97698,     0.97798,     0.97898,     0.97998,     0.98098,     0.98198,     0.98298,     0.98398,\n",
      "           0.98498,     0.98599,     0.98699,     0.98799,     0.98899,     0.98999,     0.99099,     0.99199,     0.99299,     0.99399,     0.99499,       0.996,       0.997,       0.998,       0.999,           1]), array([[    0.89528,     0.89528,     0.88501,     0.88296,     0.87885,     0.87269,     0.87064,     0.87064,     0.87064,     0.86448,     0.86037,     0.85626,     0.85626,     0.85626,     0.85626,     0.85626,     0.85626,     0.85626,     0.85216,     0.84805,     0.84805,     0.84805,       0.846,\n",
      "            0.84189,     0.84189,     0.84189,     0.84189,     0.83984,     0.83984,     0.83778,     0.83778,     0.83573,     0.83457,     0.83368,     0.83368,     0.82957,     0.82957,     0.82752,     0.82752,     0.82752,     0.82407,     0.82136,      0.8193,      0.8193,      0.8193,      0.8193,\n",
      "             0.8193,      0.8193,      0.8193,      0.8193,      0.8193,      0.8193,      0.8193,      0.8193,     0.81725,     0.81314,     0.81314,     0.81314,     0.81203,     0.81109,     0.80903,     0.80903,     0.80903,     0.80698,     0.80698,     0.80698,     0.80698,     0.80513,     0.80493,\n",
      "            0.80493,     0.80287,     0.80287,     0.80287,     0.80287,     0.80082,     0.80082,     0.80082,     0.80082,     0.80082,     0.80041,     0.79466,     0.79261,     0.79055,      0.7885,      0.7885,      0.7885,      0.7885,      0.7885,      0.7885,      0.7885,     0.78671,     0.78439,\n",
      "            0.78439,     0.78439,     0.78234,     0.78234,     0.78234,     0.78234,     0.78234,     0.78194,     0.78029,     0.77618,     0.77618,     0.77413,     0.77413,     0.77413,     0.77413,      0.7738,     0.77207,     0.77207,     0.77207,     0.77207,     0.77207,     0.77207,     0.77207,\n",
      "            0.77002,     0.77002,     0.76797,     0.76591,     0.76564,     0.76405,     0.76181,     0.76181,     0.75984,     0.75975,     0.75975,     0.75975,     0.75975,     0.75975,     0.75935,     0.75785,      0.7577,     0.75566,     0.75565,     0.75565,     0.75359,     0.75212,     0.74949,\n",
      "            0.74949,     0.74949,     0.74949,     0.74683,     0.74538,     0.74333,     0.74333,     0.74333,     0.74333,     0.74127,     0.74127,     0.74127,     0.74127,     0.74127,     0.74127,     0.74127,     0.74127,     0.74127,     0.74127,     0.74127,     0.74127,     0.74058,     0.73968,\n",
      "            0.73747,     0.73717,     0.73717,     0.73717,     0.73511,      0.7341,     0.73306,     0.73306,     0.73101,     0.73022,     0.72895,     0.72895,     0.72895,     0.72895,     0.72895,      0.7269,      0.7258,     0.72485,     0.72485,     0.72485,     0.72485,     0.72485,     0.72279,\n",
      "            0.72235,     0.72074,     0.72074,     0.72074,     0.72074,     0.71869,     0.71869,     0.71869,     0.71733,     0.71663,     0.71663,     0.71663,     0.71663,     0.71663,     0.71663,     0.71663,     0.71663,     0.71663,     0.71458,     0.71458,     0.71458,     0.71458,     0.71458,\n",
      "            0.71269,     0.71047,     0.71047,     0.71047,     0.71047,     0.71047,     0.71047,     0.71047,     0.71047,     0.70968,     0.70851,     0.70753,     0.70645,     0.70637,     0.70637,     0.70571,     0.70406,     0.70238,     0.70021,     0.70021,     0.70021,     0.70021,     0.70021,\n",
      "            0.70021,     0.70021,     0.70021,     0.70021,     0.69979,     0.69842,     0.69815,     0.69815,     0.69803,      0.6961,      0.6961,     0.69405,     0.69381,     0.69283,     0.69118,     0.68994,     0.68969,      0.6892,      0.6887,      0.6882,     0.68789,     0.68583,     0.68583,\n",
      "            0.68583,     0.68583,     0.68583,     0.68536,     0.68421,     0.68378,     0.68172,     0.68172,     0.67762,     0.67762,     0.67762,     0.67762,     0.67762,     0.67762,     0.67762,     0.67741,     0.67619,      0.6748,     0.67351,     0.67351,     0.67293,     0.67146,     0.67146,\n",
      "            0.67146,     0.67104,     0.67049,     0.66994,     0.66939,     0.66869,     0.66799,     0.66725,     0.66602,      0.6653,      0.6653,      0.6653,      0.6653,     0.66123,     0.65744,     0.65708,     0.65708,     0.65708,     0.65708,     0.65708,      0.6554,     0.65439,      0.6536,\n",
      "            0.65298,     0.65298,     0.65127,     0.65092,     0.64887,     0.64887,     0.64887,     0.64645,     0.64558,     0.64476,     0.64476,     0.64337,     0.64058,     0.64028,     0.63998,     0.63969,     0.63939,      0.6391,      0.6388,     0.63853,     0.63794,     0.63735,     0.63675,\n",
      "            0.63515,     0.63244,     0.63244,      0.6316,     0.63043,     0.62902,     0.62834,     0.62834,     0.62684,     0.62628,     0.62628,     0.62628,     0.62628,     0.62628,     0.62628,     0.62628,     0.62423,     0.62423,     0.62423,     0.62423,     0.62342,     0.62243,     0.62192,\n",
      "            0.62156,     0.62121,     0.62086,     0.62051,     0.62016,     0.61917,     0.61811,     0.61396,     0.61396,     0.61396,     0.61396,     0.61396,     0.61396,     0.61396,     0.61396,     0.60986,     0.60986,     0.60986,     0.60986,     0.60986,     0.60986,     0.60986,     0.60748,\n",
      "            0.60704,     0.60659,     0.60614,     0.60575,     0.60527,     0.60468,     0.60409,     0.60342,     0.60258,     0.60174,     0.60083,     0.59992,     0.59959,     0.59959,     0.59959,     0.59959,     0.59959,     0.59939,     0.59867,     0.59795,     0.59727,     0.59548,     0.59548,\n",
      "            0.59548,     0.59539,     0.59406,     0.59336,     0.59282,     0.59228,     0.59173,     0.59065,     0.58915,     0.58869,     0.58822,     0.58776,      0.5873,     0.58647,     0.58561,     0.58495,     0.58446,     0.58397,     0.58347,     0.58316,     0.58316,     0.58289,     0.58212,\n",
      "            0.58136,     0.57962,     0.57751,      0.5761,     0.57494,     0.57459,     0.57424,      0.5739,     0.57355,      0.5732,      0.5729,      0.5729,     0.57245,      0.5715,     0.57084,     0.57084,     0.57084,     0.57041,     0.56958,     0.56845,     0.56583,     0.56468,     0.56292,\n",
      "            0.56263,     0.56263,     0.56263,     0.56263,     0.56263,     0.56222,     0.56125,     0.56042,     0.55989,     0.55936,     0.55884,     0.55789,     0.55636,     0.55527,     0.55441,     0.55441,     0.55441,     0.55416,     0.55137,     0.54987,      0.5491,     0.54833,     0.54801,\n",
      "            0.54709,      0.5462,      0.5462,      0.5462,     0.54594,     0.54503,     0.54403,     0.54128,     0.54005,      0.5383,     0.53608,     0.53452,     0.53183,     0.53183,     0.53183,     0.53139,     0.52977,     0.52977,     0.52977,     0.52977,     0.52977,     0.52977,     0.52977,\n",
      "             0.5289,     0.52789,     0.52555,     0.52455,     0.52356,     0.52282,     0.52208,     0.52111,     0.51962,     0.51749,      0.5133,      0.5128,     0.51229,     0.51179,     0.51128,     0.51083,     0.51038,     0.50993,     0.50948,     0.50924,     0.50924,     0.50924,     0.50872,\n",
      "            0.50786,     0.50719,     0.50719,     0.50719,     0.50719,     0.50719,     0.50556,     0.50308,     0.49986,     0.49818,     0.49711,     0.49623,     0.49538,      0.4928,     0.49193,     0.49106,     0.48836,     0.48748,     0.48652,      0.4846,      0.4846,     0.48431,     0.48347,\n",
      "            0.48263,     0.48113,     0.48049,     0.47894,     0.47639,     0.47639,     0.47639,     0.47543,     0.47402,     0.47334,     0.47265,     0.47023,     0.47023,      0.4696,     0.46777,     0.46612,     0.46562,      0.4651,     0.46457,     0.46405,      0.4636,     0.46315,      0.4627,\n",
      "            0.46225,     0.46097,     0.45952,      0.4587,     0.45784,     0.45569,      0.4545,     0.45273,     0.44963,     0.44918,     0.44874,     0.44829,     0.44784,     0.44559,     0.44552,     0.44513,     0.44475,     0.44436,     0.44398,     0.44359,     0.44226,     0.44097,     0.43993,\n",
      "             0.4383,     0.43605,     0.43416,     0.43262,     0.43169,     0.42979,     0.42669,     0.42374,     0.42195,      0.4188,     0.41618,     0.41319,     0.41043,     0.40872,     0.40811,     0.40757,     0.40702,     0.40569,     0.40179,     0.40083,     0.39931,     0.39729,      0.3948,\n",
      "            0.39014,     0.38791,     0.38654,     0.38392,     0.38351,      0.3831,     0.38269,     0.38228,     0.38171,     0.38029,     0.37671,     0.37525,     0.37428,     0.37339,     0.37261,     0.37184,     0.36889,     0.36481,      0.3614,      0.3614,      0.3614,     0.36129,     0.36076,\n",
      "            0.36022,     0.35969,      0.3586,     0.35729,     0.35729,     0.35729,     0.35666,     0.35582,     0.35477,     0.35324,     0.34974,     0.34681,     0.34476,     0.34367,     0.34237,     0.33942,     0.33755,     0.33676,     0.33676,     0.33603,     0.33255,     0.33096,      0.3306,\n",
      "             0.3306,      0.3306,     0.32923,     0.32595,     0.32385,     0.32257,     0.32002,     0.31923,     0.31843,     0.31609,     0.31404,     0.31323,     0.31241,     0.30978,     0.30733,     0.30588,     0.30369,     0.30264,     0.30132,     0.29732,     0.29594,     0.29278,     0.28889,\n",
      "            0.28759,     0.28482,     0.28322,     0.27949,     0.27915,     0.27193,     0.26984,     0.26825,     0.26536,     0.26231,     0.26052,     0.25951,     0.25873,     0.25873,     0.25873,     0.25873,     0.25873,     0.25712,      0.2503,     0.24742,     0.24305,     0.23508,     0.23277,\n",
      "            0.22778,     0.22623,     0.22383,     0.22329,     0.22276,     0.22223,     0.22165,      0.2208,     0.21995,     0.21855,     0.21615,     0.21407,     0.21201,     0.20935,     0.20768,     0.20514,     0.20469,     0.20424,     0.20378,     0.20333,     0.19713,     0.19563,     0.18877,\n",
      "            0.18797,     0.18717,      0.1848,     0.18387,     0.18146,     0.17627,     0.17488,     0.16781,     0.16529,     0.16317,     0.16083,     0.15965,      0.1588,     0.15794,     0.15701,     0.15608,     0.14824,     0.14488,     0.14085,     0.13903,     0.13484,     0.13161,     0.12672,\n",
      "            0.12521,      0.1243,      0.1234,     0.12276,      0.1222,     0.12163,     0.12047,     0.11456,     0.11241,     0.11144,     0.11039,     0.10923,      0.1064,     0.10509,     0.10254,     0.10011,    0.099244,    0.098192,    0.096475,    0.095075,    0.093994,    0.093164,    0.092226,\n",
      "            0.08925,    0.085902,    0.083981,     0.08336,    0.082739,    0.082083,    0.080276,    0.077457,    0.076394,    0.073488,    0.072742,    0.071996,    0.063649,    0.062311,    0.060804,    0.057367,    0.056262,    0.050174,    0.047979,    0.046384,    0.045065,    0.044726,    0.044387,\n",
      "           0.044049,     0.04371,    0.043371,    0.042811,    0.041625,    0.040161,     0.03686,     0.03585,    0.034886,    0.034562,    0.034238,    0.033914,     0.03359,    0.033266,    0.032942,    0.032651,    0.032372,    0.032093,    0.031814,    0.031536,    0.031257,    0.030978,    0.030142,\n",
      "           0.028713,    0.028564,    0.028415,    0.028265,    0.028116,    0.027966,    0.027817,    0.027667,    0.027518,    0.027369,    0.027219,     0.02707,     0.02692,    0.026771,    0.026498,    0.026096,    0.025693,     0.02529,    0.024887,    0.024475,    0.024047,    0.023618,     0.02319,\n",
      "           0.022762,     0.02116,     0.01818,    0.016558,    0.015541,    0.014577,    0.014158,    0.013884,     0.01361,    0.013336,    0.013062,    0.012789,    0.012515,    0.012207,    0.011818,    0.011428,    0.011038,    0.010648,    0.010255,   0.0096959,   0.0091368,   0.0085777,   0.0081797,\n",
      "          0.0080828,   0.0079858,   0.0078888,   0.0077918,   0.0076948,   0.0075978,   0.0075008,   0.0074039,   0.0073069,   0.0072099,   0.0071129,   0.0070159,   0.0069189,   0.0068219,   0.0067249,    0.006628,    0.006531,    0.006434,    0.006337,     0.00624,   0.0061274,   0.0059417,   0.0057561,\n",
      "          0.0055705,   0.0053849,   0.0051993,   0.0050137,    0.004828,   0.0046424,   0.0044568,   0.0042712,   0.0040997,   0.0040377,   0.0039757,   0.0039137,   0.0038517,   0.0037897,   0.0037277,   0.0036657,   0.0036037,   0.0035417,   0.0034797,   0.0034177,   0.0033557,   0.0032937,   0.0032317,\n",
      "          0.0031697,   0.0031077,   0.0030457,   0.0029837,   0.0029217,   0.0028597,   0.0027977,   0.0027357,   0.0026737,   0.0026117,   0.0025497,   0.0024877,   0.0024257,   0.0023637,   0.0023017,   0.0022397,   0.0021777,   0.0021157,   0.0020537,           0,           0,           0,           0,\n",
      "                  0,           0,           0,           0,           0,           0,           0,           0,           0,           0,           0,           0,           0,           0,           0,           0,           0,           0,           0,           0,           0,           0,           0,\n",
      "                  0,           0,           0,           0,           0,           0,           0,           0,           0,           0,           0,           0,           0,           0,           0,           0,           0,           0,           0,           0,           0,           0,           0,\n",
      "                  0,           0,           0,           0,           0,           0,           0,           0,           0,           0,           0,           0,           0,           0,           0,           0,           0,           0,           0,           0,           0,           0,           0,\n",
      "                  0,           0,           0,           0,           0,           0,           0,           0,           0,           0,           0]]), 'Confidence', 'Recall']]\n",
      "fitness: np.float64(0.3617768334552484)\n",
      "keys: ['metrics/precision(B)', 'metrics/recall(B)', 'metrics/mAP50(B)', 'metrics/mAP50-95(B)']\n",
      "maps: array([    0.32069])\n",
      "names: {0: 'gun'}\n",
      "plot: True\n",
      "results_dict: {'metrics/precision(B)': np.float64(0.7595610509582598), 'metrics/recall(B)': np.float64(0.6817248459958932), 'metrics/mAP50(B)': np.float64(0.7315826525558592), 'metrics/mAP50-95(B)': np.float64(0.320687297999625), 'fitness': np.float64(0.3617768334552484)}\n",
      "save_dir: WindowsPath('runs/detect/firearm_detection82')\n",
      "speed: {'preprocess': 1.954078905790755, 'inference': 74.28930801095314, 'loss': 0.0, 'postprocess': 0.4156631173439396}\n",
      "task: 'detect'\n"
     ]
    }
   ],
   "source": [
    "print(\"Validating the model...\")\n",
    "results = model.val()\n",
    "print(results)\n"
   ]
  },
  {
   "cell_type": "code",
   "execution_count": 16,
   "metadata": {},
   "outputs": [
    {
     "name": "stdout",
     "output_type": "stream",
     "text": [
      "Running inference on test image...\n",
      "\n",
      "image 1/1 C:\\Users\\taylo\\Documents\\personal\\Masters\\Capstone\\Data\\export-mock-attack-dataset\\images\\val\\Cam5-From09-27-50To09-29-30-Guns_x264_frame_252.jpg: 384x640 1 gun, 174.8ms\n",
      "Speed: 11.0ms preprocess, 174.8ms inference, 6.0ms postprocess per image at shape (1, 3, 384, 640)\n",
      "Results saved to \u001b[1mruns\\detect\\predict5\u001b[0m\n",
      "Detected objects:\n",
      "Class: 0, Confidence: 0.45, Coordinates: [[520.711669921875, 250.4658660888672, 554.193603515625, 304.843017578125]]\n"
     ]
    }
   ],
   "source": [
    "from ultralytics import YOLO\n",
    "import os\n",
    "\n",
    "image_dir = r\"C:\\Users\\taylo\\Documents\\personal\\Masters\\Capstone\\Data\\export-mock-attack-dataset\\images\\val\"\n",
    "test_image = os.path.join(image_dir, \"Cam5-From09-27-50To09-29-30-Guns_x264_frame_252.jpg\")\n",
    "\n",
    "# Path to the trained weights\n",
    "custom_weights = r\"runs/detect/firearm_detection8/weights/best.pt\"\n",
    "\n",
    "# Load the trained  model\n",
    "model = YOLO(custom_weights)\n",
    "\n",
    "\n",
    "print(\"Running inference on test image...\")\n",
    "results = model.predict(source=test_image, show=True, save=True)\n",
    "\n",
    "# Print Detected Objects\n",
    "print(\"Detected objects:\")\n",
    "for result in results:\n",
    "    for box in result.boxes:\n",
    "        print(f\"Class: {int(box.cls.item())}, Confidence: {box.conf.item():.2f}, Coordinates: {box.xyxy.tolist()}\")\n"
   ]
  },
  {
   "cell_type": "code",
   "execution_count": 13,
   "metadata": {},
   "outputs": [
    {
     "name": "stdout",
     "output_type": "stream",
     "text": [
      "Files in validation directory:\n",
      "['Cam1-From09-23-00To10-03-25_Segment_0_x264_frame_1.jpg', 'Cam1-From09-23-00To10-03-25_Segment_0_x264_frame_10.jpg', 'Cam1-From09-23-00To10-03-25_Segment_0_x264_frame_100.jpg', 'Cam1-From09-23-00To10-03-25_Segment_0_x264_frame_107.jpg', 'Cam1-From09-23-00To10-03-25_Segment_0_x264_frame_11.jpg', 'Cam1-From09-23-00To10-03-25_Segment_0_x264_frame_112.jpg', 'Cam1-From09-23-00To10-03-25_Segment_0_x264_frame_12.jpg', 'Cam1-From09-23-00To10-03-25_Segment_0_x264_frame_19.jpg', 'Cam1-From09-23-00To10-03-25_Segment_0_x264_frame_2.jpg', 'Cam1-From09-23-00To10-03-25_Segment_0_x264_frame_22.jpg', 'Cam1-From09-23-00To10-03-25_Segment_0_x264_frame_23.jpg', 'Cam1-From09-23-00To10-03-25_Segment_0_x264_frame_42.jpg', 'Cam1-From09-23-00To10-03-25_Segment_0_x264_frame_48.jpg', 'Cam1-From09-23-00To10-03-25_Segment_0_x264_frame_52.jpg', 'Cam1-From09-23-00To10-03-25_Segment_0_x264_frame_53.jpg', 'Cam1-From09-23-00To10-03-25_Segment_0_x264_frame_58.jpg', 'Cam1-From09-23-00To10-03-25_Segment_0_x264_frame_60.jpg', 'Cam1-From09-23-00To10-03-25_Segment_0_x264_frame_63.jpg', 'Cam1-From09-23-00To10-03-25_Segment_0_x264_frame_67.jpg', 'Cam1-From09-23-00To10-03-25_Segment_0_x264_frame_69.jpg', 'Cam1-From09-23-00To10-03-25_Segment_0_x264_frame_7.jpg', 'Cam1-From09-23-00To10-03-25_Segment_0_x264_frame_87.jpg', 'Cam1-From09-23-00To10-03-25_Segment_0_x264_frame_89.jpg', 'Cam1-From09-23-00To10-03-25_Segment_0_x264_frame_93.jpg', 'Cam1-From09-23-00To10-03-25_Segment_1_x264_frame_1.jpg', 'Cam1-From09-23-00To10-03-25_Segment_1_x264_frame_11.jpg', 'Cam1-From09-23-00To10-03-25_Segment_1_x264_frame_14.jpg', 'Cam1-From09-23-00To10-03-25_Segment_1_x264_frame_19.jpg', 'Cam1-From09-23-00To10-03-25_Segment_1_x264_frame_2.jpg', 'Cam1-From09-23-00To10-03-25_Segment_1_x264_frame_25.jpg', 'Cam1-From09-23-00To10-03-25_Segment_1_x264_frame_28.jpg', 'Cam1-From09-23-00To10-03-25_Segment_1_x264_frame_31.jpg', 'Cam1-From09-23-00To10-03-25_Segment_1_x264_frame_43.jpg', 'Cam1-From09-23-00To10-03-25_Segment_1_x264_frame_55.jpg', 'Cam1-From09-23-00To10-03-25_Segment_1_x264_frame_57.jpg', 'Cam1-From09-23-00To10-03-25_Segment_1_x264_frame_58.jpg', 'Cam1-From09-23-00To10-03-25_Segment_1_x264_frame_66.jpg', 'Cam1-From09-23-00To10-03-25_Segment_1_x264_frame_67.jpg', 'Cam1-From09-23-00To10-03-25_Segment_1_x264_frame_69.jpg', 'Cam1-From09-23-00To10-03-25_Segment_1_x264_frame_74.jpg', 'Cam1-From09-23-00To10-03-25_Segment_2_x264_frame_19.jpg', 'Cam1-From09-23-00To10-03-25_Segment_2_x264_frame_24.jpg', 'Cam1-From09-23-00To10-03-25_Segment_2_x264_frame_26.jpg', 'Cam1-From09-23-00To10-03-25_Segment_2_x264_frame_3.jpg', 'Cam1-From09-23-00To10-03-25_Segment_2_x264_frame_34.jpg', 'Cam1-From09-23-00To10-03-25_Segment_2_x264_frame_41.jpg', 'Cam1-From09-23-00To10-03-25_Segment_2_x264_frame_43.jpg', 'Cam1-From09-23-00To10-03-25_Segment_2_x264_frame_50.jpg', 'Cam1-From09-23-00To10-03-25_Segment_2_x264_frame_54.jpg', 'Cam1-From09-23-00To10-03-25_Segment_2_x264_frame_6.jpg', 'Cam1-From09-23-00To10-03-25_Segment_2_x264_frame_64.jpg', 'Cam1-From09-23-00To10-03-25_Segment_2_x264_frame_8.jpg', 'Cam1-From09-23-00To10-03-25_Segment_3_x264_frame_14.jpg', 'Cam1-From09-23-00To10-03-25_Segment_3_x264_frame_19.jpg', 'Cam1-From09-23-00To10-03-25_Segment_3_x264_frame_20.jpg', 'Cam1-From09-23-00To10-03-25_Segment_3_x264_frame_23.jpg', 'Cam1-From09-23-00To10-03-25_Segment_3_x264_frame_4.jpg', 'Cam1-From09-23-00To10-03-25_Segment_3_x264_frame_6.jpg', 'Cam1-From09-23-00To10-03-25_Segment_3_x264_frame_8.jpg', 'Cam1-From09-23-00To10-03-25_Segment_4_x264_frame_1.jpg', 'Cam1-From09-23-00To10-03-25_Segment_4_x264_frame_13.jpg', 'Cam1-From09-23-00To10-03-25_Segment_4_x264_frame_23.jpg', 'Cam1-From09-23-00To10-03-25_Segment_4_x264_frame_26.jpg', 'Cam1-From09-23-00To10-03-25_Segment_4_x264_frame_27.jpg', 'Cam1-From09-23-00To10-03-25_Segment_4_x264_frame_3.jpg', 'Cam1-From09-23-00To10-03-25_Segment_4_x264_frame_31.jpg', 'Cam1-From09-23-00To10-03-25_Segment_4_x264_frame_35.jpg', 'Cam1-From09-23-00To10-03-25_Segment_4_x264_frame_4.jpg', 'Cam1-From09-23-00To10-03-25_Segment_4_x264_frame_43.jpg', 'Cam1-From09-23-00To10-03-25_Segment_4_x264_frame_44.jpg', 'Cam1-From09-23-00To10-03-25_Segment_4_x264_frame_45.jpg', 'Cam1-From09-23-00To10-03-25_Segment_4_x264_frame_49.jpg', 'Cam1-From09-23-00To10-03-25_Segment_4_x264_frame_55.jpg', 'Cam1-From09-23-00To10-03-25_Segment_4_x264_frame_56.jpg', 'Cam1-From09-23-00To10-03-25_Segment_4_x264_frame_57.jpg', 'Cam1-From09-23-00To10-03-25_Segment_4_x264_frame_68.jpg', 'Cam1-From09-23-00To10-03-25_Segment_4_x264_frame_72.jpg', 'Cam1-From09-23-00To10-03-25_Segment_4_x264_frame_73.jpg', 'Cam1-From09-23-00To10-03-25_Segment_4_x264_frame_74.jpg', 'Cam1-From09-23-00To10-03-25_Segment_4_x264_frame_77.jpg', 'Cam1-From09-23-00To10-03-25_Segment_4_x264_frame_79.jpg', 'Cam1-From09-23-00To10-03-25_Segment_4_x264_frame_82.jpg', 'Cam1-From09-23-00To10-03-25_Segment_4_x264_frame_86.jpg', 'Cam1-From09-23-00To10-03-25_Segment_5_x264_frame_10.jpg', 'Cam1-From09-23-00To10-03-25_Segment_5_x264_frame_101.jpg', 'Cam1-From09-23-00To10-03-25_Segment_5_x264_frame_104.jpg', 'Cam1-From09-23-00To10-03-25_Segment_5_x264_frame_110.jpg', 'Cam1-From09-23-00To10-03-25_Segment_5_x264_frame_121.jpg', 'Cam1-From09-23-00To10-03-25_Segment_5_x264_frame_122.jpg', 'Cam1-From09-23-00To10-03-25_Segment_5_x264_frame_141.jpg', 'Cam1-From09-23-00To10-03-25_Segment_5_x264_frame_142.jpg', 'Cam1-From09-23-00To10-03-25_Segment_5_x264_frame_152.jpg', 'Cam1-From09-23-00To10-03-25_Segment_5_x264_frame_164.jpg', 'Cam1-From09-23-00To10-03-25_Segment_5_x264_frame_175.jpg', 'Cam1-From09-23-00To10-03-25_Segment_5_x264_frame_181.jpg', 'Cam1-From09-23-00To10-03-25_Segment_5_x264_frame_183.jpg', 'Cam1-From09-23-00To10-03-25_Segment_5_x264_frame_184.jpg', 'Cam1-From09-23-00To10-03-25_Segment_5_x264_frame_191.jpg', 'Cam1-From09-23-00To10-03-25_Segment_5_x264_frame_199.jpg', 'Cam1-From09-23-00To10-03-25_Segment_5_x264_frame_2.jpg', 'Cam1-From09-23-00To10-03-25_Segment_5_x264_frame_205.jpg', 'Cam1-From09-23-00To10-03-25_Segment_5_x264_frame_207.jpg', 'Cam1-From09-23-00To10-03-25_Segment_5_x264_frame_213.jpg', 'Cam1-From09-23-00To10-03-25_Segment_5_x264_frame_214.jpg', 'Cam1-From09-23-00To10-03-25_Segment_5_x264_frame_215.jpg', 'Cam1-From09-23-00To10-03-25_Segment_5_x264_frame_219.jpg', 'Cam1-From09-23-00To10-03-25_Segment_5_x264_frame_224.jpg', 'Cam1-From09-23-00To10-03-25_Segment_5_x264_frame_23.jpg', 'Cam1-From09-23-00To10-03-25_Segment_5_x264_frame_3.jpg', 'Cam1-From09-23-00To10-03-25_Segment_5_x264_frame_36.jpg', 'Cam1-From09-23-00To10-03-25_Segment_5_x264_frame_38.jpg', 'Cam1-From09-23-00To10-03-25_Segment_5_x264_frame_41.jpg', 'Cam1-From09-23-00To10-03-25_Segment_5_x264_frame_42.jpg', 'Cam1-From09-23-00To10-03-25_Segment_5_x264_frame_43.jpg', 'Cam1-From09-23-00To10-03-25_Segment_5_x264_frame_54.jpg', 'Cam1-From09-23-00To10-03-25_Segment_5_x264_frame_61.jpg', 'Cam1-From09-23-00To10-03-25_Segment_5_x264_frame_69.jpg', 'Cam1-From09-23-00To10-03-25_Segment_5_x264_frame_71.jpg', 'Cam1-From09-23-00To10-03-25_Segment_5_x264_frame_72.jpg', 'Cam1-From09-23-00To10-03-25_Segment_5_x264_frame_75.jpg', 'Cam1-From09-23-00To10-03-25_Segment_5_x264_frame_83.jpg', 'Cam1-From09-23-00To10-03-25_Segment_5_x264_frame_86.jpg', 'Cam1-From09-23-00To10-03-25_Segment_5_x264_frame_92.jpg', 'Cam1-From09-23-00To10-03-25_Segment_5_x264_frame_97.jpg', 'Cam1-From09-23-00To10-03-25_Segment_5_x264_frame_99.jpg', 'Cam5-From09-24-18To09-26-43-Guns_x264_Segment_0_x264_frame_108.jpg', 'Cam5-From09-24-18To09-26-43-Guns_x264_Segment_0_x264_frame_115.jpg', 'Cam5-From09-24-18To09-26-43-Guns_x264_Segment_0_x264_frame_116.jpg', 'Cam5-From09-24-18To09-26-43-Guns_x264_Segment_0_x264_frame_120.jpg', 'Cam5-From09-24-18To09-26-43-Guns_x264_Segment_0_x264_frame_18.jpg', 'Cam5-From09-24-18To09-26-43-Guns_x264_Segment_0_x264_frame_22.jpg', 'Cam5-From09-24-18To09-26-43-Guns_x264_Segment_0_x264_frame_24.jpg', 'Cam5-From09-24-18To09-26-43-Guns_x264_Segment_0_x264_frame_26.jpg', 'Cam5-From09-24-18To09-26-43-Guns_x264_Segment_0_x264_frame_34.jpg', 'Cam5-From09-24-18To09-26-43-Guns_x264_Segment_0_x264_frame_35.jpg', 'Cam5-From09-24-18To09-26-43-Guns_x264_Segment_0_x264_frame_37.jpg', 'Cam5-From09-24-18To09-26-43-Guns_x264_Segment_0_x264_frame_39.jpg', 'Cam5-From09-24-18To09-26-43-Guns_x264_Segment_0_x264_frame_43.jpg', 'Cam5-From09-24-18To09-26-43-Guns_x264_Segment_0_x264_frame_44.jpg', 'Cam5-From09-24-18To09-26-43-Guns_x264_Segment_0_x264_frame_45.jpg', 'Cam5-From09-24-18To09-26-43-Guns_x264_Segment_0_x264_frame_50.jpg', 'Cam5-From09-24-18To09-26-43-Guns_x264_Segment_0_x264_frame_59.jpg', 'Cam5-From09-24-18To09-26-43-Guns_x264_Segment_0_x264_frame_60.jpg', 'Cam5-From09-24-18To09-26-43-Guns_x264_Segment_0_x264_frame_63.jpg', 'Cam5-From09-24-18To09-26-43-Guns_x264_Segment_0_x264_frame_67.jpg', 'Cam5-From09-24-18To09-26-43-Guns_x264_Segment_0_x264_frame_68.jpg', 'Cam5-From09-24-18To09-26-43-Guns_x264_Segment_0_x264_frame_72.jpg', 'Cam5-From09-24-18To09-26-43-Guns_x264_Segment_0_x264_frame_75.jpg', 'Cam5-From09-24-18To09-26-43-Guns_x264_Segment_0_x264_frame_81.jpg', 'Cam5-From09-24-18To09-26-43-Guns_x264_Segment_0_x264_frame_82.jpg', 'Cam5-From09-24-18To09-26-43-Guns_x264_Segment_0_x264_frame_85.jpg', 'Cam5-From09-24-18To09-26-43-Guns_x264_Segment_1_x264_frame_105.jpg', 'Cam5-From09-24-18To09-26-43-Guns_x264_Segment_1_x264_frame_111.jpg', 'Cam5-From09-24-18To09-26-43-Guns_x264_Segment_1_x264_frame_114.jpg', 'Cam5-From09-24-18To09-26-43-Guns_x264_Segment_1_x264_frame_116.jpg', 'Cam5-From09-24-18To09-26-43-Guns_x264_Segment_1_x264_frame_118.jpg', 'Cam5-From09-24-18To09-26-43-Guns_x264_Segment_1_x264_frame_119.jpg', 'Cam5-From09-24-18To09-26-43-Guns_x264_Segment_1_x264_frame_126.jpg', 'Cam5-From09-24-18To09-26-43-Guns_x264_Segment_1_x264_frame_131.jpg', 'Cam5-From09-24-18To09-26-43-Guns_x264_Segment_1_x264_frame_132.jpg', 'Cam5-From09-24-18To09-26-43-Guns_x264_Segment_1_x264_frame_134.jpg', 'Cam5-From09-24-18To09-26-43-Guns_x264_Segment_1_x264_frame_142.jpg', 'Cam5-From09-24-18To09-26-43-Guns_x264_Segment_1_x264_frame_34.jpg', 'Cam5-From09-24-18To09-26-43-Guns_x264_Segment_1_x264_frame_36.jpg', 'Cam5-From09-24-18To09-26-43-Guns_x264_Segment_1_x264_frame_40.jpg', 'Cam5-From09-24-18To09-26-43-Guns_x264_Segment_1_x264_frame_41.jpg', 'Cam5-From09-24-18To09-26-43-Guns_x264_Segment_1_x264_frame_42.jpg', 'Cam5-From09-24-18To09-26-43-Guns_x264_Segment_1_x264_frame_44.jpg', 'Cam5-From09-24-18To09-26-43-Guns_x264_Segment_1_x264_frame_46.jpg', 'Cam5-From09-24-18To09-26-43-Guns_x264_Segment_1_x264_frame_51.jpg', 'Cam5-From09-24-18To09-26-43-Guns_x264_Segment_1_x264_frame_55.jpg', 'Cam5-From09-24-18To09-26-43-Guns_x264_Segment_1_x264_frame_57.jpg', 'Cam5-From09-24-18To09-26-43-Guns_x264_Segment_1_x264_frame_61.jpg', 'Cam5-From09-24-18To09-26-43-Guns_x264_Segment_1_x264_frame_65.jpg', 'Cam5-From09-24-18To09-26-43-Guns_x264_Segment_1_x264_frame_68.jpg', 'Cam5-From09-24-18To09-26-43-Guns_x264_Segment_1_x264_frame_7.jpg', 'Cam5-From09-24-18To09-26-43-Guns_x264_Segment_1_x264_frame_85.jpg', 'Cam5-From09-24-18To09-26-43-Guns_x264_Segment_1_x264_frame_86.jpg', 'Cam5-From09-24-18To09-26-43-Guns_x264_Segment_1_x264_frame_9.jpg', 'Cam5-From09-24-18To09-26-43-Guns_x264_Segment_1_x264_frame_90.jpg', 'Cam5-From09-27-50To09-29-30-Guns_x264_frame_103.jpg', 'Cam5-From09-27-50To09-29-30-Guns_x264_frame_109.jpg', 'Cam5-From09-27-50To09-29-30-Guns_x264_frame_113.jpg', 'Cam5-From09-27-50To09-29-30-Guns_x264_frame_114.jpg', 'Cam5-From09-27-50To09-29-30-Guns_x264_frame_117.jpg', 'Cam5-From09-27-50To09-29-30-Guns_x264_frame_131.jpg', 'Cam5-From09-27-50To09-29-30-Guns_x264_frame_14.jpg', 'Cam5-From09-27-50To09-29-30-Guns_x264_frame_141.jpg', 'Cam5-From09-27-50To09-29-30-Guns_x264_frame_15.jpg', 'Cam5-From09-27-50To09-29-30-Guns_x264_frame_157.jpg', 'Cam5-From09-27-50To09-29-30-Guns_x264_frame_160.jpg', 'Cam5-From09-27-50To09-29-30-Guns_x264_frame_161.jpg', 'Cam5-From09-27-50To09-29-30-Guns_x264_frame_163.jpg', 'Cam5-From09-27-50To09-29-30-Guns_x264_frame_167.jpg', 'Cam5-From09-27-50To09-29-30-Guns_x264_frame_169.jpg', 'Cam5-From09-27-50To09-29-30-Guns_x264_frame_17.jpg', 'Cam5-From09-27-50To09-29-30-Guns_x264_frame_177.jpg', 'Cam5-From09-27-50To09-29-30-Guns_x264_frame_178.jpg', 'Cam5-From09-27-50To09-29-30-Guns_x264_frame_184.jpg', 'Cam5-From09-27-50To09-29-30-Guns_x264_frame_185.jpg', 'Cam5-From09-27-50To09-29-30-Guns_x264_frame_189.jpg', 'Cam5-From09-27-50To09-29-30-Guns_x264_frame_190.jpg', 'Cam5-From09-27-50To09-29-30-Guns_x264_frame_196.jpg', 'Cam5-From09-27-50To09-29-30-Guns_x264_frame_201.jpg', 'Cam5-From09-27-50To09-29-30-Guns_x264_frame_203.jpg', 'Cam5-From09-27-50To09-29-30-Guns_x264_frame_208.jpg', 'Cam5-From09-27-50To09-29-30-Guns_x264_frame_209.jpg', 'Cam5-From09-27-50To09-29-30-Guns_x264_frame_210.jpg', 'Cam5-From09-27-50To09-29-30-Guns_x264_frame_221.jpg', 'Cam5-From09-27-50To09-29-30-Guns_x264_frame_222.jpg', 'Cam5-From09-27-50To09-29-30-Guns_x264_frame_226.jpg', 'Cam5-From09-27-50To09-29-30-Guns_x264_frame_23.jpg', 'Cam5-From09-27-50To09-29-30-Guns_x264_frame_230.jpg', 'Cam5-From09-27-50To09-29-30-Guns_x264_frame_233.jpg', 'Cam5-From09-27-50To09-29-30-Guns_x264_frame_236.jpg', 'Cam5-From09-27-50To09-29-30-Guns_x264_frame_250.jpg', 'Cam5-From09-27-50To09-29-30-Guns_x264_frame_252.jpg', 'Cam5-From09-27-50To09-29-30-Guns_x264_frame_258.jpg', 'Cam5-From09-27-50To09-29-30-Guns_x264_frame_266.jpg', 'Cam5-From09-27-50To09-29-30-Guns_x264_frame_27.jpg', 'Cam5-From09-27-50To09-29-30-Guns_x264_frame_270.jpg', 'Cam5-From09-27-50To09-29-30-Guns_x264_frame_273.jpg', 'Cam5-From09-27-50To09-29-30-Guns_x264_frame_276.jpg', 'Cam5-From09-27-50To09-29-30-Guns_x264_frame_287.jpg', 'Cam5-From09-27-50To09-29-30-Guns_x264_frame_288.jpg', 'Cam5-From09-27-50To09-29-30-Guns_x264_frame_289.jpg', 'Cam5-From09-27-50To09-29-30-Guns_x264_frame_29.jpg', 'Cam5-From09-27-50To09-29-30-Guns_x264_frame_290.jpg', 'Cam5-From09-27-50To09-29-30-Guns_x264_frame_292.jpg', 'Cam5-From09-27-50To09-29-30-Guns_x264_frame_297.jpg', 'Cam5-From09-27-50To09-29-30-Guns_x264_frame_304.jpg', 'Cam5-From09-27-50To09-29-30-Guns_x264_frame_307.jpg', 'Cam5-From09-27-50To09-29-30-Guns_x264_frame_312.jpg', 'Cam5-From09-27-50To09-29-30-Guns_x264_frame_314.jpg', 'Cam5-From09-27-50To09-29-30-Guns_x264_frame_325.jpg', 'Cam5-From09-27-50To09-29-30-Guns_x264_frame_326.jpg', 'Cam5-From09-27-50To09-29-30-Guns_x264_frame_329.jpg', 'Cam5-From09-27-50To09-29-30-Guns_x264_frame_334.jpg', 'Cam5-From09-27-50To09-29-30-Guns_x264_frame_34.jpg', 'Cam5-From09-27-50To09-29-30-Guns_x264_frame_342.jpg', 'Cam5-From09-27-50To09-29-30-Guns_x264_frame_343.jpg', 'Cam5-From09-27-50To09-29-30-Guns_x264_frame_349.jpg', 'Cam5-From09-27-50To09-29-30-Guns_x264_frame_350.jpg', 'Cam5-From09-27-50To09-29-30-Guns_x264_frame_352.jpg', 'Cam5-From09-27-50To09-29-30-Guns_x264_frame_36.jpg', 'Cam5-From09-27-50To09-29-30-Guns_x264_frame_362.jpg', 'Cam5-From09-27-50To09-29-30-Guns_x264_frame_364.jpg', 'Cam5-From09-27-50To09-29-30-Guns_x264_frame_366.jpg', 'Cam5-From09-27-50To09-29-30-Guns_x264_frame_4.jpg', 'Cam5-From09-27-50To09-29-30-Guns_x264_frame_58.jpg', 'Cam5-From09-27-50To09-29-30-Guns_x264_frame_62.jpg', 'Cam5-From09-27-50To09-29-30-Guns_x264_frame_67.jpg', 'Cam5-From09-27-50To09-29-30-Guns_x264_frame_71.jpg', 'Cam5-From09-27-50To09-29-30-Guns_x264_frame_75.jpg', 'Cam5-From09-27-50To09-29-30-Guns_x264_frame_78.jpg', 'Cam5-From09-27-50To09-29-30-Guns_x264_frame_81.jpg', 'Cam5-From09-27-50To09-29-30-Guns_x264_frame_86.jpg', 'Cam5-From09-27-50To09-29-30-Guns_x264_frame_87.jpg', 'Cam5-From09-27-50To09-29-30-Guns_x264_frame_98.jpg', 'Cam5-From09-27-50To09-29-30-Guns_x264_frame_99.jpg', 'Cam5-From09-30-04To09-30-42-Guns_x264_frame_1.jpg', 'Cam5-From09-30-04To09-30-42-Guns_x264_frame_10.jpg', 'Cam5-From09-30-04To09-30-42-Guns_x264_frame_114.jpg', 'Cam5-From09-30-04To09-30-42-Guns_x264_frame_117.jpg', 'Cam5-From09-30-04To09-30-42-Guns_x264_frame_118.jpg', 'Cam5-From09-30-04To09-30-42-Guns_x264_frame_122.jpg', 'Cam5-From09-30-04To09-30-42-Guns_x264_frame_128.jpg', 'Cam5-From09-30-04To09-30-42-Guns_x264_frame_131.jpg', 'Cam5-From09-30-04To09-30-42-Guns_x264_frame_133.jpg', 'Cam5-From09-30-04To09-30-42-Guns_x264_frame_135.jpg', 'Cam5-From09-30-04To09-30-42-Guns_x264_frame_137.jpg', 'Cam5-From09-30-04To09-30-42-Guns_x264_frame_15.jpg', 'Cam5-From09-30-04To09-30-42-Guns_x264_frame_2.jpg', 'Cam5-From09-30-04To09-30-42-Guns_x264_frame_24.jpg', 'Cam5-From09-30-04To09-30-42-Guns_x264_frame_38.jpg', 'Cam5-From09-30-04To09-30-42-Guns_x264_frame_42.jpg', 'Cam5-From09-30-04To09-30-42-Guns_x264_frame_51.jpg', 'Cam5-From09-30-04To09-30-42-Guns_x264_frame_54.jpg', 'Cam5-From09-30-04To09-30-42-Guns_x264_frame_59.jpg', 'Cam5-From09-30-04To09-30-42-Guns_x264_frame_6.jpg', 'Cam5-From09-30-04To09-30-42-Guns_x264_frame_63.jpg', 'Cam5-From09-30-04To09-30-42-Guns_x264_frame_65.jpg', 'Cam5-From09-30-04To09-30-42-Guns_x264_frame_66.jpg', 'Cam5-From09-30-04To09-30-42-Guns_x264_frame_8.jpg', 'Cam5-From09-30-04To09-30-42-Guns_x264_frame_86.jpg', 'Cam5-From09-30-04To09-30-42-Guns_x264_frame_99.jpg', 'Cam5-From09-32-26To09-33-10-Guns_x264_frame_17.jpg', 'Cam5-From09-32-26To09-33-10-Guns_x264_frame_25.jpg', 'Cam5-From09-32-26To09-33-10-Guns_x264_frame_31.jpg', 'Cam5-From09-32-26To09-33-10-Guns_x264_frame_40.jpg', 'Cam5-From09-32-26To09-33-10-Guns_x264_frame_47.jpg', 'Cam5-From09-32-26To09-33-10-Guns_x264_frame_57.jpg', 'Cam5-From09-32-26To09-33-10-Guns_x264_frame_58.jpg', 'Cam5-From09-32-26To09-33-10-Guns_x264_frame_72.jpg', 'Cam5-From09-46-24To09-47-02_x264_frame_13.jpg', 'Cam5-From09-46-24To09-47-02_x264_frame_16.jpg', 'Cam5-From09-46-24To09-47-02_x264_frame_26.jpg', 'Cam5-From09-46-24To09-47-02_x264_frame_31.jpg', 'Cam5-From09-46-24To09-47-02_x264_frame_43.jpg', 'Cam5-From09-46-24To09-47-02_x264_frame_5.jpg', 'Cam5-From09-47-49To09-48-30_x264_frame_107.jpg', 'Cam5-From09-47-49To09-48-30_x264_frame_108.jpg', 'Cam5-From09-47-49To09-48-30_x264_frame_115.jpg', 'Cam5-From09-47-49To09-48-30_x264_frame_118.jpg', 'Cam5-From09-47-49To09-48-30_x264_frame_119.jpg', 'Cam5-From09-47-49To09-48-30_x264_frame_128.jpg', 'Cam5-From09-47-49To09-48-30_x264_frame_129.jpg', 'Cam5-From09-47-49To09-48-30_x264_frame_13.jpg', 'Cam5-From09-47-49To09-48-30_x264_frame_136.jpg', 'Cam5-From09-47-49To09-48-30_x264_frame_138.jpg', 'Cam5-From09-47-49To09-48-30_x264_frame_141.jpg', 'Cam5-From09-47-49To09-48-30_x264_frame_19.jpg', 'Cam5-From09-47-49To09-48-30_x264_frame_20.jpg', 'Cam5-From09-47-49To09-48-30_x264_frame_26.jpg', 'Cam5-From09-47-49To09-48-30_x264_frame_28.jpg', 'Cam5-From09-47-49To09-48-30_x264_frame_29.jpg', 'Cam5-From09-47-49To09-48-30_x264_frame_33.jpg', 'Cam5-From09-47-49To09-48-30_x264_frame_34.jpg', 'Cam5-From09-47-49To09-48-30_x264_frame_4.jpg', 'Cam5-From09-47-49To09-48-30_x264_frame_42.jpg', 'Cam5-From09-47-49To09-48-30_x264_frame_46.jpg', 'Cam5-From09-47-49To09-48-30_x264_frame_6.jpg', 'Cam5-From09-47-49To09-48-30_x264_frame_62.jpg', 'Cam5-From09-47-49To09-48-30_x264_frame_7.jpg', 'Cam5-From09-47-49To09-48-30_x264_frame_71.jpg', 'Cam5-From09-47-49To09-48-30_x264_frame_84.jpg', 'Cam5-From09-47-49To09-48-30_x264_frame_85.jpg', 'Cam5-From09-47-49To09-48-30_x264_frame_89.jpg', 'Cam5-From09-47-49To09-48-30_x264_frame_95.jpg', 'Cam7-From09-05-50To10-09-24_Segment_10_x264_frame_12.jpg', 'Cam7-From09-05-50To10-09-24_Segment_10_x264_frame_15.jpg', 'Cam7-From09-05-50To10-09-24_Segment_10_x264_frame_16.jpg', 'Cam7-From09-05-50To10-09-24_Segment_10_x264_frame_18.jpg', 'Cam7-From09-05-50To10-09-24_Segment_10_x264_frame_27.jpg', 'Cam7-From09-05-50To10-09-24_Segment_10_x264_frame_29.jpg', 'Cam7-From09-05-50To10-09-24_Segment_10_x264_frame_30.jpg', 'Cam7-From09-05-50To10-09-24_Segment_10_x264_frame_33.jpg', 'Cam7-From09-05-50To10-09-24_Segment_10_x264_frame_35.jpg', 'Cam7-From09-05-50To10-09-24_Segment_10_x264_frame_37.jpg', 'Cam7-From09-05-50To10-09-24_Segment_10_x264_frame_39.jpg', 'Cam7-From09-05-50To10-09-24_Segment_10_x264_frame_46.jpg', 'Cam7-From09-05-50To10-09-24_Segment_10_x264_frame_49.jpg', 'Cam7-From09-05-50To10-09-24_Segment_10_x264_frame_51.jpg', 'Cam7-From09-05-50To10-09-24_Segment_10_x264_frame_57.jpg', 'Cam7-From09-05-50To10-09-24_Segment_10_x264_frame_61.jpg', 'Cam7-From09-05-50To10-09-24_Segment_10_x264_frame_62.jpg', 'Cam7-From09-05-50To10-09-24_Segment_10_x264_frame_63.jpg', 'Cam7-From09-05-50To10-09-24_Segment_10_x264_frame_68.jpg', 'Cam7-From09-05-50To10-09-24_Segment_10_x264_frame_7.jpg', 'Cam7-From09-05-50To10-09-24_Segment_10_x264_frame_74.jpg', 'Cam7-From09-05-50To10-09-24_Segment_10_x264_frame_8.jpg', 'Cam7-From09-05-50To10-09-24_Segment_10_x264_frame_82.jpg', 'Cam7-From09-05-50To10-09-24_Segment_11_x264_frame_102.jpg', 'Cam7-From09-05-50To10-09-24_Segment_11_x264_frame_103.jpg', 'Cam7-From09-05-50To10-09-24_Segment_11_x264_frame_115.jpg', 'Cam7-From09-05-50To10-09-24_Segment_11_x264_frame_117.jpg', 'Cam7-From09-05-50To10-09-24_Segment_11_x264_frame_12.jpg', 'Cam7-From09-05-50To10-09-24_Segment_11_x264_frame_120.jpg', 'Cam7-From09-05-50To10-09-24_Segment_11_x264_frame_121.jpg', 'Cam7-From09-05-50To10-09-24_Segment_11_x264_frame_125.jpg', 'Cam7-From09-05-50To10-09-24_Segment_11_x264_frame_130.jpg', 'Cam7-From09-05-50To10-09-24_Segment_11_x264_frame_136.jpg', 'Cam7-From09-05-50To10-09-24_Segment_11_x264_frame_137.jpg', 'Cam7-From09-05-50To10-09-24_Segment_11_x264_frame_14.jpg', 'Cam7-From09-05-50To10-09-24_Segment_11_x264_frame_141.jpg', 'Cam7-From09-05-50To10-09-24_Segment_11_x264_frame_15.jpg', 'Cam7-From09-05-50To10-09-24_Segment_11_x264_frame_24.jpg', 'Cam7-From09-05-50To10-09-24_Segment_11_x264_frame_25.jpg', 'Cam7-From09-05-50To10-09-24_Segment_11_x264_frame_28.jpg', 'Cam7-From09-05-50To10-09-24_Segment_11_x264_frame_30.jpg', 'Cam7-From09-05-50To10-09-24_Segment_11_x264_frame_31.jpg', 'Cam7-From09-05-50To10-09-24_Segment_11_x264_frame_36.jpg', 'Cam7-From09-05-50To10-09-24_Segment_11_x264_frame_37.jpg', 'Cam7-From09-05-50To10-09-24_Segment_11_x264_frame_4.jpg', 'Cam7-From09-05-50To10-09-24_Segment_11_x264_frame_45.jpg', 'Cam7-From09-05-50To10-09-24_Segment_11_x264_frame_47.jpg', 'Cam7-From09-05-50To10-09-24_Segment_11_x264_frame_61.jpg', 'Cam7-From09-05-50To10-09-24_Segment_11_x264_frame_67.jpg', 'Cam7-From09-05-50To10-09-24_Segment_11_x264_frame_68.jpg', 'Cam7-From09-05-50To10-09-24_Segment_11_x264_frame_74.jpg', 'Cam7-From09-05-50To10-09-24_Segment_11_x264_frame_95.jpg', 'Cam7-From09-05-50To10-09-24_Segment_11_x264_frame_96.jpg', 'Cam7-From09-05-50To10-09-24_Segment_13_x264_frame_101.jpg', 'Cam7-From09-05-50To10-09-24_Segment_13_x264_frame_110.jpg', 'Cam7-From09-05-50To10-09-24_Segment_13_x264_frame_115.jpg', 'Cam7-From09-05-50To10-09-24_Segment_13_x264_frame_119.jpg', 'Cam7-From09-05-50To10-09-24_Segment_13_x264_frame_120.jpg', 'Cam7-From09-05-50To10-09-24_Segment_13_x264_frame_124.jpg', 'Cam7-From09-05-50To10-09-24_Segment_13_x264_frame_125.jpg', 'Cam7-From09-05-50To10-09-24_Segment_13_x264_frame_128.jpg', 'Cam7-From09-05-50To10-09-24_Segment_13_x264_frame_137.jpg', 'Cam7-From09-05-50To10-09-24_Segment_13_x264_frame_139.jpg', 'Cam7-From09-05-50To10-09-24_Segment_13_x264_frame_147.jpg', 'Cam7-From09-05-50To10-09-24_Segment_13_x264_frame_163.jpg', 'Cam7-From09-05-50To10-09-24_Segment_13_x264_frame_166.jpg', 'Cam7-From09-05-50To10-09-24_Segment_13_x264_frame_17.jpg', 'Cam7-From09-05-50To10-09-24_Segment_13_x264_frame_171.jpg', 'Cam7-From09-05-50To10-09-24_Segment_13_x264_frame_173.jpg', 'Cam7-From09-05-50To10-09-24_Segment_13_x264_frame_175.jpg', 'Cam7-From09-05-50To10-09-24_Segment_13_x264_frame_182.jpg', 'Cam7-From09-05-50To10-09-24_Segment_13_x264_frame_185.jpg', 'Cam7-From09-05-50To10-09-24_Segment_13_x264_frame_19.jpg', 'Cam7-From09-05-50To10-09-24_Segment_13_x264_frame_2.jpg', 'Cam7-From09-05-50To10-09-24_Segment_13_x264_frame_20.jpg', 'Cam7-From09-05-50To10-09-24_Segment_13_x264_frame_22.jpg', 'Cam7-From09-05-50To10-09-24_Segment_13_x264_frame_250.jpg', 'Cam7-From09-05-50To10-09-24_Segment_13_x264_frame_251.jpg', 'Cam7-From09-05-50To10-09-24_Segment_13_x264_frame_256.jpg', 'Cam7-From09-05-50To10-09-24_Segment_13_x264_frame_259.jpg', 'Cam7-From09-05-50To10-09-24_Segment_13_x264_frame_262.jpg', 'Cam7-From09-05-50To10-09-24_Segment_13_x264_frame_263.jpg', 'Cam7-From09-05-50To10-09-24_Segment_13_x264_frame_270.jpg', 'Cam7-From09-05-50To10-09-24_Segment_13_x264_frame_271.jpg', 'Cam7-From09-05-50To10-09-24_Segment_13_x264_frame_273.jpg', 'Cam7-From09-05-50To10-09-24_Segment_13_x264_frame_276.jpg', 'Cam7-From09-05-50To10-09-24_Segment_13_x264_frame_286.jpg', 'Cam7-From09-05-50To10-09-24_Segment_13_x264_frame_3.jpg', 'Cam7-From09-05-50To10-09-24_Segment_13_x264_frame_301.jpg', 'Cam7-From09-05-50To10-09-24_Segment_13_x264_frame_307.jpg', 'Cam7-From09-05-50To10-09-24_Segment_13_x264_frame_308.jpg', 'Cam7-From09-05-50To10-09-24_Segment_13_x264_frame_316.jpg', 'Cam7-From09-05-50To10-09-24_Segment_13_x264_frame_32.jpg', 'Cam7-From09-05-50To10-09-24_Segment_13_x264_frame_330.jpg', 'Cam7-From09-05-50To10-09-24_Segment_13_x264_frame_336.jpg', 'Cam7-From09-05-50To10-09-24_Segment_13_x264_frame_338.jpg', 'Cam7-From09-05-50To10-09-24_Segment_13_x264_frame_341.jpg', 'Cam7-From09-05-50To10-09-24_Segment_13_x264_frame_343.jpg', 'Cam7-From09-05-50To10-09-24_Segment_13_x264_frame_344.jpg', 'Cam7-From09-05-50To10-09-24_Segment_13_x264_frame_345.jpg', 'Cam7-From09-05-50To10-09-24_Segment_13_x264_frame_347.jpg', 'Cam7-From09-05-50To10-09-24_Segment_13_x264_frame_350.jpg', 'Cam7-From09-05-50To10-09-24_Segment_13_x264_frame_351.jpg', 'Cam7-From09-05-50To10-09-24_Segment_13_x264_frame_359.jpg', 'Cam7-From09-05-50To10-09-24_Segment_13_x264_frame_362.jpg', 'Cam7-From09-05-50To10-09-24_Segment_13_x264_frame_388.jpg', 'Cam7-From09-05-50To10-09-24_Segment_13_x264_frame_415.jpg', 'Cam7-From09-05-50To10-09-24_Segment_13_x264_frame_419.jpg', 'Cam7-From09-05-50To10-09-24_Segment_13_x264_frame_420.jpg', 'Cam7-From09-05-50To10-09-24_Segment_13_x264_frame_426.jpg', 'Cam7-From09-05-50To10-09-24_Segment_13_x264_frame_429.jpg', 'Cam7-From09-05-50To10-09-24_Segment_13_x264_frame_437.jpg', 'Cam7-From09-05-50To10-09-24_Segment_13_x264_frame_5.jpg', 'Cam7-From09-05-50To10-09-24_Segment_13_x264_frame_53.jpg', 'Cam7-From09-05-50To10-09-24_Segment_13_x264_frame_56.jpg', 'Cam7-From09-05-50To10-09-24_Segment_13_x264_frame_66.jpg', 'Cam7-From09-05-50To10-09-24_Segment_13_x264_frame_79.jpg', 'Cam7-From09-05-50To10-09-24_Segment_13_x264_frame_80.jpg', 'Cam7-From09-05-50To10-09-24_Segment_13_x264_frame_83.jpg', 'Cam7-From09-05-50To10-09-24_Segment_13_x264_frame_90.jpg', 'Cam7-From09-05-50To10-09-24_Segment_13_x264_frame_91.jpg', 'Cam7-From09-05-50To10-09-24_Segment_13_x264_frame_97.jpg', 'Cam7-From09-05-50To10-09-24_Segment_6_x264_frame_14.jpg', 'Cam7-From09-05-50To10-09-24_Segment_6_x264_frame_17.jpg', 'Cam7-From09-05-50To10-09-24_Segment_6_x264_frame_21.jpg', 'Cam7-From09-05-50To10-09-24_Segment_6_x264_frame_26.jpg', 'Cam7-From09-05-50To10-09-24_Segment_6_x264_frame_9.jpg', 'Cam7-From09-05-50To10-09-24_Segment_7_x264_frame_1.jpg', 'Cam7-From09-05-50To10-09-24_Segment_7_x264_frame_16.jpg', 'Cam7-From09-05-50To10-09-24_Segment_7_x264_frame_8.jpg', 'Cam7-From09-05-50To10-09-24_Segment_8_x264_frame_1.jpg', 'Cam7-From09-05-50To10-09-24_Segment_8_x264_frame_1002.jpg', 'Cam7-From09-05-50To10-09-24_Segment_8_x264_frame_1004.jpg', 'Cam7-From09-05-50To10-09-24_Segment_8_x264_frame_1016.jpg', 'Cam7-From09-05-50To10-09-24_Segment_8_x264_frame_1017.jpg', 'Cam7-From09-05-50To10-09-24_Segment_8_x264_frame_1018.jpg', 'Cam7-From09-05-50To10-09-24_Segment_8_x264_frame_1019.jpg', 'Cam7-From09-05-50To10-09-24_Segment_8_x264_frame_1022.jpg', 'Cam7-From09-05-50To10-09-24_Segment_8_x264_frame_1028.jpg', 'Cam7-From09-05-50To10-09-24_Segment_8_x264_frame_1032.jpg', 'Cam7-From09-05-50To10-09-24_Segment_8_x264_frame_1037.jpg', 'Cam7-From09-05-50To10-09-24_Segment_8_x264_frame_1039.jpg', 'Cam7-From09-05-50To10-09-24_Segment_8_x264_frame_104.jpg', 'Cam7-From09-05-50To10-09-24_Segment_8_x264_frame_1044.jpg', 'Cam7-From09-05-50To10-09-24_Segment_8_x264_frame_1045.jpg', 'Cam7-From09-05-50To10-09-24_Segment_8_x264_frame_1048.jpg', 'Cam7-From09-05-50To10-09-24_Segment_8_x264_frame_1052.jpg', 'Cam7-From09-05-50To10-09-24_Segment_8_x264_frame_1055.jpg', 'Cam7-From09-05-50To10-09-24_Segment_8_x264_frame_1067.jpg', 'Cam7-From09-05-50To10-09-24_Segment_8_x264_frame_107.jpg', 'Cam7-From09-05-50To10-09-24_Segment_8_x264_frame_1076.jpg', 'Cam7-From09-05-50To10-09-24_Segment_8_x264_frame_108.jpg', 'Cam7-From09-05-50To10-09-24_Segment_8_x264_frame_1083.jpg', 'Cam7-From09-05-50To10-09-24_Segment_8_x264_frame_1087.jpg', 'Cam7-From09-05-50To10-09-24_Segment_8_x264_frame_1089.jpg', 'Cam7-From09-05-50To10-09-24_Segment_8_x264_frame_109.jpg', 'Cam7-From09-05-50To10-09-24_Segment_8_x264_frame_1096.jpg', 'Cam7-From09-05-50To10-09-24_Segment_8_x264_frame_1098.jpg', 'Cam7-From09-05-50To10-09-24_Segment_8_x264_frame_1101.jpg', 'Cam7-From09-05-50To10-09-24_Segment_8_x264_frame_1102.jpg', 'Cam7-From09-05-50To10-09-24_Segment_8_x264_frame_1103.jpg', 'Cam7-From09-05-50To10-09-24_Segment_8_x264_frame_1104.jpg', 'Cam7-From09-05-50To10-09-24_Segment_8_x264_frame_1108.jpg', 'Cam7-From09-05-50To10-09-24_Segment_8_x264_frame_1111.jpg', 'Cam7-From09-05-50To10-09-24_Segment_8_x264_frame_1114.jpg', 'Cam7-From09-05-50To10-09-24_Segment_8_x264_frame_1115.jpg', 'Cam7-From09-05-50To10-09-24_Segment_8_x264_frame_112.jpg', 'Cam7-From09-05-50To10-09-24_Segment_8_x264_frame_1132.jpg', 'Cam7-From09-05-50To10-09-24_Segment_8_x264_frame_1136.jpg', 'Cam7-From09-05-50To10-09-24_Segment_8_x264_frame_114.jpg', 'Cam7-From09-05-50To10-09-24_Segment_8_x264_frame_1141.jpg', 'Cam7-From09-05-50To10-09-24_Segment_8_x264_frame_1154.jpg', 'Cam7-From09-05-50To10-09-24_Segment_8_x264_frame_1156.jpg', 'Cam7-From09-05-50To10-09-24_Segment_8_x264_frame_1157.jpg', 'Cam7-From09-05-50To10-09-24_Segment_8_x264_frame_1163.jpg', 'Cam7-From09-05-50To10-09-24_Segment_8_x264_frame_1174.jpg', 'Cam7-From09-05-50To10-09-24_Segment_8_x264_frame_1175.jpg', 'Cam7-From09-05-50To10-09-24_Segment_8_x264_frame_1184.jpg', 'Cam7-From09-05-50To10-09-24_Segment_8_x264_frame_1189.jpg', 'Cam7-From09-05-50To10-09-24_Segment_8_x264_frame_119.jpg', 'Cam7-From09-05-50To10-09-24_Segment_8_x264_frame_1201.jpg', 'Cam7-From09-05-50To10-09-24_Segment_8_x264_frame_1208.jpg', 'Cam7-From09-05-50To10-09-24_Segment_8_x264_frame_1210.jpg', 'Cam7-From09-05-50To10-09-24_Segment_8_x264_frame_1216.jpg', 'Cam7-From09-05-50To10-09-24_Segment_8_x264_frame_1218.jpg', 'Cam7-From09-05-50To10-09-24_Segment_8_x264_frame_122.jpg', 'Cam7-From09-05-50To10-09-24_Segment_8_x264_frame_1221.jpg', 'Cam7-From09-05-50To10-09-24_Segment_8_x264_frame_1226.jpg', 'Cam7-From09-05-50To10-09-24_Segment_8_x264_frame_1235.jpg', 'Cam7-From09-05-50To10-09-24_Segment_8_x264_frame_1240.jpg', 'Cam7-From09-05-50To10-09-24_Segment_8_x264_frame_1245.jpg', 'Cam7-From09-05-50To10-09-24_Segment_8_x264_frame_1248.jpg', 'Cam7-From09-05-50To10-09-24_Segment_8_x264_frame_1252.jpg', 'Cam7-From09-05-50To10-09-24_Segment_8_x264_frame_1263.jpg', 'Cam7-From09-05-50To10-09-24_Segment_8_x264_frame_1268.jpg', 'Cam7-From09-05-50To10-09-24_Segment_8_x264_frame_1271.jpg', 'Cam7-From09-05-50To10-09-24_Segment_8_x264_frame_1279.jpg', 'Cam7-From09-05-50To10-09-24_Segment_8_x264_frame_1281.jpg', 'Cam7-From09-05-50To10-09-24_Segment_8_x264_frame_1283.jpg', 'Cam7-From09-05-50To10-09-24_Segment_8_x264_frame_1288.jpg', 'Cam7-From09-05-50To10-09-24_Segment_8_x264_frame_1289.jpg', 'Cam7-From09-05-50To10-09-24_Segment_8_x264_frame_1294.jpg', 'Cam7-From09-05-50To10-09-24_Segment_8_x264_frame_1301.jpg', 'Cam7-From09-05-50To10-09-24_Segment_8_x264_frame_1303.jpg', 'Cam7-From09-05-50To10-09-24_Segment_8_x264_frame_1306.jpg', 'Cam7-From09-05-50To10-09-24_Segment_8_x264_frame_1310.jpg', 'Cam7-From09-05-50To10-09-24_Segment_8_x264_frame_1315.jpg', 'Cam7-From09-05-50To10-09-24_Segment_8_x264_frame_1327.jpg', 'Cam7-From09-05-50To10-09-24_Segment_8_x264_frame_1330.jpg', 'Cam7-From09-05-50To10-09-24_Segment_8_x264_frame_1331.jpg', 'Cam7-From09-05-50To10-09-24_Segment_8_x264_frame_1345.jpg', 'Cam7-From09-05-50To10-09-24_Segment_8_x264_frame_1346.jpg', 'Cam7-From09-05-50To10-09-24_Segment_8_x264_frame_135.jpg', 'Cam7-From09-05-50To10-09-24_Segment_8_x264_frame_1351.jpg', 'Cam7-From09-05-50To10-09-24_Segment_8_x264_frame_1357.jpg', 'Cam7-From09-05-50To10-09-24_Segment_8_x264_frame_136.jpg', 'Cam7-From09-05-50To10-09-24_Segment_8_x264_frame_1365.jpg', 'Cam7-From09-05-50To10-09-24_Segment_8_x264_frame_1367.jpg', 'Cam7-From09-05-50To10-09-24_Segment_8_x264_frame_1371.jpg', 'Cam7-From09-05-50To10-09-24_Segment_8_x264_frame_1384.jpg', 'Cam7-From09-05-50To10-09-24_Segment_8_x264_frame_1385.jpg', 'Cam7-From09-05-50To10-09-24_Segment_8_x264_frame_1387.jpg', 'Cam7-From09-05-50To10-09-24_Segment_8_x264_frame_1390.jpg', 'Cam7-From09-05-50To10-09-24_Segment_8_x264_frame_1393.jpg', 'Cam7-From09-05-50To10-09-24_Segment_8_x264_frame_1405.jpg', 'Cam7-From09-05-50To10-09-24_Segment_8_x264_frame_1408.jpg', 'Cam7-From09-05-50To10-09-24_Segment_8_x264_frame_1410.jpg', 'Cam7-From09-05-50To10-09-24_Segment_8_x264_frame_1411.jpg', 'Cam7-From09-05-50To10-09-24_Segment_8_x264_frame_1426.jpg', 'Cam7-From09-05-50To10-09-24_Segment_8_x264_frame_1432.jpg', 'Cam7-From09-05-50To10-09-24_Segment_8_x264_frame_144.jpg', 'Cam7-From09-05-50To10-09-24_Segment_8_x264_frame_1442.jpg', 'Cam7-From09-05-50To10-09-24_Segment_8_x264_frame_1444.jpg', 'Cam7-From09-05-50To10-09-24_Segment_8_x264_frame_1446.jpg', 'Cam7-From09-05-50To10-09-24_Segment_8_x264_frame_145.jpg', 'Cam7-From09-05-50To10-09-24_Segment_8_x264_frame_1453.jpg', 'Cam7-From09-05-50To10-09-24_Segment_8_x264_frame_1459.jpg', 'Cam7-From09-05-50To10-09-24_Segment_8_x264_frame_1466.jpg', 'Cam7-From09-05-50To10-09-24_Segment_8_x264_frame_147.jpg', 'Cam7-From09-05-50To10-09-24_Segment_8_x264_frame_1475.jpg', 'Cam7-From09-05-50To10-09-24_Segment_8_x264_frame_149.jpg', 'Cam7-From09-05-50To10-09-24_Segment_8_x264_frame_1494.jpg', 'Cam7-From09-05-50To10-09-24_Segment_8_x264_frame_1499.jpg', 'Cam7-From09-05-50To10-09-24_Segment_8_x264_frame_1511.jpg', 'Cam7-From09-05-50To10-09-24_Segment_8_x264_frame_1512.jpg', 'Cam7-From09-05-50To10-09-24_Segment_8_x264_frame_1518.jpg', 'Cam7-From09-05-50To10-09-24_Segment_8_x264_frame_1521.jpg', 'Cam7-From09-05-50To10-09-24_Segment_8_x264_frame_1524.jpg', 'Cam7-From09-05-50To10-09-24_Segment_8_x264_frame_1527.jpg', 'Cam7-From09-05-50To10-09-24_Segment_8_x264_frame_153.jpg', 'Cam7-From09-05-50To10-09-24_Segment_8_x264_frame_1531.jpg', 'Cam7-From09-05-50To10-09-24_Segment_8_x264_frame_1536.jpg', 'Cam7-From09-05-50To10-09-24_Segment_8_x264_frame_1543.jpg', 'Cam7-From09-05-50To10-09-24_Segment_8_x264_frame_1550.jpg', 'Cam7-From09-05-50To10-09-24_Segment_8_x264_frame_1551.jpg', 'Cam7-From09-05-50To10-09-24_Segment_8_x264_frame_1559.jpg', 'Cam7-From09-05-50To10-09-24_Segment_8_x264_frame_1561.jpg', 'Cam7-From09-05-50To10-09-24_Segment_8_x264_frame_1567.jpg', 'Cam7-From09-05-50To10-09-24_Segment_8_x264_frame_157.jpg', 'Cam7-From09-05-50To10-09-24_Segment_8_x264_frame_1570.jpg', 'Cam7-From09-05-50To10-09-24_Segment_8_x264_frame_1574.jpg', 'Cam7-From09-05-50To10-09-24_Segment_8_x264_frame_1579.jpg', 'Cam7-From09-05-50To10-09-24_Segment_8_x264_frame_158.jpg', 'Cam7-From09-05-50To10-09-24_Segment_8_x264_frame_1591.jpg', 'Cam7-From09-05-50To10-09-24_Segment_8_x264_frame_1594.jpg', 'Cam7-From09-05-50To10-09-24_Segment_8_x264_frame_1599.jpg', 'Cam7-From09-05-50To10-09-24_Segment_8_x264_frame_1603.jpg', 'Cam7-From09-05-50To10-09-24_Segment_8_x264_frame_1613.jpg', 'Cam7-From09-05-50To10-09-24_Segment_8_x264_frame_1632.jpg', 'Cam7-From09-05-50To10-09-24_Segment_8_x264_frame_1644.jpg', 'Cam7-From09-05-50To10-09-24_Segment_8_x264_frame_1645.jpg', 'Cam7-From09-05-50To10-09-24_Segment_8_x264_frame_1647.jpg', 'Cam7-From09-05-50To10-09-24_Segment_8_x264_frame_1658.jpg', 'Cam7-From09-05-50To10-09-24_Segment_8_x264_frame_1662.jpg', 'Cam7-From09-05-50To10-09-24_Segment_8_x264_frame_1665.jpg', 'Cam7-From09-05-50To10-09-24_Segment_8_x264_frame_1666.jpg', 'Cam7-From09-05-50To10-09-24_Segment_8_x264_frame_1673.jpg', 'Cam7-From09-05-50To10-09-24_Segment_8_x264_frame_1683.jpg', 'Cam7-From09-05-50To10-09-24_Segment_8_x264_frame_1685.jpg', 'Cam7-From09-05-50To10-09-24_Segment_8_x264_frame_1686.jpg', 'Cam7-From09-05-50To10-09-24_Segment_8_x264_frame_1687.jpg', 'Cam7-From09-05-50To10-09-24_Segment_8_x264_frame_1689.jpg', 'Cam7-From09-05-50To10-09-24_Segment_8_x264_frame_1692.jpg', 'Cam7-From09-05-50To10-09-24_Segment_8_x264_frame_1698.jpg', 'Cam7-From09-05-50To10-09-24_Segment_8_x264_frame_1714.jpg', 'Cam7-From09-05-50To10-09-24_Segment_8_x264_frame_1720.jpg', 'Cam7-From09-05-50To10-09-24_Segment_8_x264_frame_1722.jpg', 'Cam7-From09-05-50To10-09-24_Segment_8_x264_frame_1732.jpg', 'Cam7-From09-05-50To10-09-24_Segment_8_x264_frame_1738.jpg', 'Cam7-From09-05-50To10-09-24_Segment_8_x264_frame_1742.jpg', 'Cam7-From09-05-50To10-09-24_Segment_8_x264_frame_1760.jpg', 'Cam7-From09-05-50To10-09-24_Segment_8_x264_frame_1767.jpg', 'Cam7-From09-05-50To10-09-24_Segment_8_x264_frame_1775.jpg', 'Cam7-From09-05-50To10-09-24_Segment_8_x264_frame_1778.jpg', 'Cam7-From09-05-50To10-09-24_Segment_8_x264_frame_1780.jpg', 'Cam7-From09-05-50To10-09-24_Segment_8_x264_frame_1781.jpg', 'Cam7-From09-05-50To10-09-24_Segment_8_x264_frame_1784.jpg', 'Cam7-From09-05-50To10-09-24_Segment_8_x264_frame_1785.jpg', 'Cam7-From09-05-50To10-09-24_Segment_8_x264_frame_1786.jpg', 'Cam7-From09-05-50To10-09-24_Segment_8_x264_frame_1787.jpg', 'Cam7-From09-05-50To10-09-24_Segment_8_x264_frame_1789.jpg', 'Cam7-From09-05-50To10-09-24_Segment_8_x264_frame_180.jpg', 'Cam7-From09-05-50To10-09-24_Segment_8_x264_frame_1807.jpg', 'Cam7-From09-05-50To10-09-24_Segment_8_x264_frame_181.jpg', 'Cam7-From09-05-50To10-09-24_Segment_8_x264_frame_1812.jpg', 'Cam7-From09-05-50To10-09-24_Segment_8_x264_frame_1814.jpg', 'Cam7-From09-05-50To10-09-24_Segment_8_x264_frame_183.jpg', 'Cam7-From09-05-50To10-09-24_Segment_8_x264_frame_189.jpg', 'Cam7-From09-05-50To10-09-24_Segment_8_x264_frame_199.jpg', 'Cam7-From09-05-50To10-09-24_Segment_8_x264_frame_20.jpg', 'Cam7-From09-05-50To10-09-24_Segment_8_x264_frame_200.jpg', 'Cam7-From09-05-50To10-09-24_Segment_8_x264_frame_206.jpg', 'Cam7-From09-05-50To10-09-24_Segment_8_x264_frame_22.jpg', 'Cam7-From09-05-50To10-09-24_Segment_8_x264_frame_224.jpg', 'Cam7-From09-05-50To10-09-24_Segment_8_x264_frame_227.jpg', 'Cam7-From09-05-50To10-09-24_Segment_8_x264_frame_229.jpg', 'Cam7-From09-05-50To10-09-24_Segment_8_x264_frame_232.jpg', 'Cam7-From09-05-50To10-09-24_Segment_8_x264_frame_237.jpg', 'Cam7-From09-05-50To10-09-24_Segment_8_x264_frame_24.jpg', 'Cam7-From09-05-50To10-09-24_Segment_8_x264_frame_240.jpg', 'Cam7-From09-05-50To10-09-24_Segment_8_x264_frame_2498.jpg', 'Cam7-From09-05-50To10-09-24_Segment_8_x264_frame_2501.jpg', 'Cam7-From09-05-50To10-09-24_Segment_8_x264_frame_2504.jpg', 'Cam7-From09-05-50To10-09-24_Segment_8_x264_frame_2505.jpg', 'Cam7-From09-05-50To10-09-24_Segment_8_x264_frame_2529.jpg', 'Cam7-From09-05-50To10-09-24_Segment_8_x264_frame_254.jpg', 'Cam7-From09-05-50To10-09-24_Segment_8_x264_frame_2544.jpg', 'Cam7-From09-05-50To10-09-24_Segment_8_x264_frame_2550.jpg', 'Cam7-From09-05-50To10-09-24_Segment_8_x264_frame_2553.jpg', 'Cam7-From09-05-50To10-09-24_Segment_8_x264_frame_2571.jpg', 'Cam7-From09-05-50To10-09-24_Segment_8_x264_frame_2582.jpg', 'Cam7-From09-05-50To10-09-24_Segment_8_x264_frame_2587.jpg', 'Cam7-From09-05-50To10-09-24_Segment_8_x264_frame_2607.jpg', 'Cam7-From09-05-50To10-09-24_Segment_8_x264_frame_2611.jpg', 'Cam7-From09-05-50To10-09-24_Segment_8_x264_frame_2627.jpg', 'Cam7-From09-05-50To10-09-24_Segment_8_x264_frame_2641.jpg', 'Cam7-From09-05-50To10-09-24_Segment_8_x264_frame_2644.jpg', 'Cam7-From09-05-50To10-09-24_Segment_8_x264_frame_2646.jpg', 'Cam7-From09-05-50To10-09-24_Segment_8_x264_frame_2651.jpg', 'Cam7-From09-05-50To10-09-24_Segment_8_x264_frame_2672.jpg', 'Cam7-From09-05-50To10-09-24_Segment_8_x264_frame_2675.jpg', 'Cam7-From09-05-50To10-09-24_Segment_8_x264_frame_2679.jpg', 'Cam7-From09-05-50To10-09-24_Segment_8_x264_frame_268.jpg', 'Cam7-From09-05-50To10-09-24_Segment_8_x264_frame_2681.jpg', 'Cam7-From09-05-50To10-09-24_Segment_8_x264_frame_2683.jpg', 'Cam7-From09-05-50To10-09-24_Segment_8_x264_frame_2684.jpg', 'Cam7-From09-05-50To10-09-24_Segment_8_x264_frame_2687.jpg', 'Cam7-From09-05-50To10-09-24_Segment_8_x264_frame_2701.jpg', 'Cam7-From09-05-50To10-09-24_Segment_8_x264_frame_2703.jpg', 'Cam7-From09-05-50To10-09-24_Segment_8_x264_frame_2704.jpg', 'Cam7-From09-05-50To10-09-24_Segment_8_x264_frame_2707.jpg', 'Cam7-From09-05-50To10-09-24_Segment_8_x264_frame_2709.jpg', 'Cam7-From09-05-50To10-09-24_Segment_8_x264_frame_271.jpg', 'Cam7-From09-05-50To10-09-24_Segment_8_x264_frame_2712.jpg', 'Cam7-From09-05-50To10-09-24_Segment_8_x264_frame_2725.jpg', 'Cam7-From09-05-50To10-09-24_Segment_8_x264_frame_2728.jpg', 'Cam7-From09-05-50To10-09-24_Segment_8_x264_frame_2730.jpg', 'Cam7-From09-05-50To10-09-24_Segment_8_x264_frame_2731.jpg', 'Cam7-From09-05-50To10-09-24_Segment_8_x264_frame_2734.jpg', 'Cam7-From09-05-50To10-09-24_Segment_8_x264_frame_2747.jpg', 'Cam7-From09-05-50To10-09-24_Segment_8_x264_frame_275.jpg', 'Cam7-From09-05-50To10-09-24_Segment_8_x264_frame_2750.jpg', 'Cam7-From09-05-50To10-09-24_Segment_8_x264_frame_2758.jpg', 'Cam7-From09-05-50To10-09-24_Segment_8_x264_frame_2761.jpg', 'Cam7-From09-05-50To10-09-24_Segment_8_x264_frame_2763.jpg', 'Cam7-From09-05-50To10-09-24_Segment_8_x264_frame_2770.jpg', 'Cam7-From09-05-50To10-09-24_Segment_8_x264_frame_2781.jpg', 'Cam7-From09-05-50To10-09-24_Segment_8_x264_frame_2784.jpg', 'Cam7-From09-05-50To10-09-24_Segment_8_x264_frame_2785.jpg', 'Cam7-From09-05-50To10-09-24_Segment_8_x264_frame_2787.jpg', 'Cam7-From09-05-50To10-09-24_Segment_8_x264_frame_2789.jpg', 'Cam7-From09-05-50To10-09-24_Segment_8_x264_frame_2791.jpg', 'Cam7-From09-05-50To10-09-24_Segment_8_x264_frame_2794.jpg', 'Cam7-From09-05-50To10-09-24_Segment_8_x264_frame_2798.jpg', 'Cam7-From09-05-50To10-09-24_Segment_8_x264_frame_2801.jpg', 'Cam7-From09-05-50To10-09-24_Segment_8_x264_frame_2819.jpg', 'Cam7-From09-05-50To10-09-24_Segment_8_x264_frame_2822.jpg', 'Cam7-From09-05-50To10-09-24_Segment_8_x264_frame_2823.jpg', 'Cam7-From09-05-50To10-09-24_Segment_8_x264_frame_2827.jpg', 'Cam7-From09-05-50To10-09-24_Segment_8_x264_frame_2844.jpg', 'Cam7-From09-05-50To10-09-24_Segment_8_x264_frame_2845.jpg', 'Cam7-From09-05-50To10-09-24_Segment_8_x264_frame_2850.jpg', 'Cam7-From09-05-50To10-09-24_Segment_8_x264_frame_2853.jpg', 'Cam7-From09-05-50To10-09-24_Segment_8_x264_frame_2855.jpg', 'Cam7-From09-05-50To10-09-24_Segment_8_x264_frame_286.jpg', 'Cam7-From09-05-50To10-09-24_Segment_8_x264_frame_2876.jpg', 'Cam7-From09-05-50To10-09-24_Segment_8_x264_frame_2888.jpg', 'Cam7-From09-05-50To10-09-24_Segment_8_x264_frame_2894.jpg', 'Cam7-From09-05-50To10-09-24_Segment_8_x264_frame_2899.jpg', 'Cam7-From09-05-50To10-09-24_Segment_8_x264_frame_2903.jpg', 'Cam7-From09-05-50To10-09-24_Segment_8_x264_frame_2904.jpg', 'Cam7-From09-05-50To10-09-24_Segment_8_x264_frame_2908.jpg', 'Cam7-From09-05-50To10-09-24_Segment_8_x264_frame_2911.jpg', 'Cam7-From09-05-50To10-09-24_Segment_8_x264_frame_2914.jpg', 'Cam7-From09-05-50To10-09-24_Segment_8_x264_frame_2926.jpg', 'Cam7-From09-05-50To10-09-24_Segment_8_x264_frame_2927.jpg', 'Cam7-From09-05-50To10-09-24_Segment_8_x264_frame_293.jpg', 'Cam7-From09-05-50To10-09-24_Segment_8_x264_frame_2930.jpg', 'Cam7-From09-05-50To10-09-24_Segment_8_x264_frame_2931.jpg', 'Cam7-From09-05-50To10-09-24_Segment_8_x264_frame_2933.jpg', 'Cam7-From09-05-50To10-09-24_Segment_8_x264_frame_2936.jpg', 'Cam7-From09-05-50To10-09-24_Segment_8_x264_frame_2941.jpg', 'Cam7-From09-05-50To10-09-24_Segment_8_x264_frame_2943.jpg', 'Cam7-From09-05-50To10-09-24_Segment_8_x264_frame_2946.jpg', 'Cam7-From09-05-50To10-09-24_Segment_8_x264_frame_2950.jpg', 'Cam7-From09-05-50To10-09-24_Segment_8_x264_frame_2955.jpg', 'Cam7-From09-05-50To10-09-24_Segment_8_x264_frame_2957.jpg', 'Cam7-From09-05-50To10-09-24_Segment_8_x264_frame_296.jpg', 'Cam7-From09-05-50To10-09-24_Segment_8_x264_frame_2962.jpg', 'Cam7-From09-05-50To10-09-24_Segment_8_x264_frame_2963.jpg', 'Cam7-From09-05-50To10-09-24_Segment_8_x264_frame_298.jpg', 'Cam7-From09-05-50To10-09-24_Segment_8_x264_frame_2988.jpg', 'Cam7-From09-05-50To10-09-24_Segment_8_x264_frame_2999.jpg', 'Cam7-From09-05-50To10-09-24_Segment_8_x264_frame_3000.jpg', 'Cam7-From09-05-50To10-09-24_Segment_8_x264_frame_3002.jpg', 'Cam7-From09-05-50To10-09-24_Segment_8_x264_frame_3005.jpg', 'Cam7-From09-05-50To10-09-24_Segment_8_x264_frame_301.jpg', 'Cam7-From09-05-50To10-09-24_Segment_8_x264_frame_3016.jpg', 'Cam7-From09-05-50To10-09-24_Segment_8_x264_frame_3017.jpg', 'Cam7-From09-05-50To10-09-24_Segment_8_x264_frame_3018.jpg', 'Cam7-From09-05-50To10-09-24_Segment_8_x264_frame_3034.jpg', 'Cam7-From09-05-50To10-09-24_Segment_8_x264_frame_3039.jpg', 'Cam7-From09-05-50To10-09-24_Segment_8_x264_frame_304.jpg', 'Cam7-From09-05-50To10-09-24_Segment_8_x264_frame_3042.jpg', 'Cam7-From09-05-50To10-09-24_Segment_8_x264_frame_3044.jpg', 'Cam7-From09-05-50To10-09-24_Segment_8_x264_frame_3056.jpg', 'Cam7-From09-05-50To10-09-24_Segment_8_x264_frame_3058.jpg', 'Cam7-From09-05-50To10-09-24_Segment_8_x264_frame_306.jpg', 'Cam7-From09-05-50To10-09-24_Segment_8_x264_frame_3069.jpg', 'Cam7-From09-05-50To10-09-24_Segment_8_x264_frame_307.jpg', 'Cam7-From09-05-50To10-09-24_Segment_8_x264_frame_3072.jpg', 'Cam7-From09-05-50To10-09-24_Segment_8_x264_frame_3104.jpg', 'Cam7-From09-05-50To10-09-24_Segment_8_x264_frame_3109.jpg', 'Cam7-From09-05-50To10-09-24_Segment_8_x264_frame_3110.jpg', 'Cam7-From09-05-50To10-09-24_Segment_8_x264_frame_3111.jpg', 'Cam7-From09-05-50To10-09-24_Segment_8_x264_frame_3118.jpg', 'Cam7-From09-05-50To10-09-24_Segment_8_x264_frame_314.jpg', 'Cam7-From09-05-50To10-09-24_Segment_8_x264_frame_3140.jpg', 'Cam7-From09-05-50To10-09-24_Segment_8_x264_frame_3144.jpg', 'Cam7-From09-05-50To10-09-24_Segment_8_x264_frame_3148.jpg', 'Cam7-From09-05-50To10-09-24_Segment_8_x264_frame_3149.jpg', 'Cam7-From09-05-50To10-09-24_Segment_8_x264_frame_315.jpg', 'Cam7-From09-05-50To10-09-24_Segment_8_x264_frame_3153.jpg', 'Cam7-From09-05-50To10-09-24_Segment_8_x264_frame_3158.jpg', 'Cam7-From09-05-50To10-09-24_Segment_8_x264_frame_3162.jpg', 'Cam7-From09-05-50To10-09-24_Segment_8_x264_frame_3168.jpg', 'Cam7-From09-05-50To10-09-24_Segment_8_x264_frame_3181.jpg', 'Cam7-From09-05-50To10-09-24_Segment_8_x264_frame_3188.jpg', 'Cam7-From09-05-50To10-09-24_Segment_8_x264_frame_3189.jpg', 'Cam7-From09-05-50To10-09-24_Segment_8_x264_frame_319.jpg', 'Cam7-From09-05-50To10-09-24_Segment_8_x264_frame_3191.jpg', 'Cam7-From09-05-50To10-09-24_Segment_8_x264_frame_320.jpg', 'Cam7-From09-05-50To10-09-24_Segment_8_x264_frame_3207.jpg', 'Cam7-From09-05-50To10-09-24_Segment_8_x264_frame_3208.jpg', 'Cam7-From09-05-50To10-09-24_Segment_8_x264_frame_3218.jpg', 'Cam7-From09-05-50To10-09-24_Segment_8_x264_frame_3222.jpg', 'Cam7-From09-05-50To10-09-24_Segment_8_x264_frame_3224.jpg', 'Cam7-From09-05-50To10-09-24_Segment_8_x264_frame_3226.jpg', 'Cam7-From09-05-50To10-09-24_Segment_8_x264_frame_323.jpg', 'Cam7-From09-05-50To10-09-24_Segment_8_x264_frame_3231.jpg', 'Cam7-From09-05-50To10-09-24_Segment_8_x264_frame_3232.jpg', 'Cam7-From09-05-50To10-09-24_Segment_8_x264_frame_3242.jpg', 'Cam7-From09-05-50To10-09-24_Segment_8_x264_frame_3265.jpg', 'Cam7-From09-05-50To10-09-24_Segment_8_x264_frame_3267.jpg', 'Cam7-From09-05-50To10-09-24_Segment_8_x264_frame_3269.jpg', 'Cam7-From09-05-50To10-09-24_Segment_8_x264_frame_328.jpg', 'Cam7-From09-05-50To10-09-24_Segment_8_x264_frame_3284.jpg', 'Cam7-From09-05-50To10-09-24_Segment_8_x264_frame_329.jpg', 'Cam7-From09-05-50To10-09-24_Segment_8_x264_frame_3291.jpg', 'Cam7-From09-05-50To10-09-24_Segment_8_x264_frame_3295.jpg', 'Cam7-From09-05-50To10-09-24_Segment_8_x264_frame_3298.jpg', 'Cam7-From09-05-50To10-09-24_Segment_8_x264_frame_3303.jpg', 'Cam7-From09-05-50To10-09-24_Segment_8_x264_frame_3304.jpg', 'Cam7-From09-05-50To10-09-24_Segment_8_x264_frame_3305.jpg', 'Cam7-From09-05-50To10-09-24_Segment_8_x264_frame_3311.jpg', 'Cam7-From09-05-50To10-09-24_Segment_8_x264_frame_332.jpg', 'Cam7-From09-05-50To10-09-24_Segment_8_x264_frame_3321.jpg', 'Cam7-From09-05-50To10-09-24_Segment_8_x264_frame_3326.jpg', 'Cam7-From09-05-50To10-09-24_Segment_8_x264_frame_3327.jpg', 'Cam7-From09-05-50To10-09-24_Segment_8_x264_frame_3332.jpg', 'Cam7-From09-05-50To10-09-24_Segment_8_x264_frame_3333.jpg', 'Cam7-From09-05-50To10-09-24_Segment_8_x264_frame_3344.jpg', 'Cam7-From09-05-50To10-09-24_Segment_8_x264_frame_3345.jpg', 'Cam7-From09-05-50To10-09-24_Segment_8_x264_frame_3346.jpg', 'Cam7-From09-05-50To10-09-24_Segment_8_x264_frame_3350.jpg', 'Cam7-From09-05-50To10-09-24_Segment_8_x264_frame_3351.jpg', 'Cam7-From09-05-50To10-09-24_Segment_8_x264_frame_3352.jpg', 'Cam7-From09-05-50To10-09-24_Segment_8_x264_frame_3364.jpg', 'Cam7-From09-05-50To10-09-24_Segment_8_x264_frame_3365.jpg', 'Cam7-From09-05-50To10-09-24_Segment_8_x264_frame_3368.jpg', 'Cam7-From09-05-50To10-09-24_Segment_8_x264_frame_3372.jpg', 'Cam7-From09-05-50To10-09-24_Segment_8_x264_frame_3373.jpg', 'Cam7-From09-05-50To10-09-24_Segment_8_x264_frame_3383.jpg', 'Cam7-From09-05-50To10-09-24_Segment_8_x264_frame_3384.jpg', 'Cam7-From09-05-50To10-09-24_Segment_8_x264_frame_341.jpg', 'Cam7-From09-05-50To10-09-24_Segment_8_x264_frame_3419.jpg', 'Cam7-From09-05-50To10-09-24_Segment_8_x264_frame_3428.jpg', 'Cam7-From09-05-50To10-09-24_Segment_8_x264_frame_3437.jpg', 'Cam7-From09-05-50To10-09-24_Segment_8_x264_frame_344.jpg', 'Cam7-From09-05-50To10-09-24_Segment_8_x264_frame_3441.jpg', 'Cam7-From09-05-50To10-09-24_Segment_8_x264_frame_3456.jpg', 'Cam7-From09-05-50To10-09-24_Segment_8_x264_frame_346.jpg', 'Cam7-From09-05-50To10-09-24_Segment_8_x264_frame_3467.jpg', 'Cam7-From09-05-50To10-09-24_Segment_8_x264_frame_347.jpg', 'Cam7-From09-05-50To10-09-24_Segment_8_x264_frame_3471.jpg', 'Cam7-From09-05-50To10-09-24_Segment_8_x264_frame_3485.jpg', 'Cam7-From09-05-50To10-09-24_Segment_8_x264_frame_3490.jpg', 'Cam7-From09-05-50To10-09-24_Segment_8_x264_frame_3497.jpg', 'Cam7-From09-05-50To10-09-24_Segment_8_x264_frame_3503.jpg', 'Cam7-From09-05-50To10-09-24_Segment_8_x264_frame_3517.jpg', 'Cam7-From09-05-50To10-09-24_Segment_8_x264_frame_3530.jpg', 'Cam7-From09-05-50To10-09-24_Segment_8_x264_frame_3533.jpg', 'Cam7-From09-05-50To10-09-24_Segment_8_x264_frame_3536.jpg', 'Cam7-From09-05-50To10-09-24_Segment_8_x264_frame_354.jpg', 'Cam7-From09-05-50To10-09-24_Segment_8_x264_frame_3545.jpg', 'Cam7-From09-05-50To10-09-24_Segment_8_x264_frame_3549.jpg', 'Cam7-From09-05-50To10-09-24_Segment_8_x264_frame_3554.jpg', 'Cam7-From09-05-50To10-09-24_Segment_8_x264_frame_356.jpg', 'Cam7-From09-05-50To10-09-24_Segment_8_x264_frame_3566.jpg', 'Cam7-From09-05-50To10-09-24_Segment_8_x264_frame_3568.jpg', 'Cam7-From09-05-50To10-09-24_Segment_8_x264_frame_3573.jpg', 'Cam7-From09-05-50To10-09-24_Segment_8_x264_frame_3579.jpg', 'Cam7-From09-05-50To10-09-24_Segment_8_x264_frame_358.jpg', 'Cam7-From09-05-50To10-09-24_Segment_8_x264_frame_3581.jpg', 'Cam7-From09-05-50To10-09-24_Segment_8_x264_frame_3583.jpg', 'Cam7-From09-05-50To10-09-24_Segment_8_x264_frame_3585.jpg', 'Cam7-From09-05-50To10-09-24_Segment_8_x264_frame_3592.jpg', 'Cam7-From09-05-50To10-09-24_Segment_8_x264_frame_3595.jpg', 'Cam7-From09-05-50To10-09-24_Segment_8_x264_frame_3598.jpg', 'Cam7-From09-05-50To10-09-24_Segment_8_x264_frame_36.jpg', 'Cam7-From09-05-50To10-09-24_Segment_8_x264_frame_360.jpg', 'Cam7-From09-05-50To10-09-24_Segment_8_x264_frame_3603.jpg', 'Cam7-From09-05-50To10-09-24_Segment_8_x264_frame_3607.jpg', 'Cam7-From09-05-50To10-09-24_Segment_8_x264_frame_3612.jpg', 'Cam7-From09-05-50To10-09-24_Segment_8_x264_frame_3614.jpg', 'Cam7-From09-05-50To10-09-24_Segment_8_x264_frame_362.jpg', 'Cam7-From09-05-50To10-09-24_Segment_8_x264_frame_3625.jpg', 'Cam7-From09-05-50To10-09-24_Segment_8_x264_frame_3631.jpg', 'Cam7-From09-05-50To10-09-24_Segment_8_x264_frame_3639.jpg', 'Cam7-From09-05-50To10-09-24_Segment_8_x264_frame_3640.jpg', 'Cam7-From09-05-50To10-09-24_Segment_8_x264_frame_3643.jpg', 'Cam7-From09-05-50To10-09-24_Segment_8_x264_frame_3646.jpg', 'Cam7-From09-05-50To10-09-24_Segment_8_x264_frame_3655.jpg', 'Cam7-From09-05-50To10-09-24_Segment_8_x264_frame_3658.jpg', 'Cam7-From09-05-50To10-09-24_Segment_8_x264_frame_3661.jpg', 'Cam7-From09-05-50To10-09-24_Segment_8_x264_frame_3663.jpg', 'Cam7-From09-05-50To10-09-24_Segment_8_x264_frame_3669.jpg', 'Cam7-From09-05-50To10-09-24_Segment_8_x264_frame_3671.jpg', 'Cam7-From09-05-50To10-09-24_Segment_8_x264_frame_3675.jpg', 'Cam7-From09-05-50To10-09-24_Segment_8_x264_frame_3676.jpg', 'Cam7-From09-05-50To10-09-24_Segment_8_x264_frame_3681.jpg', 'Cam7-From09-05-50To10-09-24_Segment_8_x264_frame_3688.jpg', 'Cam7-From09-05-50To10-09-24_Segment_8_x264_frame_3705.jpg', 'Cam7-From09-05-50To10-09-24_Segment_8_x264_frame_376.jpg', 'Cam7-From09-05-50To10-09-24_Segment_8_x264_frame_378.jpg', 'Cam7-From09-05-50To10-09-24_Segment_8_x264_frame_379.jpg', 'Cam7-From09-05-50To10-09-24_Segment_8_x264_frame_394.jpg', 'Cam7-From09-05-50To10-09-24_Segment_8_x264_frame_396.jpg', 'Cam7-From09-05-50To10-09-24_Segment_8_x264_frame_404.jpg', 'Cam7-From09-05-50To10-09-24_Segment_8_x264_frame_405.jpg', 'Cam7-From09-05-50To10-09-24_Segment_8_x264_frame_418.jpg', 'Cam7-From09-05-50To10-09-24_Segment_8_x264_frame_420.jpg', 'Cam7-From09-05-50To10-09-24_Segment_8_x264_frame_425.jpg', 'Cam7-From09-05-50To10-09-24_Segment_8_x264_frame_426.jpg', 'Cam7-From09-05-50To10-09-24_Segment_8_x264_frame_428.jpg', 'Cam7-From09-05-50To10-09-24_Segment_8_x264_frame_436.jpg', 'Cam7-From09-05-50To10-09-24_Segment_8_x264_frame_437.jpg', 'Cam7-From09-05-50To10-09-24_Segment_8_x264_frame_440.jpg', 'Cam7-From09-05-50To10-09-24_Segment_8_x264_frame_452.jpg', 'Cam7-From09-05-50To10-09-24_Segment_8_x264_frame_456.jpg', 'Cam7-From09-05-50To10-09-24_Segment_8_x264_frame_466.jpg', 'Cam7-From09-05-50To10-09-24_Segment_8_x264_frame_470.jpg', 'Cam7-From09-05-50To10-09-24_Segment_8_x264_frame_49.jpg', 'Cam7-From09-05-50To10-09-24_Segment_8_x264_frame_495.jpg', 'Cam7-From09-05-50To10-09-24_Segment_8_x264_frame_497.jpg', 'Cam7-From09-05-50To10-09-24_Segment_8_x264_frame_498.jpg', 'Cam7-From09-05-50To10-09-24_Segment_8_x264_frame_502.jpg', 'Cam7-From09-05-50To10-09-24_Segment_8_x264_frame_509.jpg', 'Cam7-From09-05-50To10-09-24_Segment_8_x264_frame_514.jpg', 'Cam7-From09-05-50To10-09-24_Segment_8_x264_frame_519.jpg', 'Cam7-From09-05-50To10-09-24_Segment_8_x264_frame_521.jpg', 'Cam7-From09-05-50To10-09-24_Segment_8_x264_frame_525.jpg', 'Cam7-From09-05-50To10-09-24_Segment_8_x264_frame_527.jpg', 'Cam7-From09-05-50To10-09-24_Segment_8_x264_frame_531.jpg', 'Cam7-From09-05-50To10-09-24_Segment_8_x264_frame_55.jpg', 'Cam7-From09-05-50To10-09-24_Segment_8_x264_frame_554.jpg', 'Cam7-From09-05-50To10-09-24_Segment_8_x264_frame_557.jpg', 'Cam7-From09-05-50To10-09-24_Segment_8_x264_frame_567.jpg', 'Cam7-From09-05-50To10-09-24_Segment_8_x264_frame_572.jpg', 'Cam7-From09-05-50To10-09-24_Segment_8_x264_frame_576.jpg', 'Cam7-From09-05-50To10-09-24_Segment_8_x264_frame_577.jpg', 'Cam7-From09-05-50To10-09-24_Segment_8_x264_frame_581.jpg', 'Cam7-From09-05-50To10-09-24_Segment_8_x264_frame_582.jpg', 'Cam7-From09-05-50To10-09-24_Segment_8_x264_frame_59.jpg', 'Cam7-From09-05-50To10-09-24_Segment_8_x264_frame_594.jpg', 'Cam7-From09-05-50To10-09-24_Segment_8_x264_frame_598.jpg', 'Cam7-From09-05-50To10-09-24_Segment_8_x264_frame_607.jpg', 'Cam7-From09-05-50To10-09-24_Segment_8_x264_frame_618.jpg', 'Cam7-From09-05-50To10-09-24_Segment_8_x264_frame_624.jpg', 'Cam7-From09-05-50To10-09-24_Segment_8_x264_frame_629.jpg', 'Cam7-From09-05-50To10-09-24_Segment_8_x264_frame_632.jpg', 'Cam7-From09-05-50To10-09-24_Segment_8_x264_frame_634.jpg', 'Cam7-From09-05-50To10-09-24_Segment_8_x264_frame_635.jpg', 'Cam7-From09-05-50To10-09-24_Segment_8_x264_frame_637.jpg', 'Cam7-From09-05-50To10-09-24_Segment_8_x264_frame_640.jpg', 'Cam7-From09-05-50To10-09-24_Segment_8_x264_frame_643.jpg', 'Cam7-From09-05-50To10-09-24_Segment_8_x264_frame_645.jpg', 'Cam7-From09-05-50To10-09-24_Segment_8_x264_frame_651.jpg', 'Cam7-From09-05-50To10-09-24_Segment_8_x264_frame_658.jpg', 'Cam7-From09-05-50To10-09-24_Segment_8_x264_frame_66.jpg', 'Cam7-From09-05-50To10-09-24_Segment_8_x264_frame_668.jpg', 'Cam7-From09-05-50To10-09-24_Segment_8_x264_frame_670.jpg', 'Cam7-From09-05-50To10-09-24_Segment_8_x264_frame_684.jpg', 'Cam7-From09-05-50To10-09-24_Segment_8_x264_frame_69.jpg', 'Cam7-From09-05-50To10-09-24_Segment_8_x264_frame_690.jpg', 'Cam7-From09-05-50To10-09-24_Segment_8_x264_frame_691.jpg', 'Cam7-From09-05-50To10-09-24_Segment_8_x264_frame_692.jpg', 'Cam7-From09-05-50To10-09-24_Segment_8_x264_frame_694.jpg', 'Cam7-From09-05-50To10-09-24_Segment_8_x264_frame_70.jpg', 'Cam7-From09-05-50To10-09-24_Segment_8_x264_frame_702.jpg', 'Cam7-From09-05-50To10-09-24_Segment_8_x264_frame_704.jpg', 'Cam7-From09-05-50To10-09-24_Segment_8_x264_frame_709.jpg', 'Cam7-From09-05-50To10-09-24_Segment_8_x264_frame_710.jpg', 'Cam7-From09-05-50To10-09-24_Segment_8_x264_frame_719.jpg', 'Cam7-From09-05-50To10-09-24_Segment_8_x264_frame_730.jpg', 'Cam7-From09-05-50To10-09-24_Segment_8_x264_frame_732.jpg', 'Cam7-From09-05-50To10-09-24_Segment_8_x264_frame_734.jpg', 'Cam7-From09-05-50To10-09-24_Segment_8_x264_frame_75.jpg', 'Cam7-From09-05-50To10-09-24_Segment_8_x264_frame_752.jpg', 'Cam7-From09-05-50To10-09-24_Segment_8_x264_frame_756.jpg', 'Cam7-From09-05-50To10-09-24_Segment_8_x264_frame_76.jpg', 'Cam7-From09-05-50To10-09-24_Segment_8_x264_frame_762.jpg', 'Cam7-From09-05-50To10-09-24_Segment_8_x264_frame_766.jpg', 'Cam7-From09-05-50To10-09-24_Segment_8_x264_frame_77.jpg', 'Cam7-From09-05-50To10-09-24_Segment_8_x264_frame_782.jpg', 'Cam7-From09-05-50To10-09-24_Segment_8_x264_frame_786.jpg', 'Cam7-From09-05-50To10-09-24_Segment_8_x264_frame_790.jpg', 'Cam7-From09-05-50To10-09-24_Segment_8_x264_frame_792.jpg', 'Cam7-From09-05-50To10-09-24_Segment_8_x264_frame_797.jpg', 'Cam7-From09-05-50To10-09-24_Segment_8_x264_frame_799.jpg', 'Cam7-From09-05-50To10-09-24_Segment_8_x264_frame_8.jpg', 'Cam7-From09-05-50To10-09-24_Segment_8_x264_frame_804.jpg', 'Cam7-From09-05-50To10-09-24_Segment_8_x264_frame_806.jpg', 'Cam7-From09-05-50To10-09-24_Segment_8_x264_frame_808.jpg', 'Cam7-From09-05-50To10-09-24_Segment_8_x264_frame_81.jpg', 'Cam7-From09-05-50To10-09-24_Segment_8_x264_frame_811.jpg', 'Cam7-From09-05-50To10-09-24_Segment_8_x264_frame_813.jpg', 'Cam7-From09-05-50To10-09-24_Segment_8_x264_frame_826.jpg', 'Cam7-From09-05-50To10-09-24_Segment_8_x264_frame_827.jpg', 'Cam7-From09-05-50To10-09-24_Segment_8_x264_frame_831.jpg', 'Cam7-From09-05-50To10-09-24_Segment_8_x264_frame_842.jpg', 'Cam7-From09-05-50To10-09-24_Segment_8_x264_frame_844.jpg', 'Cam7-From09-05-50To10-09-24_Segment_8_x264_frame_845.jpg', 'Cam7-From09-05-50To10-09-24_Segment_8_x264_frame_847.jpg', 'Cam7-From09-05-50To10-09-24_Segment_8_x264_frame_849.jpg', 'Cam7-From09-05-50To10-09-24_Segment_8_x264_frame_850.jpg', 'Cam7-From09-05-50To10-09-24_Segment_8_x264_frame_853.jpg', 'Cam7-From09-05-50To10-09-24_Segment_8_x264_frame_857.jpg', 'Cam7-From09-05-50To10-09-24_Segment_8_x264_frame_860.jpg', 'Cam7-From09-05-50To10-09-24_Segment_8_x264_frame_864.jpg', 'Cam7-From09-05-50To10-09-24_Segment_8_x264_frame_872.jpg', 'Cam7-From09-05-50To10-09-24_Segment_8_x264_frame_874.jpg', 'Cam7-From09-05-50To10-09-24_Segment_8_x264_frame_876.jpg', 'Cam7-From09-05-50To10-09-24_Segment_8_x264_frame_879.jpg', 'Cam7-From09-05-50To10-09-24_Segment_8_x264_frame_883.jpg', 'Cam7-From09-05-50To10-09-24_Segment_8_x264_frame_887.jpg', 'Cam7-From09-05-50To10-09-24_Segment_8_x264_frame_892.jpg', 'Cam7-From09-05-50To10-09-24_Segment_8_x264_frame_895.jpg', 'Cam7-From09-05-50To10-09-24_Segment_8_x264_frame_896.jpg', 'Cam7-From09-05-50To10-09-24_Segment_8_x264_frame_905.jpg', 'Cam7-From09-05-50To10-09-24_Segment_8_x264_frame_909.jpg', 'Cam7-From09-05-50To10-09-24_Segment_8_x264_frame_914.jpg', 'Cam7-From09-05-50To10-09-24_Segment_8_x264_frame_917.jpg', 'Cam7-From09-05-50To10-09-24_Segment_8_x264_frame_919.jpg', 'Cam7-From09-05-50To10-09-24_Segment_8_x264_frame_925.jpg', 'Cam7-From09-05-50To10-09-24_Segment_8_x264_frame_926.jpg', 'Cam7-From09-05-50To10-09-24_Segment_8_x264_frame_930.jpg', 'Cam7-From09-05-50To10-09-24_Segment_8_x264_frame_931.jpg', 'Cam7-From09-05-50To10-09-24_Segment_8_x264_frame_932.jpg', 'Cam7-From09-05-50To10-09-24_Segment_8_x264_frame_944.jpg', 'Cam7-From09-05-50To10-09-24_Segment_8_x264_frame_960.jpg', 'Cam7-From09-05-50To10-09-24_Segment_8_x264_frame_965.jpg', 'Cam7-From09-05-50To10-09-24_Segment_8_x264_frame_969.jpg', 'Cam7-From09-05-50To10-09-24_Segment_8_x264_frame_97.jpg', 'Cam7-From09-05-50To10-09-24_Segment_8_x264_frame_971.jpg', 'Cam7-From09-05-50To10-09-24_Segment_8_x264_frame_973.jpg', 'Cam7-From09-05-50To10-09-24_Segment_8_x264_frame_974.jpg', 'Cam7-From09-05-50To10-09-24_Segment_8_x264_frame_987.jpg', 'Cam7-From09-05-50To10-09-24_Segment_8_x264_frame_99.jpg', 'Cam7-From09-05-50To10-09-24_Segment_9_x264_frame_1.jpg', 'Cam7-From09-05-50To10-09-24_Segment_9_x264_frame_13.jpg', 'Cam7-From09-05-50To10-09-24_Segment_9_x264_frame_14.jpg', 'Cam7-From09-05-50To10-09-24_Segment_9_x264_frame_18.jpg', 'Cam7-From09-05-50To10-09-24_Segment_9_x264_frame_24.jpg', 'Cam7-From09-05-50To10-09-24_Segment_9_x264_frame_31.jpg', 'Cam7-From09-05-50To10-09-24_Segment_9_x264_frame_33.jpg', 'Cam7-From09-05-50To10-09-24_Segment_9_x264_frame_34.jpg', 'Cam7-From09-05-50To10-09-24_Segment_9_x264_frame_37.jpg', 'Cam7-From09-05-50To10-09-24_Segment_9_x264_frame_40.jpg', 'Cam7-From09-05-50To10-09-24_Segment_9_x264_frame_42.jpg', 'Cam7-From09-05-50To10-09-24_Segment_9_x264_frame_50.jpg']\n"
     ]
    }
   ],
   "source": [
    "import os\n",
    "\n",
    "val_dir = r\"C:\\Users\\taylo\\Documents\\personal\\Masters\\Capstone\\Data\\export-mock-attack-dataset\\images\\val\"\n",
    "print(\"Files in validation directory:\")\n",
    "print(os.listdir(val_dir))\n"
   ]
  }
 ],
 "metadata": {
  "kernelspec": {
   "display_name": "latest_python",
   "language": "python",
   "name": "python3"
  },
  "language_info": {
   "codemirror_mode": {
    "name": "ipython",
    "version": 3
   },
   "file_extension": ".py",
   "mimetype": "text/x-python",
   "name": "python",
   "nbconvert_exporter": "python",
   "pygments_lexer": "ipython3",
   "version": "3.10.14"
  }
 },
 "nbformat": 4,
 "nbformat_minor": 2
}
